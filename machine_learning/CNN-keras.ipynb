{
 "cells": [
  {
   "cell_type": "markdown",
   "metadata": {},
   "source": [
    "## Xây dựng model cho Conv Net:\n",
    "\n",
    "![](../img/model_conv.png)"
   ]
  },
  {
   "cell_type": "code",
   "execution_count": 16,
   "metadata": {},
   "outputs": [
    {
     "name": "stdout",
     "output_type": "stream",
     "text": [
      "(50000, 28, 28)\n",
      "X train :\n",
      " [[[0 0 0 ... 0 0 0]\n",
      "  [0 0 0 ... 0 0 0]\n",
      "  [0 0 0 ... 0 0 0]\n",
      "  ...\n",
      "  [0 0 0 ... 0 0 0]\n",
      "  [0 0 0 ... 0 0 0]\n",
      "  [0 0 0 ... 0 0 0]]\n",
      "\n",
      " [[0 0 0 ... 0 0 0]\n",
      "  [0 0 0 ... 0 0 0]\n",
      "  [0 0 0 ... 0 0 0]\n",
      "  ...\n",
      "  [0 0 0 ... 0 0 0]\n",
      "  [0 0 0 ... 0 0 0]\n",
      "  [0 0 0 ... 0 0 0]]\n",
      "\n",
      " [[0 0 0 ... 0 0 0]\n",
      "  [0 0 0 ... 0 0 0]\n",
      "  [0 0 0 ... 0 0 0]\n",
      "  ...\n",
      "  [0 0 0 ... 0 0 0]\n",
      "  [0 0 0 ... 0 0 0]\n",
      "  [0 0 0 ... 0 0 0]]\n",
      "\n",
      " [[0 0 0 ... 0 0 0]\n",
      "  [0 0 0 ... 0 0 0]\n",
      "  [0 0 0 ... 0 0 0]\n",
      "  ...\n",
      "  [0 0 0 ... 0 0 0]\n",
      "  [0 0 0 ... 0 0 0]\n",
      "  [0 0 0 ... 0 0 0]]\n",
      "\n",
      " [[0 0 0 ... 0 0 0]\n",
      "  [0 0 0 ... 0 0 0]\n",
      "  [0 0 0 ... 0 0 0]\n",
      "  ...\n",
      "  [0 0 0 ... 0 0 0]\n",
      "  [0 0 0 ... 0 0 0]\n",
      "  [0 0 0 ... 0 0 0]]]\n",
      "y_train : [5 0 4 1 9]\n"
     ]
    }
   ],
   "source": [
    "import numpy as np\n",
    "import matplotlib.pyplot as plt\n",
    "from keras.models import Sequential\n",
    "from keras.layers import Dense, Dropout, Activation, Flatten\n",
    "from keras.layers import Conv2D, MaxPooling2D\n",
    "from keras.utils import np_utils\n",
    "from keras.datasets import mnist\n",
    "\n",
    "# Load data from MNIST\n",
    "(X_train, y_train), (X_test, y_test) = mnist.load_data()\n",
    "# Valitation set\n",
    "X_val, y_val = X_train[50000:60000:], y_train[50000:60000:]\n",
    "# Training set\n",
    "X_train, y_train = X_train[:50000], y_train[:50000]\n",
    "print(X_train.shape)\n",
    "print(f\"X train :\\n {X_train[0:5,:]}\")\n",
    "print(f\"y_train : {y_train[0:5]}\")"
   ]
  },
  {
   "cell_type": "markdown",
   "metadata": {},
   "source": [
    "Dữ liệu input cho mô hình convolutional neural network là 1 tensor 4 chiều (N, W, H, D), trong bài này là ảnh xám nên W = H = 28, D = 1, N là số lượng ảnh cho mỗi lần training. Do dữ liệu ảnh ở trên có kích thước là (N, 28, 28) tức là (N, W, H) nên rần reshape lại thành kích thước N 28 28 * 1 để giống kích thước mà keras yêu cầu."
   ]
  },
  {
   "cell_type": "code",
   "execution_count": 17,
   "metadata": {},
   "outputs": [
    {
     "name": "stdout",
     "output_type": "stream",
     "text": [
      "(50000, 28, 28, 1)\n"
     ]
    }
   ],
   "source": [
    "# Reshape data for keras\n",
    "# n_samples training\n",
    "def ReshapeInputX(list_x):\n",
    "    return tuple([X.reshape(X.shape[0], 28, 28, 1) for X in list_x])\n",
    "\n",
    "# 3. Reshape lại dữ liệu cho đúng kích thước mà keras yêu cầu\n",
    "# X_train = X_train.reshape(X_train.shape[0], 28, 28, 1)\n",
    "# X_val = X_val.reshape(X_val.shape[0], 28, 28, 1)\n",
    "# X_test = X_test.reshape(X_test.shape[0], 28, 28, 1)\n",
    "X_train, X_val, X_test = ReshapeInputX((X_train, X_val, X_test))\n",
    "print(X_train.shape)\n",
    "\n"
   ]
  },
  {
   "cell_type": "markdown",
   "metadata": {},
   "source": [
    "### One-hot encoded for label"
   ]
  },
  {
   "cell_type": "code",
   "execution_count": 18,
   "metadata": {},
   "outputs": [
    {
     "name": "stdout",
     "output_type": "stream",
     "text": [
      "[[0. 0. 0. 0. 0. 1. 0. 0. 0. 0.]\n",
      " [1. 0. 0. 0. 0. 0. 0. 0. 0. 0.]\n",
      " [0. 0. 0. 0. 1. 0. 0. 0. 0. 0.]\n",
      " [0. 1. 0. 0. 0. 0. 0. 0. 0. 0.]\n",
      " [0. 0. 0. 0. 0. 0. 0. 0. 0. 1.]\n",
      " [0. 0. 1. 0. 0. 0. 0. 0. 0. 0.]\n",
      " [0. 1. 0. 0. 0. 0. 0. 0. 0. 0.]\n",
      " [0. 0. 0. 1. 0. 0. 0. 0. 0. 0.]\n",
      " [0. 1. 0. 0. 0. 0. 0. 0. 0. 0.]\n",
      " [0. 0. 0. 0. 1. 0. 0. 0. 0. 0.]]\n"
     ]
    }
   ],
   "source": [
    "def convertToOneHot(tupleY):\n",
    "    return tuple([np_utils.to_categorical(Y, 10) for Y in tupleY])\n",
    "Y_train, Y_val = convertToOneHot((y_train, y_val))\n",
    "print(Y_train[0:10])\n"
   ]
  },
  {
   "cell_type": "markdown",
   "metadata": {},
   "source": [
    "### Define model\n",
    "\n",
    "1. Model = Sequential() để nói cho keras là ta sẽ xếp các layer lên nhau để tạo model. Ví dụ input -> CONV -> POOL -> CONV -> POOL -> FLATTEN -> FC -> OUTPUT\n",
    "2. Ở layer đầu tiên cần chỉ rõ input_shape của ảnh, input_shape = (W, H, D), ta dùng ảnh xám kích thước (28,28) nên input_shape = (28, 28, 1)\n",
    "3. Khi thêm Convolutional Layer ta cần chỉ rõ các tham số: K (số lượng layer), kernel size (W, H), hàm activation sử dụng. cấu trúc: model.add(Conv2D(K, (W, H), activation='tên_hàm_activation'))\n",
    "4. Khi thêm Maxpooling Layer cần chỉ rõ size của kernel, model.add(MaxPooling2D(pool_size=(W, H)))\n",
    "5. Bước Flatten chuyển từ tensor sang vector chỉ cần thêm flatten layer.\n",
    "6. Để thêm Fully Connected Layer (FC) cần chỉ rõ số lượng node trong layer và hàm activation sử dụng trong layer, cấu trúc: model.add(Dense(số_lượng_node activation='tên_hàm activation'))"
   ]
  },
  {
   "cell_type": "code",
   "execution_count": 19,
   "metadata": {},
   "outputs": [],
   "source": [
    "model = Sequential()\n",
    "\n",
    "# Thêm Convolutional layer với 32 kernel, kích thước kernel 3*3     \n",
    "# dùng hàm sigmoid làm activation và chỉ rõ input_shape cho layer đầu tiên\n",
    "model.add(Conv2D(32, (3, 3), activation='sigmoid', input_shape=(28,28,1)))\n",
    "\n",
    "# Thêm Convolutional layer 2\n",
    "model.add(Conv2D(32, (3, 3), activation='sigmoid'))\n",
    "\n",
    "# Thêm Maxpooling layer\n",
    "model.add(MaxPooling2D(pool_size=(2,2)))\n",
    "\n",
    "# Flatten \n",
    "model.add(Flatten())\n",
    "\n",
    "# Thêm fully connected layer vs 128 nodes dùng activate function là sigmoid\n",
    "model.add(Dense(128, activation='sigmoid'))\n",
    "\n",
    "# Thêm fully connected layer vs 10 nodes và dùng activate function là softmax\n",
    "model.add(Dense(10, activation='softmax'))\n",
    "\n"
   ]
  },
  {
   "cell_type": "markdown",
   "metadata": {},
   "source": [
    "### Compile model\n"
   ]
  },
  {
   "cell_type": "code",
   "execution_count": 20,
   "metadata": {},
   "outputs": [
    {
     "name": "stdout",
     "output_type": "stream",
     "text": [
      "Epoch 1/10\n",
      "1563/1563 [==============================] - 74s 47ms/step - loss: 0.2856 - accuracy: 0.9218 - val_loss: 0.0654 - val_accuracy: 0.9825\n",
      "Epoch 2/10\n",
      "1563/1563 [==============================] - 80s 51ms/step - loss: 0.0572 - accuracy: 0.9838 - val_loss: 0.0503 - val_accuracy: 0.9851\n",
      "Epoch 3/10\n",
      "1563/1563 [==============================] - 83s 53ms/step - loss: 0.0360 - accuracy: 0.9900 - val_loss: 0.0425 - val_accuracy: 0.9869\n",
      "Epoch 4/10\n",
      "1563/1563 [==============================] - 86s 55ms/step - loss: 0.0246 - accuracy: 0.9930 - val_loss: 0.0420 - val_accuracy: 0.9877\n",
      "Epoch 5/10\n",
      "1563/1563 [==============================] - 79s 50ms/step - loss: 0.0159 - accuracy: 0.9955 - val_loss: 0.0405 - val_accuracy: 0.9888\n",
      "Epoch 6/10\n",
      "1563/1563 [==============================] - 80s 51ms/step - loss: 0.0107 - accuracy: 0.9973 - val_loss: 0.0452 - val_accuracy: 0.9876\n",
      "Epoch 7/10\n",
      "1563/1563 [==============================] - 80s 51ms/step - loss: 0.0077 - accuracy: 0.9979 - val_loss: 0.0406 - val_accuracy: 0.9870\n",
      "Epoch 8/10\n",
      "1563/1563 [==============================] - 83s 53ms/step - loss: 0.0055 - accuracy: 0.9986 - val_loss: 0.0449 - val_accuracy: 0.9877\n",
      "Epoch 9/10\n",
      "1563/1563 [==============================] - 89s 57ms/step - loss: 0.0042 - accuracy: 0.9989 - val_loss: 0.0411 - val_accuracy: 0.9901\n",
      "Epoch 10/10\n",
      "1563/1563 [==============================] - 86s 55ms/step - loss: 0.0026 - accuracy: 0.9995 - val_loss: 0.0448 - val_accuracy: 0.9885\n"
     ]
    }
   ],
   "source": [
    "model.compile(loss='categorical_crossentropy',\n",
    "              optimizer='adam',\n",
    "              metrics=['accuracy'])\n",
    "\n",
    "# 7. Thực hiện train model\n",
    "H = model.fit(X_train, Y_train, validation_data=(X_val, Y_val),\n",
    "              batch_size=32, epochs=10, verbose=1)"
   ]
  }
 ],
 "metadata": {
  "kernelspec": {
   "display_name": "Python 3.9.6 64-bit",
   "language": "python",
   "name": "python3"
  },
  "language_info": {
   "codemirror_mode": {
    "name": "ipython",
    "version": 3
   },
   "file_extension": ".py",
   "mimetype": "text/x-python",
   "name": "python",
   "nbconvert_exporter": "python",
   "pygments_lexer": "ipython3",
   "version": "3.9.6"
  },
  "orig_nbformat": 4,
  "vscode": {
   "interpreter": {
    "hash": "c2fce2166ecf35e10e9706810c05663b0d742ad8d6d30f48ef9e954a1f466467"
   }
  }
 },
 "nbformat": 4,
 "nbformat_minor": 2
}
