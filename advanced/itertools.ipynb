{
 "cells": [
  {
   "cell_type": "markdown",
   "metadata": {},
   "source": [
    "# Itertools\n",
    "\n",
    "Gốm:\n",
    "\n",
    "- product\n",
    "- permutations\n",
    "- combinations\n",
    "- accumulate\n",
    "- groupby\n",
    "- infinite iterators"
   ]
  },
  {
   "cell_type": "markdown",
   "metadata": {},
   "source": [
    "## 1. product\n"
   ]
  },
  {
   "cell_type": "code",
   "execution_count": 1,
   "metadata": {},
   "outputs": [
    {
     "name": "stdout",
     "output_type": "stream",
     "text": [
      "[(1, 3, 1, 3), (1, 3, 1, 4), (1, 3, 2, 3), (1, 3, 2, 4), (1, 4, 1, 3), (1, 4, 1, 4), (1, 4, 2, 3), (1, 4, 2, 4), (2, 3, 1, 3), (2, 3, 1, 4), (2, 3, 2, 3), (2, 3, 2, 4), (2, 4, 1, 3), (2, 4, 1, 4), (2, 4, 2, 3), (2, 4, 2, 4)]\n"
     ]
    }
   ],
   "source": [
    "from itertools import product\n",
    "\n",
    "a = [1,2]\n",
    "b = [3,4]\n",
    "prod = product(a, b, repeat=2)\n",
    "print(list(prod))"
   ]
  },
  {
   "cell_type": "markdown",
   "metadata": {},
   "source": [
    "## 2. permutations\n"
   ]
  },
  {
   "cell_type": "code",
   "execution_count": 4,
   "metadata": {},
   "outputs": [
    {
     "name": "stdout",
     "output_type": "stream",
     "text": [
      "[(1, 2, 3), (1, 3, 2), (2, 1, 3), (2, 3, 1), (3, 1, 2), (3, 2, 1)]\n",
      "[(1, 2), (1, 3), (2, 1), (2, 3), (3, 1), (3, 2)]\n"
     ]
    }
   ],
   "source": [
    "\n",
    "from itertools import permutations\n",
    "\n",
    "a = [1,2,3]\n",
    "perm = permutations(a)\n",
    "perm2 = permutations(a,2)\n",
    "print(list(perm))\n",
    "print(list(perm2))"
   ]
  },
  {
   "cell_type": "markdown",
   "metadata": {},
   "source": [
    "## 3. combinations\n"
   ]
  },
  {
   "cell_type": "code",
   "execution_count": 6,
   "metadata": {},
   "outputs": [
    {
     "name": "stdout",
     "output_type": "stream",
     "text": [
      "[(1, 2), (1, 3), (1, 4), (2, 3), (2, 4), (3, 4)]\n",
      "[(1, 1), (1, 2), (1, 3), (1, 4), (2, 2), (2, 3), (2, 4), (3, 3), (3, 4), (4, 4)]\n"
     ]
    }
   ],
   "source": [
    "from itertools import combinations, combinations_with_replacement\n",
    "\n",
    "a = [1,2,3,4]\n",
    "comb = combinations(a,2)\n",
    "print(list(comb))\n",
    "comb_wr = combinations_with_replacement(a,2)\n",
    "print(list(comb_wr))"
   ]
  },
  {
   "cell_type": "markdown",
   "metadata": {},
   "source": [
    "## 4. groupby"
   ]
  },
  {
   "cell_type": "code",
   "execution_count": 9,
   "metadata": {},
   "outputs": [
    {
     "name": "stdout",
     "output_type": "stream",
     "text": [
      "True [1, 2]\n",
      "False [3, 4]\n",
      "False [{'name': 'Tim', 'age': 25}, {'name': 'Dan', 'age': 25}]\n",
      "True [{'name': 'Lisa', 'age': 27}, {'name': 'Claire', 'age': 28}]\n"
     ]
    }
   ],
   "source": [
    "from itertools import groupby\n",
    "def smaller_than_3(x):\n",
    "    return x<3\n",
    "\n",
    "a = [1,2,3,4]\n",
    "group_obj = groupby(a, smaller_than_3)\n",
    "for key, value in group_obj:\n",
    "    print(key, list(value))\n",
    "\n",
    "b = [{'name':'Tim', 'age':25}, {'name':'Dan', 'age':25}, {'name':'Lisa', 'age':27}, {'name':'Claire', 'age':28}]\n",
    "\n",
    "group_obj = groupby(b, key=lambda x: x['age'] > 25)\n",
    "for key, value in group_obj:\n",
    "    print(key, list(value))\n"
   ]
  },
  {
   "cell_type": "markdown",
   "metadata": {},
   "source": [
    "## 5. repeat, cycle, count\n",
    "\n",
    "- cycle sẽ loop trong phạm vi các phần tử mảng (infinite loop)\n",
    "- repeat(value, n) sẽ lặp lại value loop n lần \n"
   ]
  },
  {
   "cell_type": "code",
   "execution_count": 11,
   "metadata": {},
   "outputs": [
    {
     "name": "stdout",
     "output_type": "stream",
     "text": [
      "1\n",
      "1\n",
      "1\n",
      "1\n"
     ]
    }
   ],
   "source": [
    "from itertools import count, cycle, repeat\n",
    "\n",
    "a = [1,2,3]\n",
    "for i in repeat(1,4):\n",
    "    print(i)"
   ]
  }
 ],
 "metadata": {
  "kernelspec": {
   "display_name": "Python 3.9.6 64-bit",
   "language": "python",
   "name": "python3"
  },
  "language_info": {
   "codemirror_mode": {
    "name": "ipython",
    "version": 3
   },
   "file_extension": ".py",
   "mimetype": "text/x-python",
   "name": "python",
   "nbconvert_exporter": "python",
   "pygments_lexer": "ipython3",
   "version": "3.9.6"
  },
  "orig_nbformat": 4,
  "vscode": {
   "interpreter": {
    "hash": "c2fce2166ecf35e10e9706810c05663b0d742ad8d6d30f48ef9e954a1f466467"
   }
  }
 },
 "nbformat": 4,
 "nbformat_minor": 2
}
