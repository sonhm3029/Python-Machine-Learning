{
 "cells": [
  {
   "cell_type": "markdown",
   "metadata": {},
   "source": [
    "# sử dụng thư viện collections\n",
    "\n",
    "## 1. Counter"
   ]
  },
  {
   "cell_type": "code",
   "execution_count": 10,
   "metadata": {},
   "outputs": [
    {
     "name": "stdout",
     "output_type": "stream",
     "text": [
      "<class 'collections.Counter'>\n",
      "Counter({'b': 8, 'a': 5, 'c': 5})\n",
      "Counter({8: 3, 1: 2, 5: 2, 7: 2, 2: 1, 3: 1, 12: 1, 64: 1, 9: 1})\n",
      "dict_items([('a', 5), ('b', 8), ('c', 5)])\n",
      "dict_keys(['a', 'b', 'c'])\n",
      "dict_values([5, 8, 5])\n",
      "[('b', 8)]\n",
      "[('b', 8), ('a', 5)]\n",
      "['a', 'a', 'a', 'a', 'a', 'b', 'b', 'b', 'b', 'b', 'b', 'b', 'b', 'c', 'c', 'c', 'c', 'c']\n"
     ]
    }
   ],
   "source": [
    "# collections: Counter, namedtuple, OrderedDict, defaultdict, deque\n",
    "from collections import Counter\n",
    "\n",
    "a = \"aaaaabbbbbbbbccccc\"\n",
    "b = [1,1,2,3,5,12,5,64,7,7,8,8,8,9]\n",
    "my_counter = Counter(a)\n",
    "print(type(my_counter))\n",
    "print(my_counter)\n",
    "print(Counter(b))\n",
    "print(my_counter.items())\n",
    "print(my_counter.keys())\n",
    "print(my_counter.values())\n",
    "print(my_counter.most_common(1))\n",
    "print(my_counter.most_common(2))\n",
    "print(list(my_counter.elements()))"
   ]
  }
 ],
 "metadata": {
  "kernelspec": {
   "display_name": "Python 3.9.6 64-bit",
   "language": "python",
   "name": "python3"
  },
  "language_info": {
   "codemirror_mode": {
    "name": "ipython",
    "version": 3
   },
   "file_extension": ".py",
   "mimetype": "text/x-python",
   "name": "python",
   "nbconvert_exporter": "python",
   "pygments_lexer": "ipython3",
   "version": "3.9.6"
  },
  "orig_nbformat": 4,
  "vscode": {
   "interpreter": {
    "hash": "c2fce2166ecf35e10e9706810c05663b0d742ad8d6d30f48ef9e954a1f466467"
   }
  }
 },
 "nbformat": 4,
 "nbformat_minor": 2
}
