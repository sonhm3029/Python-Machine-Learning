{
 "cells": [
  {
   "cell_type": "code",
   "execution_count": null,
   "metadata": {},
   "outputs": [],
   "source": [
    "import time\n",
    "from threading import Thread\n",
    "import os\n",
    "\n",
    "db_value = 0\n",
    "\n",
    "def increase(thread_name):\n",
    "    global db_value\n",
    "    \n",
    "    print(f\"Thread {thread_name} with init value: {db_value}\")\n",
    "    local_copy = db_value\n",
    "    \n",
    "    # processing\n",
    "    local_copy +=1\n",
    "    time.sleep(0.1)\n",
    "    db_value = local_copy\n",
    "    print(f\"Done thread {thread_name}!\")\n",
    "    \n",
    "        \n",
    "if __name__ == '__main__':\n",
    "    print(f'start value: {db_value}')\n",
    "    \n",
    "    thread1 = Thread(target=increase, args=(1,))\n",
    "    thread2 = Thread(target=increase, args=(2,))\n",
    "    \n",
    "    thread1.start()\n",
    "    thread2.start()\n",
    "    \n",
    "    thread1.join()\n",
    "    thread2.join()\n",
    "    \n",
    "    print(f\"End value: {db_value}\")\n",
    "\n",
    "    print('end main')\n",
    "\n"
   ]
  },
  {
   "cell_type": "markdown",
   "metadata": {},
   "source": [
    "Lý do có 2 thread chạy mà end value lại là 1 là do khi đang chạy thread 1 đến dòng `time.sleep(0.1)` khi đó hệ thống sẽ chạy luôn thread 2 => lúc đó thì `db_value` vẫn là 0 => sau khi chạy 2 thread thì giá trị cuối cùng của `db_value` là 1.\n",
    "\n",
    "Có thể nhận ra điều này vì nhìn console in ra thì dòng `Thread 2 with init...` xuất hiện trước khi `Done thread 1`\n",
    "\n",
    "Có một cách để ngăn việc chạy sang thread khác trước khi thread này chạy chưa xong là dòng `Lock` như sau:"
   ]
  },
  {
   "cell_type": "code",
   "execution_count": 2,
   "metadata": {},
   "outputs": [
    {
     "name": "stdout",
     "output_type": "stream",
     "text": [
      "start value: 0\n",
      "Thread 1 with init value: 0\n",
      "Done thread 1!\n",
      "Thread 2 with init value: 1\n",
      "Done thread 2!\n",
      "End value: 2\n",
      "end main\n"
     ]
    }
   ],
   "source": [
    "import time\n",
    "from threading import Thread, Lock\n",
    "import os\n",
    "\n",
    "db_value = 0\n",
    "\n",
    "def increase(thread_name, lock):\n",
    "    global db_value\n",
    "    \n",
    "    # lock.acquire()\n",
    "    # print(f\"Thread {thread_name} with init value: {db_value}\")\n",
    "    # local_copy = db_value\n",
    "    \n",
    "    # # processing\n",
    "    # local_copy +=1\n",
    "    # time.sleep(0.1)\n",
    "    # db_value = local_copy\n",
    "    # print(f\"Done thread {thread_name}!\")\n",
    "    # lock.release()\n",
    "    \n",
    "    # HOặc\n",
    "    with lock:\n",
    "        print(f\"Thread {thread_name} with init value: {db_value}\")\n",
    "        local_copy = db_value\n",
    "\n",
    "        # processing\n",
    "        local_copy +=1\n",
    "        time.sleep(0.1)\n",
    "        db_value = local_copy\n",
    "        print(f\"Done thread {thread_name}!\")\n",
    "    \n",
    "        \n",
    "if __name__ == '__main__':\n",
    "    print(f'start value: {db_value}')\n",
    "    lock = Lock()\n",
    "    \n",
    "    thread1 = Thread(target=increase, args=(1,lock,))\n",
    "    thread2 = Thread(target=increase, args=(2,lock,))\n",
    "    \n",
    "    thread1.start()\n",
    "    thread2.start()\n",
    "    \n",
    "    thread1.join()\n",
    "    thread2.join()\n",
    "    \n",
    "    print(f\"End value: {db_value}\")\n",
    "\n",
    "    print('end main')\n",
    "\n"
   ]
  },
  {
   "cell_type": "markdown",
   "metadata": {},
   "source": [
    "Một cách khác để thực hiện các task sao cho theo đúng thứ tự là sử dụng `Queue`"
   ]
  },
  {
   "cell_type": "code",
   "execution_count": 3,
   "metadata": {},
   "outputs": [
    {
     "name": "stdout",
     "output_type": "stream",
     "text": [
      "in Thread-18 got 1\n",
      "in Thread-18 got 2\n",
      "in Thread-18 got 3\n",
      "in Thread-18 got 4\n",
      "in Thread-18 got 5\n",
      "in Thread-18 got 6\n",
      "in Thread-18 got 7\n",
      "in Thread-18 got 8\n",
      "in Thread-18 got 9\n",
      "end main\n"
     ]
    }
   ],
   "source": [
    "from queue import Queue\n",
    "from threading import Thread, Lock, current_thread\n",
    "import time\n",
    "\n",
    "def worker(q):\n",
    "    while True:\n",
    "        value = q.get()\n",
    "        # processing..\n",
    "        print(f'in {current_thread().name} got {value}')\n",
    "        q.task_done()\n",
    "\n",
    "if __name__ == \"__main__\":\n",
    "    \n",
    "    q = Queue()\n",
    "    \n",
    "    num_threads = 10\n",
    "    \n",
    "    for i in range(num_threads):\n",
    "        thread = Thread(target=worker, args=(q,))\n",
    "        thread.daemon = True\n",
    "        thread.start()\n",
    "    \n",
    "    for i in range(1, 10):\n",
    "        q.put(i)\n",
    "        \n",
    "    q.join()\n",
    "    print('end main')"
   ]
  }
 ],
 "metadata": {
  "kernelspec": {
   "display_name": "Python 3.9.7 ('base')",
   "language": "python",
   "name": "python3"
  },
  "language_info": {
   "codemirror_mode": {
    "name": "ipython",
    "version": 3
   },
   "file_extension": ".py",
   "mimetype": "text/x-python",
   "name": "python",
   "nbconvert_exporter": "python",
   "pygments_lexer": "ipython3",
   "version": "3.9.7"
  },
  "orig_nbformat": 4,
  "vscode": {
   "interpreter": {
    "hash": "a99539085cd3bdd5c32c96cfbe8da0377cdfd87c78a129b6678f1e2495c8398d"
   }
  }
 },
 "nbformat": 4,
 "nbformat_minor": 2
}
