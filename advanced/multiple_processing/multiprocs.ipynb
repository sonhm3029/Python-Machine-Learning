{
 "cells": [
  {
   "cell_type": "code",
   "execution_count": 18,
   "metadata": {},
   "outputs": [
    {
     "name": "stdout",
     "output_type": "stream",
     "text": [
      "Number of cpus: 4\n",
      "end main\n",
      "end main\n",
      "end main\n",
      "end main\n"
     ]
    }
   ],
   "source": [
    "\"\"\"\n",
    "Process: An instance of a program(e.g Python interperter)\n",
    "\n",
    "+ Take advantage of multiple CPUs and cores\n",
    "+ Separate memory space -> Memory is not shared between processes\n",
    "+ Great for CPU-bound processing\n",
    "+ New process is stated independently from other processes\n",
    "+ Processes are interuptable/killable\n",
    "+ One GIL for each process -> avoids GIL limitation\n",
    "\n",
    "- Heavy weight\n",
    "- Starting a process is slower than starting a thread\n",
    "- More memory\n",
    "- IPC (inter-process communication) is more complicated\n",
    "\"\"\"\n",
    "\n",
    "\"\"\"\n",
    "Threads: An entity within a process that can be scheduled (also known as \"leightweight process\")\n",
    "A process can spawn multiple threads\n",
    "\n",
    "+ All threads within a process share the same memory\n",
    "+ Leightweight\n",
    "+ Starting a thread is faster than starting a process\n",
    "+ Great for I/O-bound tasks\n",
    "\n",
    "- Threading is limited by GIL: Only one thread at a time\n",
    "- No effect for CPU-bound tasks\n",
    "- Not interruptable/killabel\n",
    "- Careful with race conditions\n",
    "\"\"\"\n",
    "\n",
    "\"\"\"\n",
    "GIL: Global interperter lock\n",
    "- A lock that allows only one thread at a time to execute in Python\n",
    "\n",
    "- Needed in CPython because memory management is not thread-safe\n",
    "\n",
    "- Avoid:\n",
    "    - Use multiple processing\n",
    "    - Use a different, free-threaded Python implementation (Jython, IronPython)\n",
    "    - Use Python as a wrapper for third-party libraries (C/C++) -> numpy, scipy\n",
    "\"\"\"\n",
    "\n",
    "from multiprocessing import Process\n",
    "import os\n",
    "import time\n",
    "\n",
    "\n",
    "processes = []\n",
    "num_processes = os.cpu_count()\n",
    "\n",
    "\n",
    "print(f\"Number of cpus: {num_processes}\")\n",
    "def square_num():\n",
    "    for i in range(100):\n",
    "        i*i\n",
    "        time.sleep(0.1)\n",
    "\n",
    "\n",
    "\n",
    "if __name__ == \"__main__\":\n",
    "    for i in range(num_processes):\n",
    "        process = Process(target=square_num)\n",
    "        processes.append(process)\n",
    "\n",
    "    # Start processes\n",
    "    for process in processes:\n",
    "        process.start()\n",
    "\n",
    "    # Join processes\n",
    "    for process in processes:\n",
    "        process.join()\n",
    "        print('end main')\n",
    "\n",
    "    "
   ]
  },
  {
   "cell_type": "markdown",
   "metadata": {},
   "source": [
    "Do các process làm việc trong không gian tách biệt, khác nhau nên để sử dụng shared value giữa chúng thì dùng `Value` và `Array`..."
   ]
  },
  {
   "cell_type": "code",
   "execution_count": 20,
   "metadata": {},
   "outputs": [
    {
     "name": "stdout",
     "output_type": "stream",
     "text": [
      "Number of cpu: 4\n",
      "Number at beginning is 0\n",
      "Number at end is 0\n"
     ]
    }
   ],
   "source": [
    "from multiprocessing import Process, Value, Array\n",
    "import os\n",
    "\n",
    "num_processes = os.cpu_count()\n",
    "\n",
    "print(f'Number of cpu: {num_processes}')\n",
    "\n",
    "\n",
    "        \n",
    "if __name__ == \"__main__\":\n",
    "    def add_100(number):\n",
    "    for i in range(100):\n",
    "        time.sleep(0.01)\n",
    "        number.value +=1\n",
    "    shared_number = Value('i', 0) #integer value\n",
    "    print(f'Number at beginning is', shared_number.value)\n",
    "    \n",
    "    p1 = Process(target=add_100, args=(shared_number,))\n",
    "    p2 = Process(target=add_100, args=(shared_number,))\n",
    "    \n",
    "    p1.start()\n",
    "    p2.start()\n",
    "    \n",
    "    p1.join()\n",
    "    p2.join()\n",
    "    \n",
    "    print(f'Number at end is {shared_number.value}')"
   ]
  }
 ],
 "metadata": {
  "kernelspec": {
   "display_name": "Python 3.9.7 ('base')",
   "language": "python",
   "name": "python3"
  },
  "language_info": {
   "codemirror_mode": {
    "name": "ipython",
    "version": 3
   },
   "file_extension": ".py",
   "mimetype": "text/x-python",
   "name": "python",
   "nbconvert_exporter": "python",
   "pygments_lexer": "ipython3",
   "version": "3.9.7"
  },
  "orig_nbformat": 4,
  "vscode": {
   "interpreter": {
    "hash": "a99539085cd3bdd5c32c96cfbe8da0377cdfd87c78a129b6678f1e2495c8398d"
   }
  }
 },
 "nbformat": 4,
 "nbformat_minor": 2
}
