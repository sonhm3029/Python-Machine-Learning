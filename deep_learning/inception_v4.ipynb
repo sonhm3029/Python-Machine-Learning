{
 "cells": [
  {
   "cell_type": "markdown",
   "metadata": {},
   "source": [
    "# Inception-v4 network\n",
    "\n",
    "Achitecture:\n",
    "\n",
    "![](../img/inception-v4.png)\n",
    "\n",
    "Trong đó:\n",
    "\n",
    "## 1. Stem\n",
    "\n",
    "![](../img/inception-v4_1.png)\n",
    "\n",
    "## 2. Inception-A\n",
    "\n",
    "![](../img/inception-v4_2.png)\n",
    "\n",
    "## 3. Reduction-A\n",
    "\n",
    "![](../img/inception-v4_3.png)\n",
    "\n",
    "## 4. Inception-B\n",
    "\n",
    "![](../img/inception-v4_4.png)\n",
    "\n",
    "## 5. Reduction-B\n",
    "\n",
    "![](../img/inception-v4_5.png)\n",
    "\n",
    "## 6. Inception-C\n",
    "\n",
    "![](../img/inception-v4_6.png)"
   ]
  }
 ],
 "metadata": {
  "kernelspec": {
   "display_name": "Python 3.9.7 ('base')",
   "language": "python",
   "name": "python3"
  },
  "language_info": {
   "name": "python",
   "version": "3.9.7"
  },
  "orig_nbformat": 4,
  "vscode": {
   "interpreter": {
    "hash": "a99539085cd3bdd5c32c96cfbe8da0377cdfd87c78a129b6678f1e2495c8398d"
   }
  }
 },
 "nbformat": 4,
 "nbformat_minor": 2
}
