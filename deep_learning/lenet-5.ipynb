{
 "cells": [
  {
   "cell_type": "markdown",
   "metadata": {},
   "source": [
    "# LeNet-5\n",
    "\n",
    "## LeNet-5 cho ảnh xám với pooling layer là average pooling\n",
    "\n",
    "![](../img/lenet_2.png)\n",
    "\n",
    "## LeNet-5 cho ảnh RGB, hiện đại hơn với pooling layer là maxpooling\n",
    "\n",
    "![](../img/lenet_1.png)\n",
    "\n",
    "Chi tiết về layer của mạng LeNet-5\n",
    "\n",
    "![](../img/conv_4.png)"
   ]
  }
 ],
 "metadata": {
  "kernelspec": {
   "display_name": "Python 3.9.6 64-bit",
   "language": "python",
   "name": "python3"
  },
  "language_info": {
   "name": "python",
   "version": "3.9.6"
  },
  "orig_nbformat": 4,
  "vscode": {
   "interpreter": {
    "hash": "c2fce2166ecf35e10e9706810c05663b0d742ad8d6d30f48ef9e954a1f466467"
   }
  }
 },
 "nbformat": 4,
 "nbformat_minor": 2
}
