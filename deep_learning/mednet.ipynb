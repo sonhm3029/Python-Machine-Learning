{
 "cells": [
  {
   "cell_type": "markdown",
   "metadata": {},
   "source": [
    "# MedNet: Pre-trained Convolutional Neural Network Model for the Medical Imaging Tasks.\n",
    "\n",
    "## Keywords: CNN, Deep Learning, Pre-trained model, Medical imaging, MedNet, Transfer learning"
   ]
  }
 ],
 "metadata": {
  "language_info": {
   "name": "python"
  },
  "orig_nbformat": 4
 },
 "nbformat": 4,
 "nbformat_minor": 2
}
