{
 "cells": [
  {
   "cell_type": "markdown",
   "metadata": {},
   "source": [
    "# MobileNet\n",
    "\n",
    "Thông thường khi sử dụng CNN thì ta gặp một vấn đề đó là computation cost rất lớn. Xem ảnh dưới đây\n",
    "\n",
    "![](../img/mobile_1.png)\n",
    "\n",
    "Để ra được kết quả như mô hình trên, ta có thể sử dụng một cấu trúc khác gọi là `Depthwise Seperable Convolution`\n",
    "\n",
    "Ý tưởng là thay vì dùng 5 bộ filter cho ra output `4x4x5` thì ta sử dụng 2 layer . Layer 1 dùng 3 bộ filter `(3x3)` cho ra output `4x4x3` sau đó đi qua layer 2 là 5 bộ `(1x1x3)` => được output là `4x4x5`\n",
    "\n",
    "![](../img/mobile_2.png)\n",
    "\n",
    "![](../img/mobile_3.png)\n",
    "\n",
    "Chú ý depthwise là dùng 3 bộ filter `(fxf)` chứ kp là `(fxfxnc)` và 3 bộ này sẽ được conv theo cặp với các channel chứ không phải 1 bộ dùng cho tất cả channel.\n",
    "\n",
    "Tức là :\n",
    "\n",
    "- Ảnh đầu vào (6x6x3) - 3 channel `red, green ,blue`\n",
    "- 3 bộ `(3x3)` filter giả sử là `f1, f2, f3`\n",
    "\n",
    "=> `(f1 conv red)` = `4x4`\n",
    "\n",
    "![](../img/dep-1.png)\n",
    "\n",
    "=> `(f2 conv green)` = `4x4`\n",
    "\n",
    "![](../img/dep-2.png)\n",
    "\n",
    "=> `(f3 conv blue)` = `4x4`\n",
    "\n",
    "![](../img/dep-3.png)\n",
    "\n",
    "=> output: `4x4x3`\n",
    "\n",
    "\n",
    "![](../img/mobile_4.png)\n",
    "\n",
    "## So sánh lại Normal Convoluton và Depthwise Seperable Convolution\n",
    "\n",
    "![](../img/mobile_5.png)\n",
    "\n",
    "## MobileNet Achitecture\n",
    "\n",
    "![](../img/mobile_7.png)\n",
    "\n",
    "Chi tiết hơn về cấu trúc Bottleneck của MobileNet v2\n",
    "\n",
    "![](../img/mobile_8.png)\n",
    "\n"
   ]
  }
 ],
 "metadata": {
  "kernelspec": {
   "display_name": "Python 3.9.7 ('base')",
   "language": "python",
   "name": "python3"
  },
  "language_info": {
   "name": "python",
   "version": "3.9.7"
  },
  "orig_nbformat": 4,
  "vscode": {
   "interpreter": {
    "hash": "a99539085cd3bdd5c32c96cfbe8da0377cdfd87c78a129b6678f1e2495c8398d"
   }
  }
 },
 "nbformat": 4,
 "nbformat_minor": 2
}
