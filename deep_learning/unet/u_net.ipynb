{
 "cells": [
  {
   "cell_type": "markdown",
   "metadata": {},
   "source": [
    "# Image segmentation với U-Net\n",
    "\n",
    "Nhận xét:\n",
    "\n",
    "- Đây là phần code để tạo model, mô hình encoder và decoder đối xứng nhau hoàn toàn.\n",
    "- Các conv layer đều dùng 3*3 và padding là same để giữ nguyên kích thước.\n",
    "- Max pooling kích thước 2*2, mỗi lần pooling width, height giảm 1 nửa, nhưng layer sau đó depth tăng gấp đôi.\n",
    "- Up sampling kích thước 2*2, mỗi lần pooling width, height tăng gấp đôi, nhưng layer sau đó depth giảm một nửa.\n",
    "- Concatenate dùng để nối layer đối xứng ở encoder với layer hiện tại có cùng kích thước.\n",
    "- Dropout cũng được sử dụng để tránh overfitting\n",
    "- Relu activation được dùng trong các layer trừ output layer dùng sigmoid.\n",
    "- Như bạn biết sigmoid dùng cho binary classification tuy nhiên nếu bạn output ra nhiều ra giá trị ( ví dụ cả 1 ma trận trong bài này) và để loss là binary_crossentropy thì Keras sẽ hiểu loss function là tổng của binary_crossentropy của từng pixel trong ảnh."
   ]
  }
 ],
 "metadata": {
  "kernelspec": {
   "display_name": "Python 3.9.7 ('base')",
   "language": "python",
   "name": "python3"
  },
  "language_info": {
   "name": "python",
   "version": "3.9.7"
  },
  "orig_nbformat": 4,
  "vscode": {
   "interpreter": {
    "hash": "a99539085cd3bdd5c32c96cfbe8da0377cdfd87c78a129b6678f1e2495c8398d"
   }
  }
 },
 "nbformat": 4,
 "nbformat_minor": 2
}
