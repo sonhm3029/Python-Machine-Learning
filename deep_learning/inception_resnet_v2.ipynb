{
 "cells": [
  {
   "cell_type": "markdown",
   "metadata": {},
   "source": [
    "# Inception resnet\n",
    "\n",
    "Paper: [https://arxiv.org/pdf/1602.07261v2.pdf](https://arxiv.org/pdf/1602.07261v2.pdf)\n",
    "\n",
    "Kiến trúc của Inception resnet v1 và v2:\n",
    "\n",
    "![](../img/inception_resnet_v2.png)\n",
    "\n",
    "Trong đó các block `Inception resnet` và `Stem` được thể hiện như sau:\n",
    "\n",
    "## 1. Inception resnet v1\n",
    "\n",
    "### a) Stem\n",
    "\n",
    "\n"
   ]
  }
 ],
 "metadata": {
  "language_info": {
   "name": "python"
  },
  "orig_nbformat": 4
 },
 "nbformat": 4,
 "nbformat_minor": 2
}
