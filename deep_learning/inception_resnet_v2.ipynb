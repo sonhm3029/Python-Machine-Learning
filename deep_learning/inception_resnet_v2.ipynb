{
  "cells": [
    {
      "cell_type": "markdown",
      "metadata": {
        "id": "WF0HS3SP-GYK"
      },
      "source": [
        "# Inception resnet\n",
        "\n",
        "Paper: [https://arxiv.org/pdf/1602.07261v2.pdf](https://arxiv.org/pdf/1602.07261v2.pdf)\n",
        "\n",
        "Kiến trúc của Inception resnet v1 và v2:\n",
        "\n",
        "![](../img/inception_resnet_v2.png)\n",
        "\n",
        "Trong đó các block `Inception resnet` và `Stem` được thể hiện như sau:\n",
        "\n",
        "## 1. Inception resnet v1\n",
        "\n",
        "### a) Stem\n",
        "\n",
        "![](../img/inception_resnet_v1_4.png)\n",
        "\n",
        "### b) Inception-resnet-A\n",
        "\n",
        "![](../img/inception_resnet_v1_1.png)\n",
        "\n",
        "### c) Reduction-A\n",
        "\n",
        "![](../img/inception_resnet_v1_6.png)\n",
        "\n",
        "### d) Inception-resnet-B\n",
        "\n",
        "![](../img/inception_resnet_v1_2.png)\n",
        "\n",
        "### e) Reduction-B\n",
        "\n",
        "![](../img/inception_resnet_v1_5.png)\n",
        "\n",
        "### f) Inception-resnet-C\n",
        "\n",
        "![](../img/inception_resnet_v1_3.png)\n",
        "\n",
        "## 2. Inception resnet v2\n",
        "\n",
        "### a) Stem\n",
        "\n",
        "![](../img/inception_resnet_v2_1.png)\n",
        "\n",
        "### b) Inception-resnet-A\n",
        "\n",
        "![](../img/inception_resnet_v2_2.png)\n",
        "\n",
        "### c) Reduction-A\n",
        "\n",
        "![](../img/inception_resnet_v2_6.png)\n",
        "\n",
        "### d) Inception-resnet-B\n",
        "\n",
        "![](../img/inception_resnet_v2_3.png)\n",
        "\n",
        "### e) Reduction-B\n",
        "\n",
        "![](../img/inception_resnet_v2_5.png)\n",
        "\n",
        "### f) Inception-resnet-C\n",
        "\n",
        "![](../img/inception_resnet_v2_4.png)\n",
        "\n"
      ]
    },
    {
      "cell_type": "markdown",
      "metadata": {
        "id": "Y06zFgYl-GYO"
      },
      "source": [
        "![](../img/table_1.png)"
      ]
    },
    {
      "cell_type": "markdown",
      "metadata": {
        "id": "11hFjf7H-GYP"
      },
      "source": [
        "## 3. Implement inception-resnet-v2 pretrained"
      ]
    },
    {
      "cell_type": "code",
      "execution_count": 89,
      "metadata": {
        "id": "zlEP9OBC-GYQ"
      },
      "outputs": [],
      "source": [
        "from __future__ import print_function, division, absolute_import\n",
        "import torch.utils.model_zoo as model_zoo\n",
        "import sys\n",
        "import urllib.request\n",
        "import ssl\n",
        "import torch\n",
        "import torchvision\n",
        "from torch.optim import lr_scheduler\n",
        "import torch.nn as nn \n",
        "from torchvision import transforms, datasets\n",
        "from torch.utils.data import DataLoader, Dataset\n",
        "from torchvision.transforms import InterpolationMode\n",
        "import torchvision.transforms.functional as TF\n",
        "from torchsummary import summary\n",
        "import numpy as np\n",
        "import cv2\n",
        "import os\n",
        "import time\n",
        "import copy\n",
        "import imutils\n",
        "from PIL import Image\n",
        "import shutil\n",
        "os.environ[\"KMP_DUPLICATE_LIB_OK\"] = \"TRUE\"\n",
        "import matplotlib.pyplot as plt\n",
        "from tqdm import tqdm\n",
        "\n",
        "ssl._create_default_https_context = ssl._create_unverified_context"
      ]
    },
    {
      "cell_type": "markdown",
      "metadata": {
        "id": "lrQ5xx7QUbku"
      },
      "source": [
        "## Setup device"
      ]
    },
    {
      "cell_type": "code",
      "execution_count": 90,
      "metadata": {
        "id": "-hG9INd2Ued5"
      },
      "outputs": [],
      "source": [
        "device = torch.device('cuda' if torch.cuda.is_available() else 'cpu')"
      ]
    },
    {
      "cell_type": "code",
      "execution_count": 91,
      "metadata": {
        "colab": {
          "base_uri": "https://localhost:8080/"
        },
        "id": "e_IDCQMKU0sc",
        "outputId": "6f2139c3-7c86-4139-9095-f8b440536599"
      },
      "outputs": [
        {
          "name": "stdout",
          "output_type": "stream",
          "text": [
            "Drive already mounted at /content/drive; to attempt to forcibly remount, call drive.mount(\"/content/drive\", force_remount=True).\n"
          ]
        }
      ],
      "source": [
        "from google.colab import drive\n",
        "drive.mount('/content/drive')"
      ]
    },
    {
      "cell_type": "markdown",
      "metadata": {
        "id": "ZsSoONEGTYGe"
      },
      "source": [
        "## Hyper parameters"
      ]
    },
    {
      "cell_type": "code",
      "execution_count": 92,
      "metadata": {
        "id": "YtITsLw7S4Zu"
      },
      "outputs": [],
      "source": [
        "num_epochs = 100\n",
        "batch_size = 4\n",
        "learning_rate = 1e-3"
      ]
    },
    {
      "cell_type": "markdown",
      "metadata": {
        "id": "2F7BP22nTiLd"
      },
      "source": [
        "## Load data"
      ]
    },
    {
      "cell_type": "code",
      "execution_count": 93,
      "metadata": {
        "colab": {
          "base_uri": "https://localhost:8080/"
        },
        "id": "2FvCfKgzTmhu",
        "outputId": "07eb0282-ff20-4179-bc65-121b4960e395"
      },
      "outputs": [
        {
          "data": {
            "text/plain": [
              "([0.485, 0.456, 0.406], [0.229, 0.224, 0.225])"
            ]
          },
          "execution_count": 93,
          "metadata": {},
          "output_type": "execute_result"
        }
      ],
      "source": [
        "TRAIN_DIR = './drive/MyDrive/ml_isofh/data/brain_tumor_dataset/TRAIN'\n",
        "TEST_DIR = './drive/MyDrive/ml_isofh/data/brain_tumor_dataset/TEST'\n",
        "VAL_DIR = './drive/MyDrive/ml_isofh/data/brain_tumor_dataset/VAL'\n",
        "IMG_SIZE = (224, 224)\n",
        "\n",
        "# Take Mean and std\n",
        "samples_set = datasets.ImageFolder(TRAIN_DIR, transform=transforms.Resize((224, 224)))\n",
        "\n",
        "def readToNumpy(imagesSet):\n",
        "    listImgs = []\n",
        "    for img_path in imagesSet:\n",
        "        img = cv2.imread(img_path[0])\n",
        "        listImgs.append(cv2.resize(img, (224, 224), interpolation = cv2.INTER_AREA))\n",
        "    return np.array(listImgs)\n",
        "\n",
        "listImgs = readToNumpy(samples_set.imgs)\n",
        "\n",
        "MEAN = (listImgs/255.0).mean((0,1,2))\n",
        "STD = (listImgs /255.0).std((0,1,2))\n",
        "MEAN,STD=[0.485, 0.456, 0.406],[0.229, 0.224, 0.225]\n",
        "MEAN, STD"
      ]
    },
    {
      "cell_type": "code",
      "execution_count": 94,
      "metadata": {
        "id": "FevM91Q5Tomu"
      },
      "outputs": [],
      "source": [
        "# This line of code is to auto completion of code using key \"Tab\". Just make coding faster ^^! \n",
        "# I read from this post \"https://www.kaggle.com/getting-started/51622\"\n",
        "%config Completer.use_jedi = False"
      ]
    },
    {
      "cell_type": "markdown",
      "metadata": {
        "id": "5bNKDdr5TrX-"
      },
      "source": [
        "## Custom Dataset\n"
      ]
    },
    {
      "cell_type": "code",
      "execution_count": 95,
      "metadata": {
        "id": "2ED5DrKuTtRW"
      },
      "outputs": [],
      "source": [
        "class BrainTumor(Dataset):\n",
        "    def __init__(self, root, transforms=None):\n",
        "        imageData = datasets.ImageFolder(root)\n",
        "        self.n_samples = len(imageData.imgs)  \n",
        "        self.data = np.array([cv2.imread(img_path[0]) for img_path in imageData.imgs])\n",
        "        self.targets = np.array(imageData.targets)\n",
        "        self.classes = imageData.classes\n",
        "        self.transforms = transforms\n",
        "    def __len__(self):\n",
        "        return self.n_samples\n",
        "    def __getitem__(self, index):\n",
        "        x = self.data[index]\n",
        "        # print(self.data[index].shape, self.targets[index].shape)\n",
        "        if self.transforms:\n",
        "            x = self.transforms(x)\n",
        "            # change = self.transforms(self.data[index])\n",
        "            # sample = change, self.targets[index]\n",
        "        return x,  self.targets[index]"
      ]
    },
    {
      "cell_type": "code",
      "execution_count": 96,
      "metadata": {
        "id": "x_0m7kpiTvcC"
      },
      "outputs": [],
      "source": [
        "def plot_samples(X, y, labels_dict, n=50):\n",
        "    \"\"\"\n",
        "    Creates a gridplot for desired number of images (n) from the specified set\n",
        "    \"\"\"\n",
        "    for index in range(len(labels_dict)):\n",
        "        imgs = X[np.argwhere(y == index)][:n]\n",
        "        j = 10\n",
        "        i = int(n/j)\n",
        "\n",
        "        plt.figure(figsize=(15,6))\n",
        "        c = 1\n",
        "        for img in imgs:\n",
        "            plt.subplot(i,j,c)\n",
        "            plt.imshow(img[0])\n",
        "\n",
        "            plt.xticks([])\n",
        "            plt.yticks([])\n",
        "            c += 1\n",
        "        plt.suptitle('Tumor: {}'.format(labels_dict[index]))\n",
        "        plt.show()"
      ]
    },
    {
      "cell_type": "markdown",
      "metadata": {
        "id": "hBvB6aB-TyUm"
      },
      "source": [
        "## Preprocessing data"
      ]
    },
    {
      "cell_type": "code",
      "execution_count": 97,
      "metadata": {
        "colab": {
          "base_uri": "https://localhost:8080/"
        },
        "id": "c1vBAutoT3kv",
        "outputId": "22a480a9-4a06-475b-8eca-f65a56bb594b"
      },
      "outputs": [
        {
          "name": "stderr",
          "output_type": "stream",
          "text": [
            "/usr/local/lib/python3.7/dist-packages/ipykernel_launcher.py:5: VisibleDeprecationWarning: Creating an ndarray from ragged nested sequences (which is a list-or-tuple of lists-or-tuples-or ndarrays with different lengths or shapes) is deprecated. If you meant to do this, you must specify 'dtype=object' when creating the ndarray.\n",
            "  \"\"\"\n"
          ]
        },
        {
          "name": "stdout",
          "output_type": "stream",
          "text": [
            "train set :(183,)\n",
            "test set: (51,)\n",
            "val set: (19,)\n"
          ]
        }
      ],
      "source": [
        "\n",
        "class ImageEnhanced(object):\n",
        "    \"\"\"_summary_\n",
        "    transform to enhanced image quality for prediction \n",
        "    \"\"\"\n",
        "    def __init__(self):\n",
        "        pass\n",
        "    def __call__(self, img ,add_pixels_value = 0):\n",
        "        \n",
        "        gray = cv2.cvtColor(img, cv2.COLOR_RGB2GRAY)\n",
        "        gray = cv2.GaussianBlur(gray, (5, 5), 0)\n",
        "        # threshold the image, then perform a series of erosions +\n",
        "        # dilations to remove any small regions of noise\n",
        "        thresh = cv2.threshold(gray, 60, 255, cv2.THRESH_BINARY)[1]\n",
        "        thresh = cv2.erode(thresh, None, iterations=2)\n",
        "        thresh = cv2.dilate(thresh, None, iterations=2)\n",
        "        # find contours in thresholded image, then grab the largest one\n",
        "        cnts = cv2.findContours(thresh.copy(), cv2.RETR_EXTERNAL, cv2.CHAIN_APPROX_SIMPLE)\n",
        "        cnts = imutils.grab_contours(cnts)\n",
        "        c = max(cnts, key=cv2.contourArea)\n",
        "        # find the extreme points\n",
        "        extLeft = tuple(c[c[:, :, 0].argmin()][0])\n",
        "        extRight = tuple(c[c[:, :, 0].argmax()][0])\n",
        "        extTop = tuple(c[c[:, :, 1].argmin()][0])\n",
        "        extBot = tuple(c[c[:, :, 1].argmax()][0])\n",
        "        ADD_PIXELS = add_pixels_value\n",
        "        new_img = img[extTop[1]-ADD_PIXELS:extBot[1]+ADD_PIXELS, extLeft[0]-ADD_PIXELS:extRight[0]+ADD_PIXELS].copy()\n",
        "        return Image.fromarray(new_img)\n",
        "            \n",
        "# class Flip(object):\n",
        "#     def __init__(self)    \n",
        "# Data trasform\n",
        "\n",
        "# Crop only\n",
        "transformsImg = transforms.Compose([\n",
        "    ImageEnhanced(),\n",
        "    transforms.ToTensor(),\n",
        "    transforms.Resize((299, 299), interpolation=InterpolationMode.BICUBIC),\n",
        "    transforms.RandomHorizontalFlip(),\n",
        "    transforms.RandomVerticalFlip(),\n",
        "    transforms.RandomResizedCrop((299,299),scale=(0.8,1.0),ratio=(0.9,1.1)),\n",
        "    transforms.Normalize(MEAN, STD)\n",
        "])\n",
        "\n",
        "test_transform = transforms.Compose([\n",
        "    ImageEnhanced(),\n",
        "    transforms.ToTensor(),\n",
        "    transforms.Resize((299, 299), interpolation=InterpolationMode.BICUBIC),\n",
        "    transforms.Normalize(MEAN, STD)\n",
        "])\n",
        "train_transform = transforms.Compose([\n",
        "    ImageEnhanced(),\n",
        "    transforms.ToTensor(),\n",
        "    transforms.Resize((299, 299), interpolation=InterpolationMode.BICUBIC),\n",
        "    transforms.RandomHorizontalFlip(),\n",
        "    transforms.RandomVerticalFlip(),\n",
        "    # transforms.ColorJitter(brightness=[0.1, 1.5]),\n",
        "    # transforms.RandomAffine(degrees=40, translate=None, shear=0.1, resample=False, fillcolor=0),\n",
        "    # transforms.ColorJitter(brightness=[0.1, 1.5]),\n",
        "    # transforms.RandomAffine(),\n",
        "    transforms.RandomResizedCrop((299,299),scale=(0.8,1.0)),\n",
        "    transforms.Normalize(MEAN, STD)\n",
        "])\n",
        "\n",
        "# load data\n",
        "train_dataset = BrainTumor(root=TRAIN_DIR, transforms=train_transform)\n",
        "test_dataset = BrainTumor(TEST_DIR, transforms=test_transform)\n",
        "val_dataset = BrainTumor(VAL_DIR, transforms=test_transform)\n",
        "\n",
        "# data shape\n",
        "print(f\"train set :{train_dataset.data.shape}\")\n",
        "print(f\"test set: {test_dataset.data.shape}\")\n",
        "print(f\"val set: {val_dataset.data.shape}\")\n",
        "# # data loader\n",
        "train_loader = DataLoader(train_dataset, shuffle=True, batch_size=batch_size, drop_last=True)\n",
        "test_loader = DataLoader(test_dataset, shuffle=True, batch_size=batch_size, drop_last=False)\n",
        "val_loader = DataLoader(val_dataset, shuffle=True, batch_size=batch_size, drop_last=False)"
      ]
    },
    {
      "cell_type": "markdown",
      "metadata": {
        "id": "7K3w3NpHT6As"
      },
      "source": [
        "## Image visualization"
      ]
    },
    {
      "cell_type": "code",
      "execution_count": 98,
      "metadata": {
        "colab": {
          "base_uri": "https://localhost:8080/",
          "height": 154
        },
        "id": "IrSIXwncT9wW",
        "outputId": "125cd011-31a9-4f67-acbe-f71fa28425b9"
      },
      "outputs": [
        {
          "data": {
            "image/png": "[encoded data removed]",
            "text/plain": [
              "<Figure size 432x288 with 1 Axes>"
            ]
          },
          "metadata": {
            "needs_background": "light"
          },
          "output_type": "display_data"
        },
        {
          "name": "stdout",
          "output_type": "stream",
          "text": [
            "No           Yes          Yes          No          \n"
          ]
        }
      ],
      "source": [
        "classes = ('No', 'Yes')\n",
        "NUM_IMGS = batch_size\n",
        "\n",
        "show_samples = iter(train_loader)\n",
        "images,labels = show_samples.next()\n",
        "\n",
        "imgs = torchvision.utils.make_grid(images, normalize=True, pad_value=0.5)\n",
        "\n",
        "# Convert images to a readable numpy for plt\n",
        "imgs = imgs.numpy()\n",
        "\n",
        "# Transform imgs to an array of images\n",
        "imgs = imgs.transpose((1,2,0))\n",
        "\n",
        "# Show images\n",
        "plt.imshow(imgs)\n",
        "plt.show()\n",
        "\n",
        "print(' '.join(f'{classes[labels[j]]:12s}' for j in range(NUM_IMGS)))"
      ]
    },
    {
      "cell_type": "markdown",
      "metadata": {
        "id": "RkVQofe8T_yw"
      },
      "source": [
        "## Pre-trained model"
      ]
    },
    {
      "cell_type": "code",
      "execution_count": 99,
      "metadata": {
        "colab": {
          "base_uri": "https://localhost:8080/"
        },
        "id": "fAYRG3Bu-GYR",
        "outputId": "edb63bd3-2e93-4d59-8e26-3aa5b8d1c067"
      },
      "outputs": [
        {
          "name": "stdout",
          "output_type": "stream",
          "text": [
            "<generator object Module.parameters at 0x7f67cce1a550>\n",
            "----------------------------------------------------------------\n",
            "        Layer (type)               Output Shape         Param #\n",
            "================================================================\n",
            "            Conv2d-1         [-1, 32, 149, 149]             864\n",
            "       BatchNorm2d-2         [-1, 32, 149, 149]              64\n",
            "              ReLU-3         [-1, 32, 149, 149]               0\n",
            "       BasicConv2d-4         [-1, 32, 149, 149]               0\n",
            "            Conv2d-5         [-1, 32, 147, 147]           9,216\n",
            "       BatchNorm2d-6         [-1, 32, 147, 147]              64\n",
            "              ReLU-7         [-1, 32, 147, 147]               0\n",
            "       BasicConv2d-8         [-1, 32, 147, 147]               0\n",
            "            Conv2d-9         [-1, 64, 147, 147]          18,432\n",
            "      BatchNorm2d-10         [-1, 64, 147, 147]             128\n",
            "             ReLU-11         [-1, 64, 147, 147]               0\n",
            "      BasicConv2d-12         [-1, 64, 147, 147]               0\n",
            "        MaxPool2d-13           [-1, 64, 73, 73]               0\n",
            "           Conv2d-14           [-1, 80, 73, 73]           5,120\n",
            "      BatchNorm2d-15           [-1, 80, 73, 73]             160\n",
            "             ReLU-16           [-1, 80, 73, 73]               0\n",
            "      BasicConv2d-17           [-1, 80, 73, 73]               0\n",
            "           Conv2d-18          [-1, 192, 71, 71]         138,240\n",
            "      BatchNorm2d-19          [-1, 192, 71, 71]             384\n",
            "             ReLU-20          [-1, 192, 71, 71]               0\n",
            "      BasicConv2d-21          [-1, 192, 71, 71]               0\n",
            "        MaxPool2d-22          [-1, 192, 35, 35]               0\n",
            "           Conv2d-23           [-1, 96, 35, 35]          18,432\n",
            "      BatchNorm2d-24           [-1, 96, 35, 35]             192\n",
            "             ReLU-25           [-1, 96, 35, 35]               0\n",
            "      BasicConv2d-26           [-1, 96, 35, 35]               0\n",
            "           Conv2d-27           [-1, 48, 35, 35]           9,216\n",
            "      BatchNorm2d-28           [-1, 48, 35, 35]              96\n",
            "             ReLU-29           [-1, 48, 35, 35]               0\n",
            "      BasicConv2d-30           [-1, 48, 35, 35]               0\n",
            "           Conv2d-31           [-1, 64, 35, 35]          76,800\n",
            "      BatchNorm2d-32           [-1, 64, 35, 35]             128\n",
            "             ReLU-33           [-1, 64, 35, 35]               0\n",
            "      BasicConv2d-34           [-1, 64, 35, 35]               0\n",
            "           Conv2d-35           [-1, 64, 35, 35]          12,288\n",
            "      BatchNorm2d-36           [-1, 64, 35, 35]             128\n",
            "             ReLU-37           [-1, 64, 35, 35]               0\n",
            "      BasicConv2d-38           [-1, 64, 35, 35]               0\n",
            "           Conv2d-39           [-1, 96, 35, 35]          55,296\n",
            "      BatchNorm2d-40           [-1, 96, 35, 35]             192\n",
            "             ReLU-41           [-1, 96, 35, 35]               0\n",
            "      BasicConv2d-42           [-1, 96, 35, 35]               0\n",
            "           Conv2d-43           [-1, 96, 35, 35]          82,944\n",
            "      BatchNorm2d-44           [-1, 96, 35, 35]             192\n",
            "             ReLU-45           [-1, 96, 35, 35]               0\n",
            "      BasicConv2d-46           [-1, 96, 35, 35]               0\n",
            "        AvgPool2d-47          [-1, 192, 35, 35]               0\n",
            "           Conv2d-48           [-1, 64, 35, 35]          12,288\n",
            "      BatchNorm2d-49           [-1, 64, 35, 35]             128\n",
            "             ReLU-50           [-1, 64, 35, 35]               0\n",
            "      BasicConv2d-51           [-1, 64, 35, 35]               0\n",
            "         Mixed_5b-52          [-1, 320, 35, 35]               0\n",
            "           Conv2d-53           [-1, 32, 35, 35]          10,240\n",
            "      BatchNorm2d-54           [-1, 32, 35, 35]              64\n",
            "             ReLU-55           [-1, 32, 35, 35]               0\n",
            "      BasicConv2d-56           [-1, 32, 35, 35]               0\n",
            "           Conv2d-57           [-1, 32, 35, 35]          10,240\n",
            "      BatchNorm2d-58           [-1, 32, 35, 35]              64\n",
            "             ReLU-59           [-1, 32, 35, 35]               0\n",
            "      BasicConv2d-60           [-1, 32, 35, 35]               0\n",
            "           Conv2d-61           [-1, 32, 35, 35]           9,216\n",
            "      BatchNorm2d-62           [-1, 32, 35, 35]              64\n",
            "             ReLU-63           [-1, 32, 35, 35]               0\n",
            "      BasicConv2d-64           [-1, 32, 35, 35]               0\n",
            "           Conv2d-65           [-1, 32, 35, 35]          10,240\n",
            "      BatchNorm2d-66           [-1, 32, 35, 35]              64\n",
            "             ReLU-67           [-1, 32, 35, 35]               0\n",
            "      BasicConv2d-68           [-1, 32, 35, 35]               0\n",
            "           Conv2d-69           [-1, 48, 35, 35]          13,824\n",
            "      BatchNorm2d-70           [-1, 48, 35, 35]              96\n",
            "             ReLU-71           [-1, 48, 35, 35]               0\n",
            "      BasicConv2d-72           [-1, 48, 35, 35]               0\n",
            "           Conv2d-73           [-1, 64, 35, 35]          27,648\n",
            "      BatchNorm2d-74           [-1, 64, 35, 35]             128\n",
            "             ReLU-75           [-1, 64, 35, 35]               0\n",
            "      BasicConv2d-76           [-1, 64, 35, 35]               0\n",
            "           Conv2d-77          [-1, 320, 35, 35]          41,280\n",
            "             ReLU-78          [-1, 320, 35, 35]               0\n",
            "          Block35-79          [-1, 320, 35, 35]               0\n",
            "           Conv2d-80           [-1, 32, 35, 35]          10,240\n",
            "      BatchNorm2d-81           [-1, 32, 35, 35]              64\n",
            "             ReLU-82           [-1, 32, 35, 35]               0\n",
            "      BasicConv2d-83           [-1, 32, 35, 35]               0\n",
            "           Conv2d-84           [-1, 32, 35, 35]          10,240\n",
            "      BatchNorm2d-85           [-1, 32, 35, 35]              64\n",
            "             ReLU-86           [-1, 32, 35, 35]               0\n",
            "      BasicConv2d-87           [-1, 32, 35, 35]               0\n",
            "           Conv2d-88           [-1, 32, 35, 35]           9,216\n",
            "      BatchNorm2d-89           [-1, 32, 35, 35]              64\n",
            "             ReLU-90           [-1, 32, 35, 35]               0\n",
            "      BasicConv2d-91           [-1, 32, 35, 35]               0\n",
            "           Conv2d-92           [-1, 32, 35, 35]          10,240\n",
            "      BatchNorm2d-93           [-1, 32, 35, 35]              64\n",
            "             ReLU-94           [-1, 32, 35, 35]               0\n",
            "      BasicConv2d-95           [-1, 32, 35, 35]               0\n",
            "           Conv2d-96           [-1, 48, 35, 35]          13,824\n",
            "      BatchNorm2d-97           [-1, 48, 35, 35]              96\n",
            "             ReLU-98           [-1, 48, 35, 35]               0\n",
            "      BasicConv2d-99           [-1, 48, 35, 35]               0\n",
            "          Conv2d-100           [-1, 64, 35, 35]          27,648\n",
            "     BatchNorm2d-101           [-1, 64, 35, 35]             128\n",
            "            ReLU-102           [-1, 64, 35, 35]               0\n",
            "     BasicConv2d-103           [-1, 64, 35, 35]               0\n",
            "          Conv2d-104          [-1, 320, 35, 35]          41,280\n",
            "            ReLU-105          [-1, 320, 35, 35]               0\n",
            "         Block35-106          [-1, 320, 35, 35]               0\n",
            "          Conv2d-107           [-1, 32, 35, 35]          10,240\n",
            "     BatchNorm2d-108           [-1, 32, 35, 35]              64\n",
            "            ReLU-109           [-1, 32, 35, 35]               0\n",
            "     BasicConv2d-110           [-1, 32, 35, 35]               0\n",
            "          Conv2d-111           [-1, 32, 35, 35]          10,240\n",
            "     BatchNorm2d-112           [-1, 32, 35, 35]              64\n",
            "            ReLU-113           [-1, 32, 35, 35]               0\n",
            "     BasicConv2d-114           [-1, 32, 35, 35]               0\n",
            "          Conv2d-115           [-1, 32, 35, 35]           9,216\n",
            "     BatchNorm2d-116           [-1, 32, 35, 35]              64\n",
            "            ReLU-117           [-1, 32, 35, 35]               0\n",
            "     BasicConv2d-118           [-1, 32, 35, 35]               0\n",
            "          Conv2d-119           [-1, 32, 35, 35]          10,240\n",
            "     BatchNorm2d-120           [-1, 32, 35, 35]              64\n",
            "            ReLU-121           [-1, 32, 35, 35]               0\n",
            "     BasicConv2d-122           [-1, 32, 35, 35]               0\n",
            "          Conv2d-123           [-1, 48, 35, 35]          13,824\n",
            "     BatchNorm2d-124           [-1, 48, 35, 35]              96\n",
            "            ReLU-125           [-1, 48, 35, 35]               0\n",
            "     BasicConv2d-126           [-1, 48, 35, 35]               0\n",
            "          Conv2d-127           [-1, 64, 35, 35]          27,648\n",
            "     BatchNorm2d-128           [-1, 64, 35, 35]             128\n",
            "            ReLU-129           [-1, 64, 35, 35]               0\n",
            "     BasicConv2d-130           [-1, 64, 35, 35]               0\n",
            "          Conv2d-131          [-1, 320, 35, 35]          41,280\n",
            "            ReLU-132          [-1, 320, 35, 35]               0\n",
            "         Block35-133          [-1, 320, 35, 35]               0\n",
            "          Conv2d-134           [-1, 32, 35, 35]          10,240\n",
            "     BatchNorm2d-135           [-1, 32, 35, 35]              64\n",
            "            ReLU-136           [-1, 32, 35, 35]               0\n",
            "     BasicConv2d-137           [-1, 32, 35, 35]               0\n",
            "          Conv2d-138           [-1, 32, 35, 35]          10,240\n",
            "     BatchNorm2d-139           [-1, 32, 35, 35]              64\n",
            "            ReLU-140           [-1, 32, 35, 35]               0\n",
            "     BasicConv2d-141           [-1, 32, 35, 35]               0\n",
            "          Conv2d-142           [-1, 32, 35, 35]           9,216\n",
            "     BatchNorm2d-143           [-1, 32, 35, 35]              64\n",
            "            ReLU-144           [-1, 32, 35, 35]               0\n",
            "     BasicConv2d-145           [-1, 32, 35, 35]               0\n",
            "          Conv2d-146           [-1, 32, 35, 35]          10,240\n",
            "     BatchNorm2d-147           [-1, 32, 35, 35]              64\n",
            "            ReLU-148           [-1, 32, 35, 35]               0\n",
            "     BasicConv2d-149           [-1, 32, 35, 35]               0\n",
            "          Conv2d-150           [-1, 48, 35, 35]          13,824\n",
            "     BatchNorm2d-151           [-1, 48, 35, 35]              96\n",
            "            ReLU-152           [-1, 48, 35, 35]               0\n",
            "     BasicConv2d-153           [-1, 48, 35, 35]               0\n",
            "          Conv2d-154           [-1, 64, 35, 35]          27,648\n",
            "     BatchNorm2d-155           [-1, 64, 35, 35]             128\n",
            "            ReLU-156           [-1, 64, 35, 35]               0\n",
            "     BasicConv2d-157           [-1, 64, 35, 35]               0\n",
            "          Conv2d-158          [-1, 320, 35, 35]          41,280\n",
            "            ReLU-159          [-1, 320, 35, 35]               0\n",
            "         Block35-160          [-1, 320, 35, 35]               0\n",
            "          Conv2d-161           [-1, 32, 35, 35]          10,240\n",
            "     BatchNorm2d-162           [-1, 32, 35, 35]              64\n",
            "            ReLU-163           [-1, 32, 35, 35]               0\n",
            "     BasicConv2d-164           [-1, 32, 35, 35]               0\n",
            "          Conv2d-165           [-1, 32, 35, 35]          10,240\n",
            "     BatchNorm2d-166           [-1, 32, 35, 35]              64\n",
            "            ReLU-167           [-1, 32, 35, 35]               0\n",
            "     BasicConv2d-168           [-1, 32, 35, 35]               0\n",
            "          Conv2d-169           [-1, 32, 35, 35]           9,216\n",
            "     BatchNorm2d-170           [-1, 32, 35, 35]              64\n",
            "            ReLU-171           [-1, 32, 35, 35]               0\n",
            "     BasicConv2d-172           [-1, 32, 35, 35]               0\n",
            "          Conv2d-173           [-1, 32, 35, 35]          10,240\n",
            "     BatchNorm2d-174           [-1, 32, 35, 35]              64\n",
            "            ReLU-175           [-1, 32, 35, 35]               0\n",
            "     BasicConv2d-176           [-1, 32, 35, 35]               0\n",
            "          Conv2d-177           [-1, 48, 35, 35]          13,824\n",
            "     BatchNorm2d-178           [-1, 48, 35, 35]              96\n",
            "            ReLU-179           [-1, 48, 35, 35]               0\n",
            "     BasicConv2d-180           [-1, 48, 35, 35]               0\n",
            "          Conv2d-181           [-1, 64, 35, 35]          27,648\n",
            "     BatchNorm2d-182           [-1, 64, 35, 35]             128\n",
            "            ReLU-183           [-1, 64, 35, 35]               0\n",
            "     BasicConv2d-184           [-1, 64, 35, 35]               0\n",
            "          Conv2d-185          [-1, 320, 35, 35]          41,280\n",
            "            ReLU-186          [-1, 320, 35, 35]               0\n",
            "         Block35-187          [-1, 320, 35, 35]               0\n",
            "          Conv2d-188           [-1, 32, 35, 35]          10,240\n",
            "     BatchNorm2d-189           [-1, 32, 35, 35]              64\n",
            "            ReLU-190           [-1, 32, 35, 35]               0\n",
            "     BasicConv2d-191           [-1, 32, 35, 35]               0\n",
            "          Conv2d-192           [-1, 32, 35, 35]          10,240\n",
            "     BatchNorm2d-193           [-1, 32, 35, 35]              64\n",
            "            ReLU-194           [-1, 32, 35, 35]               0\n",
            "     BasicConv2d-195           [-1, 32, 35, 35]               0\n",
            "          Conv2d-196           [-1, 32, 35, 35]           9,216\n",
            "     BatchNorm2d-197           [-1, 32, 35, 35]              64\n",
            "            ReLU-198           [-1, 32, 35, 35]               0\n",
            "     BasicConv2d-199           [-1, 32, 35, 35]               0\n",
            "          Conv2d-200           [-1, 32, 35, 35]          10,240\n",
            "     BatchNorm2d-201           [-1, 32, 35, 35]              64\n",
            "            ReLU-202           [-1, 32, 35, 35]               0\n",
            "     BasicConv2d-203           [-1, 32, 35, 35]               0\n",
            "          Conv2d-204           [-1, 48, 35, 35]          13,824\n",
            "     BatchNorm2d-205           [-1, 48, 35, 35]              96\n",
            "            ReLU-206           [-1, 48, 35, 35]               0\n",
            "     BasicConv2d-207           [-1, 48, 35, 35]               0\n",
            "          Conv2d-208           [-1, 64, 35, 35]          27,648\n",
            "     BatchNorm2d-209           [-1, 64, 35, 35]             128\n",
            "            ReLU-210           [-1, 64, 35, 35]               0\n",
            "     BasicConv2d-211           [-1, 64, 35, 35]               0\n",
            "          Conv2d-212          [-1, 320, 35, 35]          41,280\n",
            "            ReLU-213          [-1, 320, 35, 35]               0\n",
            "         Block35-214          [-1, 320, 35, 35]               0\n",
            "          Conv2d-215           [-1, 32, 35, 35]          10,240\n",
            "     BatchNorm2d-216           [-1, 32, 35, 35]              64\n",
            "            ReLU-217           [-1, 32, 35, 35]               0\n",
            "     BasicConv2d-218           [-1, 32, 35, 35]               0\n",
            "          Conv2d-219           [-1, 32, 35, 35]          10,240\n",
            "     BatchNorm2d-220           [-1, 32, 35, 35]              64\n",
            "            ReLU-221           [-1, 32, 35, 35]               0\n",
            "     BasicConv2d-222           [-1, 32, 35, 35]               0\n",
            "          Conv2d-223           [-1, 32, 35, 35]           9,216\n",
            "     BatchNorm2d-224           [-1, 32, 35, 35]              64\n",
            "            ReLU-225           [-1, 32, 35, 35]               0\n",
            "     BasicConv2d-226           [-1, 32, 35, 35]               0\n",
            "          Conv2d-227           [-1, 32, 35, 35]          10,240\n",
            "     BatchNorm2d-228           [-1, 32, 35, 35]              64\n",
            "            ReLU-229           [-1, 32, 35, 35]               0\n",
            "     BasicConv2d-230           [-1, 32, 35, 35]               0\n",
            "          Conv2d-231           [-1, 48, 35, 35]          13,824\n",
            "     BatchNorm2d-232           [-1, 48, 35, 35]              96\n",
            "            ReLU-233           [-1, 48, 35, 35]               0\n",
            "     BasicConv2d-234           [-1, 48, 35, 35]               0\n",
            "          Conv2d-235           [-1, 64, 35, 35]          27,648\n",
            "     BatchNorm2d-236           [-1, 64, 35, 35]             128\n",
            "            ReLU-237           [-1, 64, 35, 35]               0\n",
            "     BasicConv2d-238           [-1, 64, 35, 35]               0\n",
            "          Conv2d-239          [-1, 320, 35, 35]          41,280\n",
            "            ReLU-240          [-1, 320, 35, 35]               0\n",
            "         Block35-241          [-1, 320, 35, 35]               0\n",
            "          Conv2d-242           [-1, 32, 35, 35]          10,240\n",
            "     BatchNorm2d-243           [-1, 32, 35, 35]              64\n",
            "            ReLU-244           [-1, 32, 35, 35]               0\n",
            "     BasicConv2d-245           [-1, 32, 35, 35]               0\n",
            "          Conv2d-246           [-1, 32, 35, 35]          10,240\n",
            "     BatchNorm2d-247           [-1, 32, 35, 35]              64\n",
            "            ReLU-248           [-1, 32, 35, 35]               0\n",
            "     BasicConv2d-249           [-1, 32, 35, 35]               0\n",
            "          Conv2d-250           [-1, 32, 35, 35]           9,216\n",
            "     BatchNorm2d-251           [-1, 32, 35, 35]              64\n",
            "            ReLU-252           [-1, 32, 35, 35]               0\n",
            "     BasicConv2d-253           [-1, 32, 35, 35]               0\n",
            "          Conv2d-254           [-1, 32, 35, 35]          10,240\n",
            "     BatchNorm2d-255           [-1, 32, 35, 35]              64\n",
            "            ReLU-256           [-1, 32, 35, 35]               0\n",
            "     BasicConv2d-257           [-1, 32, 35, 35]               0\n",
            "          Conv2d-258           [-1, 48, 35, 35]          13,824\n",
            "     BatchNorm2d-259           [-1, 48, 35, 35]              96\n",
            "            ReLU-260           [-1, 48, 35, 35]               0\n",
            "     BasicConv2d-261           [-1, 48, 35, 35]               0\n",
            "          Conv2d-262           [-1, 64, 35, 35]          27,648\n",
            "     BatchNorm2d-263           [-1, 64, 35, 35]             128\n",
            "            ReLU-264           [-1, 64, 35, 35]               0\n",
            "     BasicConv2d-265           [-1, 64, 35, 35]               0\n",
            "          Conv2d-266          [-1, 320, 35, 35]          41,280\n",
            "            ReLU-267          [-1, 320, 35, 35]               0\n",
            "         Block35-268          [-1, 320, 35, 35]               0\n",
            "          Conv2d-269           [-1, 32, 35, 35]          10,240\n",
            "     BatchNorm2d-270           [-1, 32, 35, 35]              64\n",
            "            ReLU-271           [-1, 32, 35, 35]               0\n",
            "     BasicConv2d-272           [-1, 32, 35, 35]               0\n",
            "          Conv2d-273           [-1, 32, 35, 35]          10,240\n",
            "     BatchNorm2d-274           [-1, 32, 35, 35]              64\n",
            "            ReLU-275           [-1, 32, 35, 35]               0\n",
            "     BasicConv2d-276           [-1, 32, 35, 35]               0\n",
            "          Conv2d-277           [-1, 32, 35, 35]           9,216\n",
            "     BatchNorm2d-278           [-1, 32, 35, 35]              64\n",
            "            ReLU-279           [-1, 32, 35, 35]               0\n",
            "     BasicConv2d-280           [-1, 32, 35, 35]               0\n",
            "          Conv2d-281           [-1, 32, 35, 35]          10,240\n",
            "     BatchNorm2d-282           [-1, 32, 35, 35]              64\n",
            "            ReLU-283           [-1, 32, 35, 35]               0\n",
            "     BasicConv2d-284           [-1, 32, 35, 35]               0\n",
            "          Conv2d-285           [-1, 48, 35, 35]          13,824\n",
            "     BatchNorm2d-286           [-1, 48, 35, 35]              96\n",
            "            ReLU-287           [-1, 48, 35, 35]               0\n",
            "     BasicConv2d-288           [-1, 48, 35, 35]               0\n",
            "          Conv2d-289           [-1, 64, 35, 35]          27,648\n",
            "     BatchNorm2d-290           [-1, 64, 35, 35]             128\n",
            "            ReLU-291           [-1, 64, 35, 35]               0\n",
            "     BasicConv2d-292           [-1, 64, 35, 35]               0\n",
            "          Conv2d-293          [-1, 320, 35, 35]          41,280\n",
            "            ReLU-294          [-1, 320, 35, 35]               0\n",
            "         Block35-295          [-1, 320, 35, 35]               0\n",
            "          Conv2d-296           [-1, 32, 35, 35]          10,240\n",
            "     BatchNorm2d-297           [-1, 32, 35, 35]              64\n",
            "            ReLU-298           [-1, 32, 35, 35]               0\n",
            "     BasicConv2d-299           [-1, 32, 35, 35]               0\n",
            "          Conv2d-300           [-1, 32, 35, 35]          10,240\n",
            "     BatchNorm2d-301           [-1, 32, 35, 35]              64\n",
            "            ReLU-302           [-1, 32, 35, 35]               0\n",
            "     BasicConv2d-303           [-1, 32, 35, 35]               0\n",
            "          Conv2d-304           [-1, 32, 35, 35]           9,216\n",
            "     BatchNorm2d-305           [-1, 32, 35, 35]              64\n",
            "            ReLU-306           [-1, 32, 35, 35]               0\n",
            "     BasicConv2d-307           [-1, 32, 35, 35]               0\n",
            "          Conv2d-308           [-1, 32, 35, 35]          10,240\n",
            "     BatchNorm2d-309           [-1, 32, 35, 35]              64\n",
            "            ReLU-310           [-1, 32, 35, 35]               0\n",
            "     BasicConv2d-311           [-1, 32, 35, 35]               0\n",
            "          Conv2d-312           [-1, 48, 35, 35]          13,824\n",
            "     BatchNorm2d-313           [-1, 48, 35, 35]              96\n",
            "            ReLU-314           [-1, 48, 35, 35]               0\n",
            "     BasicConv2d-315           [-1, 48, 35, 35]               0\n",
            "          Conv2d-316           [-1, 64, 35, 35]          27,648\n",
            "     BatchNorm2d-317           [-1, 64, 35, 35]             128\n",
            "            ReLU-318           [-1, 64, 35, 35]               0\n",
            "     BasicConv2d-319           [-1, 64, 35, 35]               0\n",
            "          Conv2d-320          [-1, 320, 35, 35]          41,280\n",
            "            ReLU-321          [-1, 320, 35, 35]               0\n",
            "         Block35-322          [-1, 320, 35, 35]               0\n",
            "          Conv2d-323          [-1, 384, 17, 17]       1,105,920\n",
            "     BatchNorm2d-324          [-1, 384, 17, 17]             768\n",
            "            ReLU-325          [-1, 384, 17, 17]               0\n",
            "     BasicConv2d-326          [-1, 384, 17, 17]               0\n",
            "          Conv2d-327          [-1, 256, 35, 35]          81,920\n",
            "     BatchNorm2d-328          [-1, 256, 35, 35]             512\n",
            "            ReLU-329          [-1, 256, 35, 35]               0\n",
            "     BasicConv2d-330          [-1, 256, 35, 35]               0\n",
            "          Conv2d-331          [-1, 256, 35, 35]         589,824\n",
            "     BatchNorm2d-332          [-1, 256, 35, 35]             512\n",
            "            ReLU-333          [-1, 256, 35, 35]               0\n",
            "     BasicConv2d-334          [-1, 256, 35, 35]               0\n",
            "          Conv2d-335          [-1, 384, 17, 17]         884,736\n",
            "     BatchNorm2d-336          [-1, 384, 17, 17]             768\n",
            "            ReLU-337          [-1, 384, 17, 17]               0\n",
            "     BasicConv2d-338          [-1, 384, 17, 17]               0\n",
            "       MaxPool2d-339          [-1, 320, 17, 17]               0\n",
            "        Mixed_6a-340         [-1, 1088, 17, 17]               0\n",
            "          Conv2d-341          [-1, 192, 17, 17]         208,896\n",
            "     BatchNorm2d-342          [-1, 192, 17, 17]             384\n",
            "            ReLU-343          [-1, 192, 17, 17]               0\n",
            "     BasicConv2d-344          [-1, 192, 17, 17]               0\n",
            "          Conv2d-345          [-1, 128, 17, 17]         139,264\n",
            "     BatchNorm2d-346          [-1, 128, 17, 17]             256\n",
            "            ReLU-347          [-1, 128, 17, 17]               0\n",
            "     BasicConv2d-348          [-1, 128, 17, 17]               0\n",
            "          Conv2d-349          [-1, 160, 17, 17]         143,360\n",
            "     BatchNorm2d-350          [-1, 160, 17, 17]             320\n",
            "            ReLU-351          [-1, 160, 17, 17]               0\n",
            "     BasicConv2d-352          [-1, 160, 17, 17]               0\n",
            "          Conv2d-353          [-1, 192, 17, 17]         215,040\n",
            "     BatchNorm2d-354          [-1, 192, 17, 17]             384\n",
            "            ReLU-355          [-1, 192, 17, 17]               0\n",
            "     BasicConv2d-356          [-1, 192, 17, 17]               0\n",
            "          Conv2d-357         [-1, 1088, 17, 17]         418,880\n",
            "            ReLU-358         [-1, 1088, 17, 17]               0\n",
            "         Block17-359         [-1, 1088, 17, 17]               0\n",
            "          Conv2d-360          [-1, 192, 17, 17]         208,896\n",
            "     BatchNorm2d-361          [-1, 192, 17, 17]             384\n",
            "            ReLU-362          [-1, 192, 17, 17]               0\n",
            "     BasicConv2d-363          [-1, 192, 17, 17]               0\n",
            "          Conv2d-364          [-1, 128, 17, 17]         139,264\n",
            "     BatchNorm2d-365          [-1, 128, 17, 17]             256\n",
            "            ReLU-366          [-1, 128, 17, 17]               0\n",
            "     BasicConv2d-367          [-1, 128, 17, 17]               0\n",
            "          Conv2d-368          [-1, 160, 17, 17]         143,360\n",
            "     BatchNorm2d-369          [-1, 160, 17, 17]             320\n",
            "            ReLU-370          [-1, 160, 17, 17]               0\n",
            "     BasicConv2d-371          [-1, 160, 17, 17]               0\n",
            "          Conv2d-372          [-1, 192, 17, 17]         215,040\n",
            "     BatchNorm2d-373          [-1, 192, 17, 17]             384\n",
            "            ReLU-374          [-1, 192, 17, 17]               0\n",
            "     BasicConv2d-375          [-1, 192, 17, 17]               0\n",
            "          Conv2d-376         [-1, 1088, 17, 17]         418,880\n",
            "            ReLU-377         [-1, 1088, 17, 17]               0\n",
            "         Block17-378         [-1, 1088, 17, 17]               0\n",
            "          Conv2d-379          [-1, 192, 17, 17]         208,896\n",
            "     BatchNorm2d-380          [-1, 192, 17, 17]             384\n",
            "            ReLU-381          [-1, 192, 17, 17]               0\n",
            "     BasicConv2d-382          [-1, 192, 17, 17]               0\n",
            "          Conv2d-383          [-1, 128, 17, 17]         139,264\n",
            "     BatchNorm2d-384          [-1, 128, 17, 17]             256\n",
            "            ReLU-385          [-1, 128, 17, 17]               0\n",
            "     BasicConv2d-386          [-1, 128, 17, 17]               0\n",
            "          Conv2d-387          [-1, 160, 17, 17]         143,360\n",
            "     BatchNorm2d-388          [-1, 160, 17, 17]             320\n",
            "            ReLU-389          [-1, 160, 17, 17]               0\n",
            "     BasicConv2d-390          [-1, 160, 17, 17]               0\n",
            "          Conv2d-391          [-1, 192, 17, 17]         215,040\n",
            "     BatchNorm2d-392          [-1, 192, 17, 17]             384\n",
            "            ReLU-393          [-1, 192, 17, 17]               0\n",
            "     BasicConv2d-394          [-1, 192, 17, 17]               0\n",
            "          Conv2d-395         [-1, 1088, 17, 17]         418,880\n",
            "            ReLU-396         [-1, 1088, 17, 17]               0\n",
            "         Block17-397         [-1, 1088, 17, 17]               0\n",
            "          Conv2d-398          [-1, 192, 17, 17]         208,896\n",
            "     BatchNorm2d-399          [-1, 192, 17, 17]             384\n",
            "            ReLU-400          [-1, 192, 17, 17]               0\n",
            "     BasicConv2d-401          [-1, 192, 17, 17]               0\n",
            "          Conv2d-402          [-1, 128, 17, 17]         139,264\n",
            "     BatchNorm2d-403          [-1, 128, 17, 17]             256\n",
            "            ReLU-404          [-1, 128, 17, 17]               0\n",
            "     BasicConv2d-405          [-1, 128, 17, 17]               0\n",
            "          Conv2d-406          [-1, 160, 17, 17]         143,360\n",
            "     BatchNorm2d-407          [-1, 160, 17, 17]             320\n",
            "            ReLU-408          [-1, 160, 17, 17]               0\n",
            "     BasicConv2d-409          [-1, 160, 17, 17]               0\n",
            "          Conv2d-410          [-1, 192, 17, 17]         215,040\n",
            "     BatchNorm2d-411          [-1, 192, 17, 17]             384\n",
            "            ReLU-412          [-1, 192, 17, 17]               0\n",
            "     BasicConv2d-413          [-1, 192, 17, 17]               0\n",
            "          Conv2d-414         [-1, 1088, 17, 17]         418,880\n",
            "            ReLU-415         [-1, 1088, 17, 17]               0\n",
            "         Block17-416         [-1, 1088, 17, 17]               0\n",
            "          Conv2d-417          [-1, 192, 17, 17]         208,896\n",
            "     BatchNorm2d-418          [-1, 192, 17, 17]             384\n",
            "            ReLU-419          [-1, 192, 17, 17]               0\n",
            "     BasicConv2d-420          [-1, 192, 17, 17]               0\n",
            "          Conv2d-421          [-1, 128, 17, 17]         139,264\n",
            "     BatchNorm2d-422          [-1, 128, 17, 17]             256\n",
            "            ReLU-423          [-1, 128, 17, 17]               0\n",
            "     BasicConv2d-424          [-1, 128, 17, 17]               0\n",
            "          Conv2d-425          [-1, 160, 17, 17]         143,360\n",
            "     BatchNorm2d-426          [-1, 160, 17, 17]             320\n",
            "            ReLU-427          [-1, 160, 17, 17]               0\n",
            "     BasicConv2d-428          [-1, 160, 17, 17]               0\n",
            "          Conv2d-429          [-1, 192, 17, 17]         215,040\n",
            "     BatchNorm2d-430          [-1, 192, 17, 17]             384\n",
            "            ReLU-431          [-1, 192, 17, 17]               0\n",
            "     BasicConv2d-432          [-1, 192, 17, 17]               0\n",
            "          Conv2d-433         [-1, 1088, 17, 17]         418,880\n",
            "            ReLU-434         [-1, 1088, 17, 17]               0\n",
            "         Block17-435         [-1, 1088, 17, 17]               0\n",
            "          Conv2d-436          [-1, 192, 17, 17]         208,896\n",
            "     BatchNorm2d-437          [-1, 192, 17, 17]             384\n",
            "            ReLU-438          [-1, 192, 17, 17]               0\n",
            "     BasicConv2d-439          [-1, 192, 17, 17]               0\n",
            "          Conv2d-440          [-1, 128, 17, 17]         139,264\n",
            "     BatchNorm2d-441          [-1, 128, 17, 17]             256\n",
            "            ReLU-442          [-1, 128, 17, 17]               0\n",
            "     BasicConv2d-443          [-1, 128, 17, 17]               0\n",
            "          Conv2d-444          [-1, 160, 17, 17]         143,360\n",
            "     BatchNorm2d-445          [-1, 160, 17, 17]             320\n",
            "            ReLU-446          [-1, 160, 17, 17]               0\n",
            "     BasicConv2d-447          [-1, 160, 17, 17]               0\n",
            "          Conv2d-448          [-1, 192, 17, 17]         215,040\n",
            "     BatchNorm2d-449          [-1, 192, 17, 17]             384\n",
            "            ReLU-450          [-1, 192, 17, 17]               0\n",
            "     BasicConv2d-451          [-1, 192, 17, 17]               0\n",
            "          Conv2d-452         [-1, 1088, 17, 17]         418,880\n",
            "            ReLU-453         [-1, 1088, 17, 17]               0\n",
            "         Block17-454         [-1, 1088, 17, 17]               0\n",
            "          Conv2d-455          [-1, 192, 17, 17]         208,896\n",
            "     BatchNorm2d-456          [-1, 192, 17, 17]             384\n",
            "            ReLU-457          [-1, 192, 17, 17]               0\n",
            "     BasicConv2d-458          [-1, 192, 17, 17]               0\n",
            "          Conv2d-459          [-1, 128, 17, 17]         139,264\n",
            "     BatchNorm2d-460          [-1, 128, 17, 17]             256\n",
            "            ReLU-461          [-1, 128, 17, 17]               0\n",
            "     BasicConv2d-462          [-1, 128, 17, 17]               0\n",
            "          Conv2d-463          [-1, 160, 17, 17]         143,360\n",
            "     BatchNorm2d-464          [-1, 160, 17, 17]             320\n",
            "            ReLU-465          [-1, 160, 17, 17]               0\n",
            "     BasicConv2d-466          [-1, 160, 17, 17]               0\n",
            "          Conv2d-467          [-1, 192, 17, 17]         215,040\n",
            "     BatchNorm2d-468          [-1, 192, 17, 17]             384\n",
            "            ReLU-469          [-1, 192, 17, 17]               0\n",
            "     BasicConv2d-470          [-1, 192, 17, 17]               0\n",
            "          Conv2d-471         [-1, 1088, 17, 17]         418,880\n",
            "            ReLU-472         [-1, 1088, 17, 17]               0\n",
            "         Block17-473         [-1, 1088, 17, 17]               0\n",
            "          Conv2d-474          [-1, 192, 17, 17]         208,896\n",
            "     BatchNorm2d-475          [-1, 192, 17, 17]             384\n",
            "            ReLU-476          [-1, 192, 17, 17]               0\n",
            "     BasicConv2d-477          [-1, 192, 17, 17]               0\n",
            "          Conv2d-478          [-1, 128, 17, 17]         139,264\n",
            "     BatchNorm2d-479          [-1, 128, 17, 17]             256\n",
            "            ReLU-480          [-1, 128, 17, 17]               0\n",
            "     BasicConv2d-481          [-1, 128, 17, 17]               0\n",
            "          Conv2d-482          [-1, 160, 17, 17]         143,360\n",
            "     BatchNorm2d-483          [-1, 160, 17, 17]             320\n",
            "            ReLU-484          [-1, 160, 17, 17]               0\n",
            "     BasicConv2d-485          [-1, 160, 17, 17]               0\n",
            "          Conv2d-486          [-1, 192, 17, 17]         215,040\n",
            "     BatchNorm2d-487          [-1, 192, 17, 17]             384\n",
            "            ReLU-488          [-1, 192, 17, 17]               0\n",
            "     BasicConv2d-489          [-1, 192, 17, 17]               0\n",
            "          Conv2d-490         [-1, 1088, 17, 17]         418,880\n",
            "            ReLU-491         [-1, 1088, 17, 17]               0\n",
            "         Block17-492         [-1, 1088, 17, 17]               0\n",
            "          Conv2d-493          [-1, 192, 17, 17]         208,896\n",
            "     BatchNorm2d-494          [-1, 192, 17, 17]             384\n",
            "            ReLU-495          [-1, 192, 17, 17]               0\n",
            "     BasicConv2d-496          [-1, 192, 17, 17]               0\n",
            "          Conv2d-497          [-1, 128, 17, 17]         139,264\n",
            "     BatchNorm2d-498          [-1, 128, 17, 17]             256\n",
            "            ReLU-499          [-1, 128, 17, 17]               0\n",
            "     BasicConv2d-500          [-1, 128, 17, 17]               0\n",
            "          Conv2d-501          [-1, 160, 17, 17]         143,360\n",
            "     BatchNorm2d-502          [-1, 160, 17, 17]             320\n",
            "            ReLU-503          [-1, 160, 17, 17]               0\n",
            "     BasicConv2d-504          [-1, 160, 17, 17]               0\n",
            "          Conv2d-505          [-1, 192, 17, 17]         215,040\n",
            "     BatchNorm2d-506          [-1, 192, 17, 17]             384\n",
            "            ReLU-507          [-1, 192, 17, 17]               0\n",
            "     BasicConv2d-508          [-1, 192, 17, 17]               0\n",
            "          Conv2d-509         [-1, 1088, 17, 17]         418,880\n",
            "            ReLU-510         [-1, 1088, 17, 17]               0\n",
            "         Block17-511         [-1, 1088, 17, 17]               0\n",
            "          Conv2d-512          [-1, 192, 17, 17]         208,896\n",
            "     BatchNorm2d-513          [-1, 192, 17, 17]             384\n",
            "            ReLU-514          [-1, 192, 17, 17]               0\n",
            "     BasicConv2d-515          [-1, 192, 17, 17]               0\n",
            "          Conv2d-516          [-1, 128, 17, 17]         139,264\n",
            "     BatchNorm2d-517          [-1, 128, 17, 17]             256\n",
            "            ReLU-518          [-1, 128, 17, 17]               0\n",
            "     BasicConv2d-519          [-1, 128, 17, 17]               0\n",
            "          Conv2d-520          [-1, 160, 17, 17]         143,360\n",
            "     BatchNorm2d-521          [-1, 160, 17, 17]             320\n",
            "            ReLU-522          [-1, 160, 17, 17]               0\n",
            "     BasicConv2d-523          [-1, 160, 17, 17]               0\n",
            "          Conv2d-524          [-1, 192, 17, 17]         215,040\n",
            "     BatchNorm2d-525          [-1, 192, 17, 17]             384\n",
            "            ReLU-526          [-1, 192, 17, 17]               0\n",
            "     BasicConv2d-527          [-1, 192, 17, 17]               0\n",
            "          Conv2d-528         [-1, 1088, 17, 17]         418,880\n",
            "            ReLU-529         [-1, 1088, 17, 17]               0\n",
            "         Block17-530         [-1, 1088, 17, 17]               0\n",
            "          Conv2d-531          [-1, 192, 17, 17]         208,896\n",
            "     BatchNorm2d-532          [-1, 192, 17, 17]             384\n",
            "            ReLU-533          [-1, 192, 17, 17]               0\n",
            "     BasicConv2d-534          [-1, 192, 17, 17]               0\n",
            "          Conv2d-535          [-1, 128, 17, 17]         139,264\n",
            "     BatchNorm2d-536          [-1, 128, 17, 17]             256\n",
            "            ReLU-537          [-1, 128, 17, 17]               0\n",
            "     BasicConv2d-538          [-1, 128, 17, 17]               0\n",
            "          Conv2d-539          [-1, 160, 17, 17]         143,360\n",
            "     BatchNorm2d-540          [-1, 160, 17, 17]             320\n",
            "            ReLU-541          [-1, 160, 17, 17]               0\n",
            "     BasicConv2d-542          [-1, 160, 17, 17]               0\n",
            "          Conv2d-543          [-1, 192, 17, 17]         215,040\n",
            "     BatchNorm2d-544          [-1, 192, 17, 17]             384\n",
            "            ReLU-545          [-1, 192, 17, 17]               0\n",
            "     BasicConv2d-546          [-1, 192, 17, 17]               0\n",
            "          Conv2d-547         [-1, 1088, 17, 17]         418,880\n",
            "            ReLU-548         [-1, 1088, 17, 17]               0\n",
            "         Block17-549         [-1, 1088, 17, 17]               0\n",
            "          Conv2d-550          [-1, 192, 17, 17]         208,896\n",
            "     BatchNorm2d-551          [-1, 192, 17, 17]             384\n",
            "            ReLU-552          [-1, 192, 17, 17]               0\n",
            "     BasicConv2d-553          [-1, 192, 17, 17]               0\n",
            "          Conv2d-554          [-1, 128, 17, 17]         139,264\n",
            "     BatchNorm2d-555          [-1, 128, 17, 17]             256\n",
            "            ReLU-556          [-1, 128, 17, 17]               0\n",
            "     BasicConv2d-557          [-1, 128, 17, 17]               0\n",
            "          Conv2d-558          [-1, 160, 17, 17]         143,360\n",
            "     BatchNorm2d-559          [-1, 160, 17, 17]             320\n",
            "            ReLU-560          [-1, 160, 17, 17]               0\n",
            "     BasicConv2d-561          [-1, 160, 17, 17]               0\n",
            "          Conv2d-562          [-1, 192, 17, 17]         215,040\n",
            "     BatchNorm2d-563          [-1, 192, 17, 17]             384\n",
            "            ReLU-564          [-1, 192, 17, 17]               0\n",
            "     BasicConv2d-565          [-1, 192, 17, 17]               0\n",
            "          Conv2d-566         [-1, 1088, 17, 17]         418,880\n",
            "            ReLU-567         [-1, 1088, 17, 17]               0\n",
            "         Block17-568         [-1, 1088, 17, 17]               0\n",
            "          Conv2d-569          [-1, 192, 17, 17]         208,896\n",
            "     BatchNorm2d-570          [-1, 192, 17, 17]             384\n",
            "            ReLU-571          [-1, 192, 17, 17]               0\n",
            "     BasicConv2d-572          [-1, 192, 17, 17]               0\n",
            "          Conv2d-573          [-1, 128, 17, 17]         139,264\n",
            "     BatchNorm2d-574          [-1, 128, 17, 17]             256\n",
            "            ReLU-575          [-1, 128, 17, 17]               0\n",
            "     BasicConv2d-576          [-1, 128, 17, 17]               0\n",
            "          Conv2d-577          [-1, 160, 17, 17]         143,360\n",
            "     BatchNorm2d-578          [-1, 160, 17, 17]             320\n",
            "            ReLU-579          [-1, 160, 17, 17]               0\n",
            "     BasicConv2d-580          [-1, 160, 17, 17]               0\n",
            "          Conv2d-581          [-1, 192, 17, 17]         215,040\n",
            "     BatchNorm2d-582          [-1, 192, 17, 17]             384\n",
            "            ReLU-583          [-1, 192, 17, 17]               0\n",
            "     BasicConv2d-584          [-1, 192, 17, 17]               0\n",
            "          Conv2d-585         [-1, 1088, 17, 17]         418,880\n",
            "            ReLU-586         [-1, 1088, 17, 17]               0\n",
            "         Block17-587         [-1, 1088, 17, 17]               0\n",
            "          Conv2d-588          [-1, 192, 17, 17]         208,896\n",
            "     BatchNorm2d-589          [-1, 192, 17, 17]             384\n",
            "            ReLU-590          [-1, 192, 17, 17]               0\n",
            "     BasicConv2d-591          [-1, 192, 17, 17]               0\n",
            "          Conv2d-592          [-1, 128, 17, 17]         139,264\n",
            "     BatchNorm2d-593          [-1, 128, 17, 17]             256\n",
            "            ReLU-594          [-1, 128, 17, 17]               0\n",
            "     BasicConv2d-595          [-1, 128, 17, 17]               0\n",
            "          Conv2d-596          [-1, 160, 17, 17]         143,360\n",
            "     BatchNorm2d-597          [-1, 160, 17, 17]             320\n",
            "            ReLU-598          [-1, 160, 17, 17]               0\n",
            "     BasicConv2d-599          [-1, 160, 17, 17]               0\n",
            "          Conv2d-600          [-1, 192, 17, 17]         215,040\n",
            "     BatchNorm2d-601          [-1, 192, 17, 17]             384\n",
            "            ReLU-602          [-1, 192, 17, 17]               0\n",
            "     BasicConv2d-603          [-1, 192, 17, 17]               0\n",
            "          Conv2d-604         [-1, 1088, 17, 17]         418,880\n",
            "            ReLU-605         [-1, 1088, 17, 17]               0\n",
            "         Block17-606         [-1, 1088, 17, 17]               0\n",
            "          Conv2d-607          [-1, 192, 17, 17]         208,896\n",
            "     BatchNorm2d-608          [-1, 192, 17, 17]             384\n",
            "            ReLU-609          [-1, 192, 17, 17]               0\n",
            "     BasicConv2d-610          [-1, 192, 17, 17]               0\n",
            "          Conv2d-611          [-1, 128, 17, 17]         139,264\n",
            "     BatchNorm2d-612          [-1, 128, 17, 17]             256\n",
            "            ReLU-613          [-1, 128, 17, 17]               0\n",
            "     BasicConv2d-614          [-1, 128, 17, 17]               0\n",
            "          Conv2d-615          [-1, 160, 17, 17]         143,360\n",
            "     BatchNorm2d-616          [-1, 160, 17, 17]             320\n",
            "            ReLU-617          [-1, 160, 17, 17]               0\n",
            "     BasicConv2d-618          [-1, 160, 17, 17]               0\n",
            "          Conv2d-619          [-1, 192, 17, 17]         215,040\n",
            "     BatchNorm2d-620          [-1, 192, 17, 17]             384\n",
            "            ReLU-621          [-1, 192, 17, 17]               0\n",
            "     BasicConv2d-622          [-1, 192, 17, 17]               0\n",
            "          Conv2d-623         [-1, 1088, 17, 17]         418,880\n",
            "            ReLU-624         [-1, 1088, 17, 17]               0\n",
            "         Block17-625         [-1, 1088, 17, 17]               0\n",
            "          Conv2d-626          [-1, 192, 17, 17]         208,896\n",
            "     BatchNorm2d-627          [-1, 192, 17, 17]             384\n",
            "            ReLU-628          [-1, 192, 17, 17]               0\n",
            "     BasicConv2d-629          [-1, 192, 17, 17]               0\n",
            "          Conv2d-630          [-1, 128, 17, 17]         139,264\n",
            "     BatchNorm2d-631          [-1, 128, 17, 17]             256\n",
            "            ReLU-632          [-1, 128, 17, 17]               0\n",
            "     BasicConv2d-633          [-1, 128, 17, 17]               0\n",
            "          Conv2d-634          [-1, 160, 17, 17]         143,360\n",
            "     BatchNorm2d-635          [-1, 160, 17, 17]             320\n",
            "            ReLU-636          [-1, 160, 17, 17]               0\n",
            "     BasicConv2d-637          [-1, 160, 17, 17]               0\n",
            "          Conv2d-638          [-1, 192, 17, 17]         215,040\n",
            "     BatchNorm2d-639          [-1, 192, 17, 17]             384\n",
            "            ReLU-640          [-1, 192, 17, 17]               0\n",
            "     BasicConv2d-641          [-1, 192, 17, 17]               0\n",
            "          Conv2d-642         [-1, 1088, 17, 17]         418,880\n",
            "            ReLU-643         [-1, 1088, 17, 17]               0\n",
            "         Block17-644         [-1, 1088, 17, 17]               0\n",
            "          Conv2d-645          [-1, 192, 17, 17]         208,896\n",
            "     BatchNorm2d-646          [-1, 192, 17, 17]             384\n",
            "            ReLU-647          [-1, 192, 17, 17]               0\n",
            "     BasicConv2d-648          [-1, 192, 17, 17]               0\n",
            "          Conv2d-649          [-1, 128, 17, 17]         139,264\n",
            "     BatchNorm2d-650          [-1, 128, 17, 17]             256\n",
            "            ReLU-651          [-1, 128, 17, 17]               0\n",
            "     BasicConv2d-652          [-1, 128, 17, 17]               0\n",
            "          Conv2d-653          [-1, 160, 17, 17]         143,360\n",
            "     BatchNorm2d-654          [-1, 160, 17, 17]             320\n",
            "            ReLU-655          [-1, 160, 17, 17]               0\n",
            "     BasicConv2d-656          [-1, 160, 17, 17]               0\n",
            "          Conv2d-657          [-1, 192, 17, 17]         215,040\n",
            "     BatchNorm2d-658          [-1, 192, 17, 17]             384\n",
            "            ReLU-659          [-1, 192, 17, 17]               0\n",
            "     BasicConv2d-660          [-1, 192, 17, 17]               0\n",
            "          Conv2d-661         [-1, 1088, 17, 17]         418,880\n",
            "            ReLU-662         [-1, 1088, 17, 17]               0\n",
            "         Block17-663         [-1, 1088, 17, 17]               0\n",
            "          Conv2d-664          [-1, 192, 17, 17]         208,896\n",
            "     BatchNorm2d-665          [-1, 192, 17, 17]             384\n",
            "            ReLU-666          [-1, 192, 17, 17]               0\n",
            "     BasicConv2d-667          [-1, 192, 17, 17]               0\n",
            "          Conv2d-668          [-1, 128, 17, 17]         139,264\n",
            "     BatchNorm2d-669          [-1, 128, 17, 17]             256\n",
            "            ReLU-670          [-1, 128, 17, 17]               0\n",
            "     BasicConv2d-671          [-1, 128, 17, 17]               0\n",
            "          Conv2d-672          [-1, 160, 17, 17]         143,360\n",
            "     BatchNorm2d-673          [-1, 160, 17, 17]             320\n",
            "            ReLU-674          [-1, 160, 17, 17]               0\n",
            "     BasicConv2d-675          [-1, 160, 17, 17]               0\n",
            "          Conv2d-676          [-1, 192, 17, 17]         215,040\n",
            "     BatchNorm2d-677          [-1, 192, 17, 17]             384\n",
            "            ReLU-678          [-1, 192, 17, 17]               0\n",
            "     BasicConv2d-679          [-1, 192, 17, 17]               0\n",
            "          Conv2d-680         [-1, 1088, 17, 17]         418,880\n",
            "            ReLU-681         [-1, 1088, 17, 17]               0\n",
            "         Block17-682         [-1, 1088, 17, 17]               0\n",
            "          Conv2d-683          [-1, 192, 17, 17]         208,896\n",
            "     BatchNorm2d-684          [-1, 192, 17, 17]             384\n",
            "            ReLU-685          [-1, 192, 17, 17]               0\n",
            "     BasicConv2d-686          [-1, 192, 17, 17]               0\n",
            "          Conv2d-687          [-1, 128, 17, 17]         139,264\n",
            "     BatchNorm2d-688          [-1, 128, 17, 17]             256\n",
            "            ReLU-689          [-1, 128, 17, 17]               0\n",
            "     BasicConv2d-690          [-1, 128, 17, 17]               0\n",
            "          Conv2d-691          [-1, 160, 17, 17]         143,360\n",
            "     BatchNorm2d-692          [-1, 160, 17, 17]             320\n",
            "            ReLU-693          [-1, 160, 17, 17]               0\n",
            "     BasicConv2d-694          [-1, 160, 17, 17]               0\n",
            "          Conv2d-695          [-1, 192, 17, 17]         215,040\n",
            "     BatchNorm2d-696          [-1, 192, 17, 17]             384\n",
            "            ReLU-697          [-1, 192, 17, 17]               0\n",
            "     BasicConv2d-698          [-1, 192, 17, 17]               0\n",
            "          Conv2d-699         [-1, 1088, 17, 17]         418,880\n",
            "            ReLU-700         [-1, 1088, 17, 17]               0\n",
            "         Block17-701         [-1, 1088, 17, 17]               0\n",
            "          Conv2d-702          [-1, 192, 17, 17]         208,896\n",
            "     BatchNorm2d-703          [-1, 192, 17, 17]             384\n",
            "            ReLU-704          [-1, 192, 17, 17]               0\n",
            "     BasicConv2d-705          [-1, 192, 17, 17]               0\n",
            "          Conv2d-706          [-1, 128, 17, 17]         139,264\n",
            "     BatchNorm2d-707          [-1, 128, 17, 17]             256\n",
            "            ReLU-708          [-1, 128, 17, 17]               0\n",
            "     BasicConv2d-709          [-1, 128, 17, 17]               0\n",
            "          Conv2d-710          [-1, 160, 17, 17]         143,360\n",
            "     BatchNorm2d-711          [-1, 160, 17, 17]             320\n",
            "            ReLU-712          [-1, 160, 17, 17]               0\n",
            "     BasicConv2d-713          [-1, 160, 17, 17]               0\n",
            "          Conv2d-714          [-1, 192, 17, 17]         215,040\n",
            "     BatchNorm2d-715          [-1, 192, 17, 17]             384\n",
            "            ReLU-716          [-1, 192, 17, 17]               0\n",
            "     BasicConv2d-717          [-1, 192, 17, 17]               0\n",
            "          Conv2d-718         [-1, 1088, 17, 17]         418,880\n",
            "            ReLU-719         [-1, 1088, 17, 17]               0\n",
            "         Block17-720         [-1, 1088, 17, 17]               0\n",
            "          Conv2d-721          [-1, 256, 17, 17]         278,528\n",
            "     BatchNorm2d-722          [-1, 256, 17, 17]             512\n",
            "            ReLU-723          [-1, 256, 17, 17]               0\n",
            "     BasicConv2d-724          [-1, 256, 17, 17]               0\n",
            "          Conv2d-725            [-1, 384, 8, 8]         884,736\n",
            "     BatchNorm2d-726            [-1, 384, 8, 8]             768\n",
            "            ReLU-727            [-1, 384, 8, 8]               0\n",
            "     BasicConv2d-728            [-1, 384, 8, 8]               0\n",
            "          Conv2d-729          [-1, 256, 17, 17]         278,528\n",
            "     BatchNorm2d-730          [-1, 256, 17, 17]             512\n",
            "            ReLU-731          [-1, 256, 17, 17]               0\n",
            "     BasicConv2d-732          [-1, 256, 17, 17]               0\n",
            "          Conv2d-733            [-1, 288, 8, 8]         663,552\n",
            "     BatchNorm2d-734            [-1, 288, 8, 8]             576\n",
            "            ReLU-735            [-1, 288, 8, 8]               0\n",
            "     BasicConv2d-736            [-1, 288, 8, 8]               0\n",
            "          Conv2d-737          [-1, 256, 17, 17]         278,528\n",
            "     BatchNorm2d-738          [-1, 256, 17, 17]             512\n",
            "            ReLU-739          [-1, 256, 17, 17]               0\n",
            "     BasicConv2d-740          [-1, 256, 17, 17]               0\n",
            "          Conv2d-741          [-1, 288, 17, 17]         663,552\n",
            "     BatchNorm2d-742          [-1, 288, 17, 17]             576\n",
            "            ReLU-743          [-1, 288, 17, 17]               0\n",
            "     BasicConv2d-744          [-1, 288, 17, 17]               0\n",
            "          Conv2d-745            [-1, 320, 8, 8]         829,440\n",
            "     BatchNorm2d-746            [-1, 320, 8, 8]             640\n",
            "            ReLU-747            [-1, 320, 8, 8]               0\n",
            "     BasicConv2d-748            [-1, 320, 8, 8]               0\n",
            "       MaxPool2d-749           [-1, 1088, 8, 8]               0\n",
            "        Mixed_7a-750           [-1, 2080, 8, 8]               0\n",
            "          Conv2d-751            [-1, 192, 8, 8]         399,360\n",
            "     BatchNorm2d-752            [-1, 192, 8, 8]             384\n",
            "            ReLU-753            [-1, 192, 8, 8]               0\n",
            "     BasicConv2d-754            [-1, 192, 8, 8]               0\n",
            "          Conv2d-755            [-1, 192, 8, 8]         399,360\n",
            "     BatchNorm2d-756            [-1, 192, 8, 8]             384\n",
            "            ReLU-757            [-1, 192, 8, 8]               0\n",
            "     BasicConv2d-758            [-1, 192, 8, 8]               0\n",
            "          Conv2d-759            [-1, 224, 8, 8]         129,024\n",
            "     BatchNorm2d-760            [-1, 224, 8, 8]             448\n",
            "            ReLU-761            [-1, 224, 8, 8]               0\n",
            "     BasicConv2d-762            [-1, 224, 8, 8]               0\n",
            "          Conv2d-763            [-1, 256, 8, 8]         172,032\n",
            "     BatchNorm2d-764            [-1, 256, 8, 8]             512\n",
            "            ReLU-765            [-1, 256, 8, 8]               0\n",
            "     BasicConv2d-766            [-1, 256, 8, 8]               0\n",
            "          Conv2d-767           [-1, 2080, 8, 8]         933,920\n",
            "            ReLU-768           [-1, 2080, 8, 8]               0\n",
            "          Block8-769           [-1, 2080, 8, 8]               0\n",
            "          Conv2d-770            [-1, 192, 8, 8]         399,360\n",
            "     BatchNorm2d-771            [-1, 192, 8, 8]             384\n",
            "            ReLU-772            [-1, 192, 8, 8]               0\n",
            "     BasicConv2d-773            [-1, 192, 8, 8]               0\n",
            "          Conv2d-774            [-1, 192, 8, 8]         399,360\n",
            "     BatchNorm2d-775            [-1, 192, 8, 8]             384\n",
            "            ReLU-776            [-1, 192, 8, 8]               0\n",
            "     BasicConv2d-777            [-1, 192, 8, 8]               0\n",
            "          Conv2d-778            [-1, 224, 8, 8]         129,024\n",
            "     BatchNorm2d-779            [-1, 224, 8, 8]             448\n",
            "            ReLU-780            [-1, 224, 8, 8]               0\n",
            "     BasicConv2d-781            [-1, 224, 8, 8]               0\n",
            "          Conv2d-782            [-1, 256, 8, 8]         172,032\n",
            "     BatchNorm2d-783            [-1, 256, 8, 8]             512\n",
            "            ReLU-784            [-1, 256, 8, 8]               0\n",
            "     BasicConv2d-785            [-1, 256, 8, 8]               0\n",
            "          Conv2d-786           [-1, 2080, 8, 8]         933,920\n",
            "            ReLU-787           [-1, 2080, 8, 8]               0\n",
            "          Block8-788           [-1, 2080, 8, 8]               0\n",
            "          Conv2d-789            [-1, 192, 8, 8]         399,360\n",
            "     BatchNorm2d-790            [-1, 192, 8, 8]             384\n",
            "            ReLU-791            [-1, 192, 8, 8]               0\n",
            "     BasicConv2d-792            [-1, 192, 8, 8]               0\n",
            "          Conv2d-793            [-1, 192, 8, 8]         399,360\n",
            "     BatchNorm2d-794            [-1, 192, 8, 8]             384\n",
            "            ReLU-795            [-1, 192, 8, 8]               0\n",
            "     BasicConv2d-796            [-1, 192, 8, 8]               0\n",
            "          Conv2d-797            [-1, 224, 8, 8]         129,024\n",
            "     BatchNorm2d-798            [-1, 224, 8, 8]             448\n",
            "            ReLU-799            [-1, 224, 8, 8]               0\n",
            "     BasicConv2d-800            [-1, 224, 8, 8]               0\n",
            "          Conv2d-801            [-1, 256, 8, 8]         172,032\n",
            "     BatchNorm2d-802            [-1, 256, 8, 8]             512\n",
            "            ReLU-803            [-1, 256, 8, 8]               0\n",
            "     BasicConv2d-804            [-1, 256, 8, 8]               0\n",
            "          Conv2d-805           [-1, 2080, 8, 8]         933,920\n",
            "            ReLU-806           [-1, 2080, 8, 8]               0\n",
            "          Block8-807           [-1, 2080, 8, 8]               0\n",
            "          Conv2d-808            [-1, 192, 8, 8]         399,360\n",
            "     BatchNorm2d-809            [-1, 192, 8, 8]             384\n",
            "            ReLU-810            [-1, 192, 8, 8]               0\n",
            "     BasicConv2d-811            [-1, 192, 8, 8]               0\n",
            "          Conv2d-812            [-1, 192, 8, 8]         399,360\n",
            "     BatchNorm2d-813            [-1, 192, 8, 8]             384\n",
            "            ReLU-814            [-1, 192, 8, 8]               0\n",
            "     BasicConv2d-815            [-1, 192, 8, 8]               0\n",
            "          Conv2d-816            [-1, 224, 8, 8]         129,024\n",
            "     BatchNorm2d-817            [-1, 224, 8, 8]             448\n",
            "            ReLU-818            [-1, 224, 8, 8]               0\n",
            "     BasicConv2d-819            [-1, 224, 8, 8]               0\n",
            "          Conv2d-820            [-1, 256, 8, 8]         172,032\n",
            "     BatchNorm2d-821            [-1, 256, 8, 8]             512\n",
            "            ReLU-822            [-1, 256, 8, 8]               0\n",
            "     BasicConv2d-823            [-1, 256, 8, 8]               0\n",
            "          Conv2d-824           [-1, 2080, 8, 8]         933,920\n",
            "            ReLU-825           [-1, 2080, 8, 8]               0\n",
            "          Block8-826           [-1, 2080, 8, 8]               0\n",
            "          Conv2d-827            [-1, 192, 8, 8]         399,360\n",
            "     BatchNorm2d-828            [-1, 192, 8, 8]             384\n",
            "            ReLU-829            [-1, 192, 8, 8]               0\n",
            "     BasicConv2d-830            [-1, 192, 8, 8]               0\n",
            "          Conv2d-831            [-1, 192, 8, 8]         399,360\n",
            "     BatchNorm2d-832            [-1, 192, 8, 8]             384\n",
            "            ReLU-833            [-1, 192, 8, 8]               0\n",
            "     BasicConv2d-834            [-1, 192, 8, 8]               0\n",
            "          Conv2d-835            [-1, 224, 8, 8]         129,024\n",
            "     BatchNorm2d-836            [-1, 224, 8, 8]             448\n",
            "            ReLU-837            [-1, 224, 8, 8]               0\n",
            "     BasicConv2d-838            [-1, 224, 8, 8]               0\n",
            "          Conv2d-839            [-1, 256, 8, 8]         172,032\n",
            "     BatchNorm2d-840            [-1, 256, 8, 8]             512\n",
            "            ReLU-841            [-1, 256, 8, 8]               0\n",
            "     BasicConv2d-842            [-1, 256, 8, 8]               0\n",
            "          Conv2d-843           [-1, 2080, 8, 8]         933,920\n",
            "            ReLU-844           [-1, 2080, 8, 8]               0\n",
            "          Block8-845           [-1, 2080, 8, 8]               0\n",
            "          Conv2d-846            [-1, 192, 8, 8]         399,360\n",
            "     BatchNorm2d-847            [-1, 192, 8, 8]             384\n",
            "            ReLU-848            [-1, 192, 8, 8]               0\n",
            "     BasicConv2d-849            [-1, 192, 8, 8]               0\n",
            "          Conv2d-850            [-1, 192, 8, 8]         399,360\n",
            "     BatchNorm2d-851            [-1, 192, 8, 8]             384\n",
            "            ReLU-852            [-1, 192, 8, 8]               0\n",
            "     BasicConv2d-853            [-1, 192, 8, 8]               0\n",
            "          Conv2d-854            [-1, 224, 8, 8]         129,024\n",
            "     BatchNorm2d-855            [-1, 224, 8, 8]             448\n",
            "            ReLU-856            [-1, 224, 8, 8]               0\n",
            "     BasicConv2d-857            [-1, 224, 8, 8]               0\n",
            "          Conv2d-858            [-1, 256, 8, 8]         172,032\n",
            "     BatchNorm2d-859            [-1, 256, 8, 8]             512\n",
            "            ReLU-860            [-1, 256, 8, 8]               0\n",
            "     BasicConv2d-861            [-1, 256, 8, 8]               0\n",
            "          Conv2d-862           [-1, 2080, 8, 8]         933,920\n",
            "            ReLU-863           [-1, 2080, 8, 8]               0\n",
            "          Block8-864           [-1, 2080, 8, 8]               0\n",
            "          Conv2d-865            [-1, 192, 8, 8]         399,360\n",
            "     BatchNorm2d-866            [-1, 192, 8, 8]             384\n",
            "            ReLU-867            [-1, 192, 8, 8]               0\n",
            "     BasicConv2d-868            [-1, 192, 8, 8]               0\n",
            "          Conv2d-869            [-1, 192, 8, 8]         399,360\n",
            "     BatchNorm2d-870            [-1, 192, 8, 8]             384\n",
            "            ReLU-871            [-1, 192, 8, 8]               0\n",
            "     BasicConv2d-872            [-1, 192, 8, 8]               0\n",
            "          Conv2d-873            [-1, 224, 8, 8]         129,024\n",
            "     BatchNorm2d-874            [-1, 224, 8, 8]             448\n",
            "            ReLU-875            [-1, 224, 8, 8]               0\n",
            "     BasicConv2d-876            [-1, 224, 8, 8]               0\n",
            "          Conv2d-877            [-1, 256, 8, 8]         172,032\n",
            "     BatchNorm2d-878            [-1, 256, 8, 8]             512\n",
            "            ReLU-879            [-1, 256, 8, 8]               0\n",
            "     BasicConv2d-880            [-1, 256, 8, 8]               0\n",
            "          Conv2d-881           [-1, 2080, 8, 8]         933,920\n",
            "            ReLU-882           [-1, 2080, 8, 8]               0\n",
            "          Block8-883           [-1, 2080, 8, 8]               0\n",
            "          Conv2d-884            [-1, 192, 8, 8]         399,360\n",
            "     BatchNorm2d-885            [-1, 192, 8, 8]             384\n",
            "            ReLU-886            [-1, 192, 8, 8]               0\n",
            "     BasicConv2d-887            [-1, 192, 8, 8]               0\n",
            "          Conv2d-888            [-1, 192, 8, 8]         399,360\n",
            "     BatchNorm2d-889            [-1, 192, 8, 8]             384\n",
            "            ReLU-890            [-1, 192, 8, 8]               0\n",
            "     BasicConv2d-891            [-1, 192, 8, 8]               0\n",
            "          Conv2d-892            [-1, 224, 8, 8]         129,024\n",
            "     BatchNorm2d-893            [-1, 224, 8, 8]             448\n",
            "            ReLU-894            [-1, 224, 8, 8]               0\n",
            "     BasicConv2d-895            [-1, 224, 8, 8]               0\n",
            "          Conv2d-896            [-1, 256, 8, 8]         172,032\n",
            "     BatchNorm2d-897            [-1, 256, 8, 8]             512\n",
            "            ReLU-898            [-1, 256, 8, 8]               0\n",
            "     BasicConv2d-899            [-1, 256, 8, 8]               0\n",
            "          Conv2d-900           [-1, 2080, 8, 8]         933,920\n",
            "            ReLU-901           [-1, 2080, 8, 8]               0\n",
            "          Block8-902           [-1, 2080, 8, 8]               0\n",
            "          Conv2d-903            [-1, 192, 8, 8]         399,360\n",
            "     BatchNorm2d-904            [-1, 192, 8, 8]             384\n",
            "            ReLU-905            [-1, 192, 8, 8]               0\n",
            "     BasicConv2d-906            [-1, 192, 8, 8]               0\n",
            "          Conv2d-907            [-1, 192, 8, 8]         399,360\n",
            "     BatchNorm2d-908            [-1, 192, 8, 8]             384\n",
            "            ReLU-909            [-1, 192, 8, 8]               0\n",
            "     BasicConv2d-910            [-1, 192, 8, 8]               0\n",
            "          Conv2d-911            [-1, 224, 8, 8]         129,024\n",
            "     BatchNorm2d-912            [-1, 224, 8, 8]             448\n",
            "            ReLU-913            [-1, 224, 8, 8]               0\n",
            "     BasicConv2d-914            [-1, 224, 8, 8]               0\n",
            "          Conv2d-915            [-1, 256, 8, 8]         172,032\n",
            "     BatchNorm2d-916            [-1, 256, 8, 8]             512\n",
            "            ReLU-917            [-1, 256, 8, 8]               0\n",
            "     BasicConv2d-918            [-1, 256, 8, 8]               0\n",
            "          Conv2d-919           [-1, 2080, 8, 8]         933,920\n",
            "            ReLU-920           [-1, 2080, 8, 8]               0\n",
            "          Block8-921           [-1, 2080, 8, 8]               0\n",
            "          Conv2d-922            [-1, 192, 8, 8]         399,360\n",
            "     BatchNorm2d-923            [-1, 192, 8, 8]             384\n",
            "            ReLU-924            [-1, 192, 8, 8]               0\n",
            "     BasicConv2d-925            [-1, 192, 8, 8]               0\n",
            "          Conv2d-926            [-1, 192, 8, 8]         399,360\n",
            "     BatchNorm2d-927            [-1, 192, 8, 8]             384\n",
            "            ReLU-928            [-1, 192, 8, 8]               0\n",
            "     BasicConv2d-929            [-1, 192, 8, 8]               0\n",
            "          Conv2d-930            [-1, 224, 8, 8]         129,024\n",
            "     BatchNorm2d-931            [-1, 224, 8, 8]             448\n",
            "            ReLU-932            [-1, 224, 8, 8]               0\n",
            "     BasicConv2d-933            [-1, 224, 8, 8]               0\n",
            "          Conv2d-934            [-1, 256, 8, 8]         172,032\n",
            "     BatchNorm2d-935            [-1, 256, 8, 8]             512\n",
            "            ReLU-936            [-1, 256, 8, 8]               0\n",
            "     BasicConv2d-937            [-1, 256, 8, 8]               0\n",
            "          Conv2d-938           [-1, 2080, 8, 8]         933,920\n",
            "          Block8-939           [-1, 2080, 8, 8]               0\n",
            "          Conv2d-940           [-1, 1536, 8, 8]       3,194,880\n",
            "     BatchNorm2d-941           [-1, 1536, 8, 8]           3,072\n",
            "            ReLU-942           [-1, 1536, 8, 8]               0\n",
            "     BasicConv2d-943           [-1, 1536, 8, 8]               0\n",
            "       AvgPool2d-944           [-1, 1536, 1, 1]               0\n",
            "          Linear-945                 [-1, 1000]       1,537,000\n",
            "         Dropout-946                 [-1, 1000]               0\n",
            "          Linear-947                  [-1, 512]         512,512\n",
            "            ReLU-948                  [-1, 512]               0\n",
            "         Dropout-949                  [-1, 512]               0\n",
            "          Linear-950                  [-1, 256]         131,328\n",
            "            ReLU-951                  [-1, 256]               0\n",
            "         Dropout-952                  [-1, 256]               0\n",
            "          Linear-953                    [-1, 2]             514\n",
            "================================================================\n",
            "Total params: 56,487,818\n",
            "Trainable params: 2,181,354\n",
            "Non-trainable params: 54,306,464\n",
            "----------------------------------------------------------------\n",
            "Input size (MB): 1.02\n",
            "Forward/backward pass size (MB): 689.56\n",
            "Params size (MB): 215.48\n",
            "Estimated Total Size (MB): 906.07\n",
            "----------------------------------------------------------------\n"
          ]
        }
      ],
      "source": [
        "\n",
        "\n",
        "__all__ = ['InceptionResNetV2', 'inceptionresnetv2']\n",
        "\n",
        "pretrained_settings = {\n",
        "    'inceptionresnetv2': {\n",
        "        'imagenet': {\n",
        "            'url': 'http://data.lip6.fr/cadene/pretrainedmodels/inceptionresnetv2-520b38e4.pth',\n",
        "            'input_space': 'RGB',\n",
        "            'input_size': [3, 299, 299],\n",
        "            'input_range': [0, 1],\n",
        "            'mean': [0.5, 0.5, 0.5],\n",
        "            'std': [0.5, 0.5, 0.5],\n",
        "            'num_classes': 1000\n",
        "        },\n",
        "        'imagenet+background': {\n",
        "            'url': 'http://data.lip6.fr/cadene/pretrainedmodels/inceptionresnetv2-520b38e4.pth',\n",
        "            'input_space': 'RGB',\n",
        "            'input_size': [3, 299, 299],\n",
        "            'input_range': [0, 1],\n",
        "            'mean': [0.5, 0.5, 0.5],\n",
        "            'std': [0.5, 0.5, 0.5],\n",
        "            'num_classes': 1001\n",
        "        }\n",
        "    }\n",
        "}\n",
        "\n",
        "\n",
        "class BasicConv2d(nn.Module):\n",
        "\n",
        "    def __init__(self, in_planes, out_planes, kernel_size, stride, padding=0):\n",
        "        super(BasicConv2d, self).__init__()\n",
        "        self.conv = nn.Conv2d(in_planes, out_planes,\n",
        "                              kernel_size=kernel_size, stride=stride,\n",
        "                              padding=padding, bias=False) # verify bias false\n",
        "        self.bn = nn.BatchNorm2d(out_planes,\n",
        "                                 eps=0.001, # value found in tensorflow\n",
        "                                 momentum=0.1, # default pytorch value\n",
        "                                 affine=True)\n",
        "        self.relu = nn.ReLU(inplace=False)\n",
        "\n",
        "    def forward(self, x):\n",
        "        x = self.conv(x)\n",
        "        x = self.bn(x)\n",
        "        x = self.relu(x)\n",
        "        return x\n",
        "\n",
        "\n",
        "class Mixed_5b(nn.Module):\n",
        "\n",
        "    def __init__(self):\n",
        "        super(Mixed_5b, self).__init__()\n",
        "\n",
        "        self.branch0 = BasicConv2d(192, 96, kernel_size=1, stride=1)\n",
        "\n",
        "        self.branch1 = nn.Sequential(\n",
        "            BasicConv2d(192, 48, kernel_size=1, stride=1),\n",
        "            BasicConv2d(48, 64, kernel_size=5, stride=1, padding=2)\n",
        "        )\n",
        "\n",
        "        self.branch2 = nn.Sequential(\n",
        "            BasicConv2d(192, 64, kernel_size=1, stride=1),\n",
        "            BasicConv2d(64, 96, kernel_size=3, stride=1, padding=1),\n",
        "            BasicConv2d(96, 96, kernel_size=3, stride=1, padding=1)\n",
        "        )\n",
        "\n",
        "        self.branch3 = nn.Sequential(\n",
        "            nn.AvgPool2d(3, stride=1, padding=1, count_include_pad=False),\n",
        "            BasicConv2d(192, 64, kernel_size=1, stride=1)\n",
        "        )\n",
        "\n",
        "    def forward(self, x):\n",
        "        x0 = self.branch0(x)\n",
        "        x1 = self.branch1(x)\n",
        "        x2 = self.branch2(x)\n",
        "        x3 = self.branch3(x)\n",
        "        out = torch.cat((x0, x1, x2, x3), 1)\n",
        "        return out\n",
        "\n",
        "\n",
        "class Block35(nn.Module):\n",
        "\n",
        "    def __init__(self, scale=1.0):\n",
        "        super(Block35, self).__init__()\n",
        "\n",
        "        self.scale = scale\n",
        "\n",
        "        self.branch0 = BasicConv2d(320, 32, kernel_size=1, stride=1)\n",
        "\n",
        "        self.branch1 = nn.Sequential(\n",
        "            BasicConv2d(320, 32, kernel_size=1, stride=1),\n",
        "            BasicConv2d(32, 32, kernel_size=3, stride=1, padding=1)\n",
        "        )\n",
        "\n",
        "        self.branch2 = nn.Sequential(\n",
        "            BasicConv2d(320, 32, kernel_size=1, stride=1),\n",
        "            BasicConv2d(32, 48, kernel_size=3, stride=1, padding=1),\n",
        "            BasicConv2d(48, 64, kernel_size=3, stride=1, padding=1)\n",
        "        )\n",
        "\n",
        "        self.conv2d = nn.Conv2d(128, 320, kernel_size=1, stride=1)\n",
        "        self.relu = nn.ReLU(inplace=False)\n",
        "\n",
        "    def forward(self, x):\n",
        "        x0 = self.branch0(x)\n",
        "        x1 = self.branch1(x)\n",
        "        x2 = self.branch2(x)\n",
        "        out = torch.cat((x0, x1, x2), 1)\n",
        "        out = self.conv2d(out)\n",
        "        out = out * self.scale + x\n",
        "        out = self.relu(out)\n",
        "        return out\n",
        "\n",
        "\n",
        "class Mixed_6a(nn.Module):\n",
        "\n",
        "    def __init__(self):\n",
        "        super(Mixed_6a, self).__init__()\n",
        "\n",
        "        self.branch0 = BasicConv2d(320, 384, kernel_size=3, stride=2)\n",
        "\n",
        "        self.branch1 = nn.Sequential(\n",
        "            BasicConv2d(320, 256, kernel_size=1, stride=1),\n",
        "            BasicConv2d(256, 256, kernel_size=3, stride=1, padding=1),\n",
        "            BasicConv2d(256, 384, kernel_size=3, stride=2)\n",
        "        )\n",
        "\n",
        "        self.branch2 = nn.MaxPool2d(3, stride=2)\n",
        "\n",
        "    def forward(self, x):\n",
        "        x0 = self.branch0(x)\n",
        "        x1 = self.branch1(x)\n",
        "        x2 = self.branch2(x)\n",
        "        out = torch.cat((x0, x1, x2), 1)\n",
        "        return out\n",
        "\n",
        "\n",
        "class Block17(nn.Module):\n",
        "\n",
        "    def __init__(self, scale=1.0):\n",
        "        super(Block17, self).__init__()\n",
        "\n",
        "        self.scale = scale\n",
        "\n",
        "        self.branch0 = BasicConv2d(1088, 192, kernel_size=1, stride=1)\n",
        "\n",
        "        self.branch1 = nn.Sequential(\n",
        "            BasicConv2d(1088, 128, kernel_size=1, stride=1),\n",
        "            BasicConv2d(128, 160, kernel_size=(1,7), stride=1, padding=(0,3)),\n",
        "            BasicConv2d(160, 192, kernel_size=(7,1), stride=1, padding=(3,0))\n",
        "        )\n",
        "\n",
        "        self.conv2d = nn.Conv2d(384, 1088, kernel_size=1, stride=1)\n",
        "        self.relu = nn.ReLU(inplace=False)\n",
        "\n",
        "    def forward(self, x):\n",
        "        x0 = self.branch0(x)\n",
        "        x1 = self.branch1(x)\n",
        "        out = torch.cat((x0, x1), 1)\n",
        "        out = self.conv2d(out)\n",
        "        out = out * self.scale + x\n",
        "        out = self.relu(out)\n",
        "        return out\n",
        "\n",
        "\n",
        "class Mixed_7a(nn.Module):\n",
        "\n",
        "    def __init__(self):\n",
        "        super(Mixed_7a, self).__init__()\n",
        "\n",
        "        self.branch0 = nn.Sequential(\n",
        "            BasicConv2d(1088, 256, kernel_size=1, stride=1),\n",
        "            BasicConv2d(256, 384, kernel_size=3, stride=2)\n",
        "        )\n",
        "\n",
        "        self.branch1 = nn.Sequential(\n",
        "            BasicConv2d(1088, 256, kernel_size=1, stride=1),\n",
        "            BasicConv2d(256, 288, kernel_size=3, stride=2)\n",
        "        )\n",
        "\n",
        "        self.branch2 = nn.Sequential(\n",
        "            BasicConv2d(1088, 256, kernel_size=1, stride=1),\n",
        "            BasicConv2d(256, 288, kernel_size=3, stride=1, padding=1),\n",
        "            BasicConv2d(288, 320, kernel_size=3, stride=2)\n",
        "        )\n",
        "\n",
        "        self.branch3 = nn.MaxPool2d(3, stride=2)\n",
        "\n",
        "    def forward(self, x):\n",
        "        x0 = self.branch0(x)\n",
        "        x1 = self.branch1(x)\n",
        "        x2 = self.branch2(x)\n",
        "        x3 = self.branch3(x)\n",
        "        out = torch.cat((x0, x1, x2, x3), 1)\n",
        "        return out\n",
        "\n",
        "\n",
        "class Block8(nn.Module):\n",
        "\n",
        "    def __init__(self, scale=1.0, noReLU=False):\n",
        "        super(Block8, self).__init__()\n",
        "\n",
        "        self.scale = scale\n",
        "        self.noReLU = noReLU\n",
        "\n",
        "        self.branch0 = BasicConv2d(2080, 192, kernel_size=1, stride=1)\n",
        "\n",
        "        self.branch1 = nn.Sequential(\n",
        "            BasicConv2d(2080, 192, kernel_size=1, stride=1),\n",
        "            BasicConv2d(192, 224, kernel_size=(1,3), stride=1, padding=(0,1)),\n",
        "            BasicConv2d(224, 256, kernel_size=(3,1), stride=1, padding=(1,0))\n",
        "        )\n",
        "\n",
        "        self.conv2d = nn.Conv2d(448, 2080, kernel_size=1, stride=1)\n",
        "        if not self.noReLU:\n",
        "            self.relu = nn.ReLU(inplace=False)\n",
        "\n",
        "    def forward(self, x):\n",
        "        x0 = self.branch0(x)\n",
        "        x1 = self.branch1(x)\n",
        "        out = torch.cat((x0, x1), 1)\n",
        "        out = self.conv2d(out)\n",
        "        out = out * self.scale + x\n",
        "        if not self.noReLU:\n",
        "            out = self.relu(out)\n",
        "        return out\n",
        "\n",
        "\n",
        "class InceptionResNetV2(nn.Module):\n",
        "\n",
        "    def __init__(self, num_classes=1001):\n",
        "        super(InceptionResNetV2, self).__init__()\n",
        "        # Special attributs\n",
        "        self.input_space = None\n",
        "        self.input_size = (299, 299, 3)\n",
        "        self.mean = None\n",
        "        self.std = None\n",
        "        # Modules\n",
        "        self.conv2d_1a = BasicConv2d(3, 32, kernel_size=3, stride=2)\n",
        "        self.conv2d_2a = BasicConv2d(32, 32, kernel_size=3, stride=1)\n",
        "        self.conv2d_2b = BasicConv2d(32, 64, kernel_size=3, stride=1, padding=1)\n",
        "        self.maxpool_3a = nn.MaxPool2d(3, stride=2)\n",
        "        self.conv2d_3b = BasicConv2d(64, 80, kernel_size=1, stride=1)\n",
        "        self.conv2d_4a = BasicConv2d(80, 192, kernel_size=3, stride=1)\n",
        "        self.maxpool_5a = nn.MaxPool2d(3, stride=2)\n",
        "        self.mixed_5b = Mixed_5b()\n",
        "        self.repeat = nn.Sequential(\n",
        "            Block35(scale=0.17),\n",
        "            Block35(scale=0.17),\n",
        "            Block35(scale=0.17),\n",
        "            Block35(scale=0.17),\n",
        "            Block35(scale=0.17),\n",
        "            Block35(scale=0.17),\n",
        "            Block35(scale=0.17),\n",
        "            Block35(scale=0.17),\n",
        "            Block35(scale=0.17),\n",
        "            Block35(scale=0.17)\n",
        "        )\n",
        "        self.mixed_6a = Mixed_6a()\n",
        "        self.repeat_1 = nn.Sequential(\n",
        "            Block17(scale=0.10),\n",
        "            Block17(scale=0.10),\n",
        "            Block17(scale=0.10),\n",
        "            Block17(scale=0.10),\n",
        "            Block17(scale=0.10),\n",
        "            Block17(scale=0.10),\n",
        "            Block17(scale=0.10),\n",
        "            Block17(scale=0.10),\n",
        "            Block17(scale=0.10),\n",
        "            Block17(scale=0.10),\n",
        "            Block17(scale=0.10),\n",
        "            Block17(scale=0.10),\n",
        "            Block17(scale=0.10),\n",
        "            Block17(scale=0.10),\n",
        "            Block17(scale=0.10),\n",
        "            Block17(scale=0.10),\n",
        "            Block17(scale=0.10),\n",
        "            Block17(scale=0.10),\n",
        "            Block17(scale=0.10),\n",
        "            Block17(scale=0.10)\n",
        "        )\n",
        "        self.mixed_7a = Mixed_7a()\n",
        "        self.repeat_2 = nn.Sequential(\n",
        "            Block8(scale=0.20),\n",
        "            Block8(scale=0.20),\n",
        "            Block8(scale=0.20),\n",
        "            Block8(scale=0.20),\n",
        "            Block8(scale=0.20),\n",
        "            Block8(scale=0.20),\n",
        "            Block8(scale=0.20),\n",
        "            Block8(scale=0.20),\n",
        "            Block8(scale=0.20)\n",
        "        )\n",
        "        self.block8 = Block8(noReLU=True)\n",
        "        self.conv2d_7b = BasicConv2d(2080, 1536, kernel_size=1, stride=1)\n",
        "        self.avgpool_1a = nn.AvgPool2d(8, count_include_pad=False)\n",
        "        self.last_linear = nn.Linear(1536, num_classes)\n",
        "        \n",
        "\n",
        "    def features(self, input):\n",
        "        x = self.conv2d_1a(input)\n",
        "        x = self.conv2d_2a(x)\n",
        "        x = self.conv2d_2b(x)\n",
        "        x = self.maxpool_3a(x)\n",
        "        x = self.conv2d_3b(x)\n",
        "        x = self.conv2d_4a(x)\n",
        "        x = self.maxpool_5a(x)\n",
        "        x = self.mixed_5b(x)\n",
        "        x = self.repeat(x)\n",
        "        x = self.mixed_6a(x)\n",
        "        x = self.repeat_1(x)\n",
        "        x = self.mixed_7a(x)\n",
        "        x = self.repeat_2(x)\n",
        "        x = self.block8(x)\n",
        "        x = self.conv2d_7b(x)\n",
        "        return x\n",
        "\n",
        "    def logits(self, features):\n",
        "        x = self.avgpool_1a(features)\n",
        "        x = x.view(x.size(0), -1)\n",
        "        x = self.last_linear(x)\n",
        "        return x\n",
        "\n",
        "    def forward(self, input):\n",
        "        x = self.features(input)\n",
        "        x = self.logits(x)\n",
        "        return x\n",
        "\n",
        "def inceptionresnetv2(num_classes=1000, pretrained='imagenet'):\n",
        "    r\"\"\"InceptionResNetV2 model architecture from the\n",
        "    `\"InceptionV4, Inception-ResNet...\" <https://arxiv.org/abs/1602.07261>`_ paper.\n",
        "    \"\"\"\n",
        "    if pretrained:\n",
        "        settings = pretrained_settings['inceptionresnetv2'][pretrained]\n",
        "        assert num_classes == settings['num_classes'], \\\n",
        "            \"num_classes should be {}, but is {}\".format(settings['num_classes'], num_classes)\n",
        "\n",
        "        # both 'imagenet'&'imagenet+background' are loaded from same parameters\n",
        "        model = InceptionResNetV2(num_classes=1001)\n",
        "        model.load_state_dict(model_zoo.load_url(settings['url']))\n",
        "\n",
        "        if pretrained == 'imagenet':\n",
        "            new_last_linear = nn.Linear(1536, 1000)\n",
        "            new_last_linear.weight.data = model.last_linear.weight.data[1:]\n",
        "            new_last_linear.bias.data = model.last_linear.bias.data[1:]\n",
        "            model.last_linear = new_last_linear\n",
        "\n",
        "        model.input_space = settings['input_space']\n",
        "        model.input_size = settings['input_size']\n",
        "        model.input_range = settings['input_range']\n",
        "\n",
        "        model.mean = settings['mean']\n",
        "        model.std = settings['std']\n",
        "    else:\n",
        "        model = InceptionResNetV2(num_classes=num_classes)\n",
        "    return model\n",
        "\n",
        "'''\n",
        "TEST\n",
        "Run this code with:\n",
        "```\n",
        "cd $HOME/pretrained-models.pytorch\n",
        "python -m pretrainedmodels.inceptionresnetv2\n",
        "```\n",
        "'''\n",
        "# Using availabel VGG16\n",
        "model_ft = inceptionresnetv2(num_classes=1000, pretrained='imagenet').to(device)\n",
        "print(model_ft.parameters())\n",
        "# freeze convolution weights\n",
        "for param in model_ft.parameters():\n",
        "    param.requires_grad = False\n",
        "\n",
        "# Modify last fc layer\n",
        "num_inputs = model_ft.last_linear.in_features\n",
        "model_ft.last_linear = nn.Sequential(\n",
        "    nn.Linear(num_inputs, 1000),\n",
        "    nn.Dropout(0.3),\n",
        "    nn.Linear(1000, 512),\n",
        "    nn.ReLU(),\n",
        "    nn.Dropout(0.2),\n",
        "    nn.Linear(512,256),\n",
        "    nn.ReLU(),\n",
        "    nn.Dropout(0.1),\n",
        "    nn.Linear(256, 2)\n",
        ").to(device)\n",
        "# Model summary\n",
        "summary(model_ft, (3, 299, 299))\n",
        "\n",
        "criterion = nn.CrossEntropyLoss()\n",
        "optimizer = torch.optim.Adam(model_ft.last_linear.parameters(), lr=learning_rate, weight_decay=0.0005)\n",
        "exp_lr_scheduler = lr_scheduler.MultiStepLR(optimizer, \n",
        "                                           milestones=[20,40,60,80, 100], \n",
        "                                           gamma=0.2)\n",
        "\n",
        "\n"
      ]
    },
    {
      "cell_type": "code",
      "execution_count": 100,
      "metadata": {
        "id": "jIEB9SbixSa3"
      },
      "outputs": [],
      "source": [
        "dataloaders = {'TRAIN':train_loader, 'VAL':val_loader}\n",
        "dataset_sizes = {'TRAIN':train_dataset.data.shape[0], 'VAL':test_dataset.data.shape[0]}\n",
        "min_valid_loss = np.inf\n",
        "# validation function\n",
        "def validate(model, test_dataloader):\n",
        "    model.eval()\n",
        "    val_running_loss = 0.0\n",
        "    val_running_correct = 0\n",
        "    n_samples = 0\n",
        "    for idx, (images, labels) in enumerate(test_dataloader):\n",
        "        images, labels = images.to(device), labels.to(device)\n",
        "        output = model(images)\n",
        "        loss = criterion(output, labels)\n",
        "        \n",
        "        val_running_loss += loss.item()\n",
        "        _, preds = torch.max(output, 1)\n",
        "        val_running_correct += (preds == labels).sum().item()\n",
        "        n_samples += labels.size(0)\n",
        "        \n",
        "    # if min_valid_loss > val_loss:\n",
        "    #   print(f'Validation Loss Decreased({min_valid_loss:.6f}--->{val_loss:.6f}) \\t Saving The Model')\n",
        "    #   min_valid_loss = val_loss\n",
        "    #   torch.save(model.state_dict(), 'saved_model.pth')\n",
        "    val_loss = val_running_loss/n_samples\n",
        "    val_accuracy = 100. * val_running_correct/n_samples\n",
        "    print(f'Val Loss: {val_loss:.4f}, Val Acc: {val_accuracy:.2f}')\n",
        "\n",
        "    return val_loss, val_accuracy\n",
        "\n",
        "# training function\n",
        "def fit(model, train_dataloader, epoch, epochs):\n",
        "    model.train()\n",
        "    train_running_loss = 0.0\n",
        "    train_running_correct = 0\n",
        "    n_samples = 0\n",
        "    with tqdm(train_dataloader, unit='batch') as tepoch:\n",
        "      for (images, labels) in tepoch:\n",
        "          tepoch.set_description(f\"Epoch [{epoch}/{epochs}]\")\n",
        "          images, labels = images.to(device), labels.to(device)\n",
        "          optimizer.zero_grad()\n",
        "          output = model(images)\n",
        "          loss = criterion(output, labels)\n",
        "          train_running_loss += loss.item()\n",
        "          _, preds = torch.max(output, 1)\n",
        "          correct = (preds == labels).sum().item()\n",
        "          train_running_correct += (preds == labels).sum().item()\n",
        "          loss.backward()\n",
        "          optimizer.step()\n",
        "          n_samples += labels.size(0)\n",
        "          tepoch.set_postfix(loss=loss.item()/labels.size(0), accuracy=100.*correct/labels.size(0))\n",
        "      train_loss = train_running_loss/n_samples\n",
        "      train_accuracy = 100. * train_running_correct/n_samples\n",
        "      # print(f'Train Loss: {train_loss:.4f}, Train Acc: {train_accuracy:.2f}')\n",
        "    \n",
        "    return train_loss, train_accuracy"
      ]
    },
    {
      "cell_type": "code",
      "execution_count": null,
      "metadata": {
        "colab": {
          "base_uri": "https://localhost:8080/"
        },
        "id": "T27mTy95xhyX",
        "outputId": "74007fcb-b08d-4fe1-ba48-8a8c1b8f584a"
      },
      "outputs": [
        {
          "name": "stderr",
          "output_type": "stream",
          "text": [
            "Epoch [0/100]: 100%|██████████| 45/45 [00:09<00:00,  4.67batch/s, accuracy=100, loss=0.108]\n"
          ]
        },
        {
          "name": "stdout",
          "output_type": "stream",
          "text": [
            "Val Loss: 0.1609, Val Acc: 60.78\n"
          ]
        },
        {
          "name": "stderr",
          "output_type": "stream",
          "text": [
            "Epoch [1/100]: 100%|██████████| 45/45 [00:04<00:00, 10.51batch/s, accuracy=50, loss=0.171]\n"
          ]
        },
        {
          "name": "stdout",
          "output_type": "stream",
          "text": [
            "Val Loss: 0.1527, Val Acc: 86.27\n"
          ]
        },
        {
          "name": "stderr",
          "output_type": "stream",
          "text": [
            "Epoch [2/100]: 100%|██████████| 45/45 [00:04<00:00, 10.67batch/s, accuracy=0, loss=0.322]\n"
          ]
        },
        {
          "name": "stdout",
          "output_type": "stream",
          "text": [
            "Val Loss: 0.1633, Val Acc: 60.78\n"
          ]
        },
        {
          "name": "stderr",
          "output_type": "stream",
          "text": [
            "Epoch [3/100]: 100%|██████████| 45/45 [00:04<00:00, 10.86batch/s, accuracy=75, loss=0.105]\n"
          ]
        },
        {
          "name": "stdout",
          "output_type": "stream",
          "text": [
            "Val Loss: 0.3839, Val Acc: 68.63\n"
          ]
        },
        {
          "name": "stderr",
          "output_type": "stream",
          "text": [
            "Epoch [4/100]: 100%|██████████| 45/45 [00:05<00:00,  8.30batch/s, accuracy=75, loss=0.114]\n"
          ]
        },
        {
          "name": "stdout",
          "output_type": "stream",
          "text": [
            "Val Loss: 0.1332, Val Acc: 66.67\n"
          ]
        },
        {
          "name": "stderr",
          "output_type": "stream",
          "text": [
            "Epoch [5/100]: 100%|██████████| 45/45 [00:08<00:00,  5.42batch/s, accuracy=100, loss=0.147]\n"
          ]
        },
        {
          "name": "stdout",
          "output_type": "stream",
          "text": [
            "Val Loss: 0.1399, Val Acc: 88.24\n"
          ]
        },
        {
          "name": "stderr",
          "output_type": "stream",
          "text": [
            "Epoch [6/100]: 100%|██████████| 45/45 [00:04<00:00, 10.66batch/s, accuracy=100, loss=0.0951]\n"
          ]
        },
        {
          "name": "stdout",
          "output_type": "stream",
          "text": [
            "Val Loss: 0.0797, Val Acc: 94.12\n"
          ]
        },
        {
          "name": "stderr",
          "output_type": "stream",
          "text": [
            "Epoch [7/100]: 100%|██████████| 45/45 [00:04<00:00, 10.60batch/s, accuracy=100, loss=0.0955]\n"
          ]
        },
        {
          "name": "stdout",
          "output_type": "stream",
          "text": [
            "Val Loss: 0.0667, Val Acc: 94.12\n"
          ]
        },
        {
          "name": "stderr",
          "output_type": "stream",
          "text": [
            "Epoch [8/100]: 100%|██████████| 45/45 [00:04<00:00, 10.49batch/s, accuracy=75, loss=0.0896]\n"
          ]
        },
        {
          "name": "stdout",
          "output_type": "stream",
          "text": [
            "Val Loss: 0.0977, Val Acc: 88.24\n"
          ]
        },
        {
          "name": "stderr",
          "output_type": "stream",
          "text": [
            "Epoch [9/100]: 100%|██████████| 45/45 [00:04<00:00, 10.63batch/s, accuracy=100, loss=0.0274]\n"
          ]
        },
        {
          "name": "stdout",
          "output_type": "stream",
          "text": [
            "Val Loss: 0.0839, Val Acc: 86.27\n"
          ]
        },
        {
          "name": "stderr",
          "output_type": "stream",
          "text": [
            "Epoch [10/100]: 100%|██████████| 45/45 [00:04<00:00, 10.72batch/s, accuracy=100, loss=0.0676]\n"
          ]
        },
        {
          "name": "stdout",
          "output_type": "stream",
          "text": [
            "Val Loss: 0.1128, Val Acc: 80.39\n"
          ]
        },
        {
          "name": "stderr",
          "output_type": "stream",
          "text": [
            "Epoch [11/100]: 100%|██████████| 45/45 [00:04<00:00, 10.72batch/s, accuracy=75, loss=0.151]\n"
          ]
        },
        {
          "name": "stdout",
          "output_type": "stream",
          "text": [
            "Val Loss: 0.0770, Val Acc: 96.08\n"
          ]
        },
        {
          "name": "stderr",
          "output_type": "stream",
          "text": [
            "Epoch [12/100]: 100%|██████████| 45/45 [00:04<00:00, 10.77batch/s, accuracy=100, loss=0.0204]\n"
          ]
        },
        {
          "name": "stdout",
          "output_type": "stream",
          "text": [
            "Val Loss: 0.0534, Val Acc: 94.12\n"
          ]
        },
        {
          "name": "stderr",
          "output_type": "stream",
          "text": [
            "Epoch [13/100]: 100%|██████████| 45/45 [00:04<00:00, 10.62batch/s, accuracy=100, loss=0.0482]\n"
          ]
        },
        {
          "name": "stdout",
          "output_type": "stream",
          "text": [
            "Val Loss: 0.4445, Val Acc: 64.71\n"
          ]
        },
        {
          "name": "stderr",
          "output_type": "stream",
          "text": [
            "Epoch [14/100]: 100%|██████████| 45/45 [00:04<00:00,  9.43batch/s, accuracy=100, loss=0.126]\n"
          ]
        },
        {
          "name": "stdout",
          "output_type": "stream",
          "text": [
            "Val Loss: 0.0798, Val Acc: 94.12\n"
          ]
        },
        {
          "name": "stderr",
          "output_type": "stream",
          "text": [
            "Epoch [15/100]: 100%|██████████| 45/45 [00:04<00:00, 10.74batch/s, accuracy=75, loss=0.116]\n"
          ]
        },
        {
          "name": "stdout",
          "output_type": "stream",
          "text": [
            "Val Loss: 0.0961, Val Acc: 86.27\n"
          ]
        },
        {
          "name": "stderr",
          "output_type": "stream",
          "text": [
            "Epoch [16/100]: 100%|██████████| 45/45 [00:04<00:00, 10.45batch/s, accuracy=100, loss=0.029]\n"
          ]
        },
        {
          "name": "stdout",
          "output_type": "stream",
          "text": [
            "Val Loss: 0.0665, Val Acc: 94.12\n"
          ]
        },
        {
          "name": "stderr",
          "output_type": "stream",
          "text": [
            "Epoch [17/100]: 100%|██████████| 45/45 [00:04<00:00, 10.60batch/s, accuracy=100, loss=0.0938]\n"
          ]
        },
        {
          "name": "stdout",
          "output_type": "stream",
          "text": [
            "Val Loss: 0.0729, Val Acc: 92.16\n"
          ]
        },
        {
          "name": "stderr",
          "output_type": "stream",
          "text": [
            "Epoch [18/100]: 100%|██████████| 45/45 [00:05<00:00,  8.91batch/s, accuracy=100, loss=0.0539]\n"
          ]
        },
        {
          "name": "stdout",
          "output_type": "stream",
          "text": [
            "Val Loss: 0.0957, Val Acc: 92.16\n"
          ]
        },
        {
          "name": "stderr",
          "output_type": "stream",
          "text": [
            "Epoch [19/100]: 100%|██████████| 45/45 [00:04<00:00, 10.82batch/s, accuracy=50, loss=0.187]\n"
          ]
        },
        {
          "name": "stdout",
          "output_type": "stream",
          "text": [
            "Val Loss: 0.0792, Val Acc: 94.12\n"
          ]
        },
        {
          "name": "stderr",
          "output_type": "stream",
          "text": [
            "Epoch [20/100]: 100%|██████████| 45/45 [00:04<00:00, 10.60batch/s, accuracy=75, loss=0.204]\n"
          ]
        },
        {
          "name": "stdout",
          "output_type": "stream",
          "text": [
            "Val Loss: 0.0705, Val Acc: 92.16\n"
          ]
        },
        {
          "name": "stderr",
          "output_type": "stream",
          "text": [
            "Epoch [21/100]: 100%|██████████| 45/45 [00:04<00:00, 10.71batch/s, accuracy=50, loss=0.135]\n"
          ]
        },
        {
          "name": "stdout",
          "output_type": "stream",
          "text": [
            "Val Loss: 0.0632, Val Acc: 94.12\n"
          ]
        },
        {
          "name": "stderr",
          "output_type": "stream",
          "text": [
            "Epoch [22/100]: 100%|██████████| 45/45 [00:04<00:00, 10.64batch/s, accuracy=25, loss=0.219]\n"
          ]
        },
        {
          "name": "stdout",
          "output_type": "stream",
          "text": [
            "Val Loss: 0.0701, Val Acc: 94.12\n"
          ]
        },
        {
          "name": "stderr",
          "output_type": "stream",
          "text": [
            "Epoch [23/100]: 100%|██████████| 45/45 [00:04<00:00, 10.56batch/s, accuracy=75, loss=0.0943]\n"
          ]
        },
        {
          "name": "stdout",
          "output_type": "stream",
          "text": [
            "Val Loss: 0.1238, Val Acc: 76.47\n"
          ]
        },
        {
          "name": "stderr",
          "output_type": "stream",
          "text": [
            "Epoch [24/100]: 100%|██████████| 45/45 [00:04<00:00, 10.52batch/s, accuracy=75, loss=0.0915]\n"
          ]
        },
        {
          "name": "stdout",
          "output_type": "stream",
          "text": [
            "Val Loss: 0.0767, Val Acc: 92.16\n"
          ]
        },
        {
          "name": "stderr",
          "output_type": "stream",
          "text": [
            "Epoch [25/100]: 100%|██████████| 45/45 [00:04<00:00, 10.72batch/s, accuracy=75, loss=0.0712]\n"
          ]
        },
        {
          "name": "stdout",
          "output_type": "stream",
          "text": [
            "Val Loss: 0.0684, Val Acc: 90.20\n"
          ]
        },
        {
          "name": "stderr",
          "output_type": "stream",
          "text": [
            "Epoch [26/100]: 100%|██████████| 45/45 [00:04<00:00, 10.76batch/s, accuracy=100, loss=0.052]\n"
          ]
        },
        {
          "name": "stdout",
          "output_type": "stream",
          "text": [
            "Val Loss: 0.0761, Val Acc: 86.27\n"
          ]
        },
        {
          "name": "stderr",
          "output_type": "stream",
          "text": [
            "Epoch [27/100]: 100%|██████████| 45/45 [00:04<00:00, 10.65batch/s, accuracy=100, loss=0.048]\n"
          ]
        },
        {
          "name": "stdout",
          "output_type": "stream",
          "text": [
            "Val Loss: 0.0602, Val Acc: 96.08\n"
          ]
        },
        {
          "name": "stderr",
          "output_type": "stream",
          "text": [
            "Epoch [28/100]: 100%|██████████| 45/45 [00:04<00:00, 10.58batch/s, accuracy=100, loss=0.0601]\n"
          ]
        },
        {
          "name": "stdout",
          "output_type": "stream",
          "text": [
            "Val Loss: 0.0776, Val Acc: 88.24\n"
          ]
        },
        {
          "name": "stderr",
          "output_type": "stream",
          "text": [
            "Epoch [29/100]: 100%|██████████| 45/45 [00:04<00:00, 10.38batch/s, accuracy=100, loss=0.0232]\n"
          ]
        },
        {
          "name": "stdout",
          "output_type": "stream",
          "text": [
            "Val Loss: 0.0639, Val Acc: 94.12\n"
          ]
        },
        {
          "name": "stderr",
          "output_type": "stream",
          "text": [
            "Epoch [30/100]: 100%|██████████| 45/45 [00:04<00:00, 10.73batch/s, accuracy=75, loss=0.116]\n"
          ]
        },
        {
          "name": "stdout",
          "output_type": "stream",
          "text": [
            "Val Loss: 0.0626, Val Acc: 94.12\n"
          ]
        },
        {
          "name": "stderr",
          "output_type": "stream",
          "text": [
            "Epoch [31/100]: 100%|██████████| 45/45 [00:04<00:00, 10.64batch/s, accuracy=100, loss=0.0585]\n"
          ]
        },
        {
          "name": "stdout",
          "output_type": "stream",
          "text": [
            "Val Loss: 0.0655, Val Acc: 92.16\n"
          ]
        },
        {
          "name": "stderr",
          "output_type": "stream",
          "text": [
            "Epoch [32/100]: 100%|██████████| 45/45 [00:04<00:00, 10.47batch/s, accuracy=25, loss=0.218]\n"
          ]
        },
        {
          "name": "stdout",
          "output_type": "stream",
          "text": [
            "Val Loss: 0.0605, Val Acc: 92.16\n"
          ]
        },
        {
          "name": "stderr",
          "output_type": "stream",
          "text": [
            "Epoch [33/100]: 100%|██████████| 45/45 [00:04<00:00, 10.61batch/s, accuracy=50, loss=0.21]\n"
          ]
        },
        {
          "name": "stdout",
          "output_type": "stream",
          "text": [
            "Val Loss: 0.0522, Val Acc: 92.16\n"
          ]
        },
        {
          "name": "stderr",
          "output_type": "stream",
          "text": [
            "Epoch [34/100]: 100%|██████████| 45/45 [00:04<00:00, 10.56batch/s, accuracy=100, loss=0.0929]\n"
          ]
        },
        {
          "name": "stdout",
          "output_type": "stream",
          "text": [
            "Val Loss: 0.0707, Val Acc: 92.16\n"
          ]
        },
        {
          "name": "stderr",
          "output_type": "stream",
          "text": [
            "Epoch [35/100]: 100%|██████████| 45/45 [00:04<00:00, 10.53batch/s, accuracy=75, loss=0.0981]\n"
          ]
        },
        {
          "name": "stdout",
          "output_type": "stream",
          "text": [
            "Val Loss: 0.0546, Val Acc: 96.08\n"
          ]
        },
        {
          "name": "stderr",
          "output_type": "stream",
          "text": [
            "Epoch [36/100]: 100%|██████████| 45/45 [00:04<00:00, 10.61batch/s, accuracy=100, loss=0.0431]\n"
          ]
        },
        {
          "name": "stdout",
          "output_type": "stream",
          "text": [
            "Val Loss: 0.0650, Val Acc: 94.12\n"
          ]
        },
        {
          "name": "stderr",
          "output_type": "stream",
          "text": [
            "Epoch [37/100]: 100%|██████████| 45/45 [00:04<00:00, 10.63batch/s, accuracy=100, loss=0.0317]\n"
          ]
        },
        {
          "name": "stdout",
          "output_type": "stream",
          "text": [
            "Val Loss: 0.0578, Val Acc: 92.16\n"
          ]
        },
        {
          "name": "stderr",
          "output_type": "stream",
          "text": [
            "Epoch [38/100]: 100%|██████████| 45/45 [00:04<00:00, 10.56batch/s, accuracy=100, loss=0.0673]\n"
          ]
        },
        {
          "name": "stdout",
          "output_type": "stream",
          "text": [
            "Val Loss: 0.0626, Val Acc: 94.12\n"
          ]
        },
        {
          "name": "stderr",
          "output_type": "stream",
          "text": [
            "Epoch [39/100]: 100%|██████████| 45/45 [00:04<00:00, 10.22batch/s, accuracy=100, loss=0.0936]\n"
          ]
        },
        {
          "name": "stdout",
          "output_type": "stream",
          "text": [
            "Val Loss: 0.0632, Val Acc: 96.08\n"
          ]
        },
        {
          "name": "stderr",
          "output_type": "stream",
          "text": [
            "Epoch [40/100]: 100%|██████████| 45/45 [00:04<00:00, 10.53batch/s, accuracy=50, loss=0.191]\n"
          ]
        },
        {
          "name": "stdout",
          "output_type": "stream",
          "text": [
            "Val Loss: 0.0628, Val Acc: 94.12\n"
          ]
        },
        {
          "name": "stderr",
          "output_type": "stream",
          "text": [
            "Epoch [41/100]: 100%|██████████| 45/45 [00:04<00:00, 10.48batch/s, accuracy=100, loss=0.0584]\n"
          ]
        },
        {
          "name": "stdout",
          "output_type": "stream",
          "text": [
            "Val Loss: 0.0713, Val Acc: 90.20\n"
          ]
        },
        {
          "name": "stderr",
          "output_type": "stream",
          "text": [
            "Epoch [42/100]: 100%|██████████| 45/45 [00:04<00:00, 10.73batch/s, accuracy=100, loss=0.046]\n"
          ]
        },
        {
          "name": "stdout",
          "output_type": "stream",
          "text": [
            "Val Loss: 0.0653, Val Acc: 92.16\n"
          ]
        },
        {
          "name": "stderr",
          "output_type": "stream",
          "text": [
            "Epoch [43/100]: 100%|██████████| 45/45 [00:04<00:00, 10.65batch/s, accuracy=100, loss=0.0375]\n"
          ]
        },
        {
          "name": "stdout",
          "output_type": "stream",
          "text": [
            "Val Loss: 0.0795, Val Acc: 84.31\n"
          ]
        },
        {
          "name": "stderr",
          "output_type": "stream",
          "text": [
            "Epoch [44/100]: 100%|██████████| 45/45 [00:04<00:00, 10.69batch/s, accuracy=75, loss=0.147]\n"
          ]
        },
        {
          "name": "stdout",
          "output_type": "stream",
          "text": [
            "Val Loss: 0.0668, Val Acc: 90.20\n"
          ]
        },
        {
          "name": "stderr",
          "output_type": "stream",
          "text": [
            "Epoch [45/100]: 100%|██████████| 45/45 [00:04<00:00, 10.66batch/s, accuracy=100, loss=0.0119]\n"
          ]
        },
        {
          "name": "stdout",
          "output_type": "stream",
          "text": [
            "Val Loss: 0.0743, Val Acc: 86.27\n"
          ]
        },
        {
          "name": "stderr",
          "output_type": "stream",
          "text": [
            "Epoch [46/100]: 100%|██████████| 45/45 [00:04<00:00, 10.76batch/s, accuracy=100, loss=0.0662]\n"
          ]
        },
        {
          "name": "stdout",
          "output_type": "stream",
          "text": [
            "Val Loss: 0.0669, Val Acc: 90.20\n"
          ]
        },
        {
          "name": "stderr",
          "output_type": "stream",
          "text": [
            "Epoch [47/100]: 100%|██████████| 45/45 [00:04<00:00, 10.52batch/s, accuracy=75, loss=0.154]\n"
          ]
        },
        {
          "name": "stdout",
          "output_type": "stream",
          "text": [
            "Val Loss: 0.0624, Val Acc: 92.16\n"
          ]
        },
        {
          "name": "stderr",
          "output_type": "stream",
          "text": [
            "Epoch [48/100]: 100%|██████████| 45/45 [00:04<00:00, 10.61batch/s, accuracy=75, loss=0.0864]\n"
          ]
        },
        {
          "name": "stdout",
          "output_type": "stream",
          "text": [
            "Val Loss: 0.0667, Val Acc: 92.16\n"
          ]
        },
        {
          "name": "stderr",
          "output_type": "stream",
          "text": [
            "Epoch [49/100]: 100%|██████████| 45/45 [00:04<00:00, 10.66batch/s, accuracy=100, loss=0.0606]\n"
          ]
        },
        {
          "name": "stdout",
          "output_type": "stream",
          "text": [
            "Val Loss: 0.0802, Val Acc: 86.27\n"
          ]
        },
        {
          "name": "stderr",
          "output_type": "stream",
          "text": [
            "Epoch [50/100]: 100%|██████████| 45/45 [00:04<00:00, 10.77batch/s, accuracy=100, loss=0.0607]\n"
          ]
        },
        {
          "name": "stdout",
          "output_type": "stream",
          "text": [
            "Val Loss: 0.0668, Val Acc: 86.27\n"
          ]
        },
        {
          "name": "stderr",
          "output_type": "stream",
          "text": [
            "Epoch [51/100]: 100%|██████████| 45/45 [00:04<00:00, 10.66batch/s, accuracy=100, loss=0.0438]\n"
          ]
        },
        {
          "name": "stdout",
          "output_type": "stream",
          "text": [
            "Val Loss: 0.0698, Val Acc: 92.16\n"
          ]
        },
        {
          "name": "stderr",
          "output_type": "stream",
          "text": [
            "Epoch [52/100]: 100%|██████████| 45/45 [00:04<00:00, 10.70batch/s, accuracy=100, loss=0.0629]\n"
          ]
        },
        {
          "name": "stdout",
          "output_type": "stream",
          "text": [
            "Val Loss: 0.0601, Val Acc: 92.16\n"
          ]
        },
        {
          "name": "stderr",
          "output_type": "stream",
          "text": [
            "Epoch [53/100]:   9%|▉         | 4/45 [00:00<00:03, 10.90batch/s, accuracy=100, loss=0.0204]"
          ]
        }
      ],
      "source": [
        "train_loss , train_accuracy = [], []\n",
        "val_loss , val_accuracy = [], []\n",
        "start = time.time()\n",
        "for epoch in range(num_epochs):\n",
        "    train_epoch_loss, train_epoch_accuracy = fit(model_ft, train_loader, epoch, num_epochs)\n",
        "    exp_lr_scheduler.step()\n",
        "    val_epoch_loss, val_epoch_accuracy = validate(model_ft, test_loader)\n",
        "    train_loss.append(train_epoch_loss)\n",
        "    train_accuracy.append(train_epoch_accuracy)\n",
        "    val_loss.append(val_epoch_loss)\n",
        "    val_accuracy.append(val_epoch_accuracy)\n",
        "    # print(\"-\"*10)\n",
        "end = time.time()\n",
        "print((end-start)/60, 'minutes')"
      ]
    },
    {
      "cell_type": "code",
      "execution_count": null,
      "metadata": {
        "id": "HyU3Ak_7xmzI"
      },
      "outputs": [],
      "source": [
        "miss_classifier = []\n",
        "miss_classifier_labels = []\n",
        "count = 0\n",
        "model_ft.eval()\n",
        "with torch.no_grad():\n",
        "  n_correct = 0\n",
        "  n_samples = 0\n",
        "  for (images, labels) in test_loader:\n",
        "    images = images.to(device)\n",
        "    labels = labels.to(device)\n",
        "\n",
        "    outputs = model_ft(images)\n",
        "    _, pred = torch.max(outputs, 1)\n",
        "\n",
        "    n_correct += (pred == labels).sum().item()\n",
        "    ####### Miss classifier####\n",
        "    a = pred == labels\n",
        "    miss_classifier_idx = (a == False).nonzero(as_tuple=True)[0]\n",
        "    for idx in miss_classifier_idx:\n",
        "      count +=1\n",
        "      miss_classifier.append(images[idx])\n",
        "      miss_classifier_labels.append(pred[idx])\n",
        "    # #######################33\n",
        "    n_samples += labels.size(0)\n",
        "\n",
        "imgs = torchvision.utils.make_grid(miss_classifier, normalize=True, pad_value=0.5)\n",
        "\n",
        "# Convert images to a readable numpy for plt\n",
        "imgs = torch.Tensor.cpu(imgs)\n",
        "imgs = imgs.numpy()\n",
        "\n",
        "# Transform imgs to an array of images\n",
        "imgs = imgs.transpose((1,2,0))\n",
        "\n",
        "# Show images\n",
        "plt.imshow(imgs)\n",
        "print(\"Miss classifier images\")\n",
        "plt.show()\n",
        "print(' '.join(f'{classes[miss_classifier_labels[j]]:12s}' for j in range(len(miss_classifier_labels))))\n",
        "print(f\"Accuracy {n_correct / n_samples * 100} %\")"
      ]
    },
    {
      "cell_type": "code",
      "execution_count": null,
      "metadata": {
        "id": "9hd5_sPZxoLv"
      },
      "outputs": [],
      "source": [
        "plt.figure(figsize=(10, 7))\n",
        "plt.plot(train_accuracy, color='green', label='train accuracy')\n",
        "plt.plot(val_accuracy, color='blue', label='validataion accuracy')\n",
        "plt.legend()\n",
        "plt.savefig('accuracy.png')\n",
        "plt.show()"
      ]
    },
    {
      "cell_type": "code",
      "execution_count": null,
      "metadata": {
        "id": "zZkCS4iMxpbe"
      },
      "outputs": [],
      "source": [
        "plt.figure(figsize=(10, 7))\n",
        "plt.plot(train_loss, color='orange', label='train loss')\n",
        "plt.plot(val_loss, color='red', label='validataion loss')\n",
        "plt.legend()\n",
        "plt.savefig('loss.png')\n",
        "plt.show()"
      ]
    }
  ],
  "metadata": {
    "accelerator": "GPU",
    "colab": {
      "collapsed_sections": [],
      "provenance": []
    },
    "kernelspec": {
      "display_name": "Python 3.9.7 ('base')",
      "language": "python",
      "name": "python3"
    },
    "language_info": {
      "name": "python",
      "version": "3.9.7"
    },
    "orig_nbformat": 4,
    "vscode": {
      "interpreter": {
        "hash": "a99539085cd3bdd5c32c96cfbe8da0377cdfd87c78a129b6678f1e2495c8398d"
      }
    }
  },
  "nbformat": 4,
  "nbformat_minor": 0
}
