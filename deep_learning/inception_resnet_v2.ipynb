{
 "cells": [
  {
   "cell_type": "markdown",
   "metadata": {},
   "source": [
    "# Inception resnet\n",
    "\n",
    "Paper: [https://arxiv.org/pdf/1602.07261v2.pdf](https://arxiv.org/pdf/1602.07261v2.pdf)\n",
    "\n",
    "Kiến trúc của Inception resnet v1 và v2:\n",
    "\n",
    "![](../img/inception_resnet_v2.png)\n",
    "\n",
    "Trong đó các block `Inception resnet` và `Stem` được thể hiện như sau:\n",
    "\n",
    "## 1. Inception resnet v1\n",
    "\n",
    "### a) Stem\n",
    "\n",
    "![](../img/inception_resnet_v1_4.png)\n",
    "\n",
    "### b) Inception-resnet-A\n",
    "\n",
    "![](../img/inception_resnet_v1_1.png)\n",
    "\n",
    "### c) Reduction-A\n",
    "\n",
    "![](../img/inception_resnet_v1_6.png)\n",
    "\n",
    "### d) Inception-resnet-B\n",
    "\n",
    "![](../img/inception_resnet_v1_2.png)\n",
    "\n",
    "### e) Reduction-B\n",
    "\n",
    "![](../img/inception_resnet_v1_5.png)\n",
    "\n",
    "### f) Inception-resnet-C\n",
    "\n",
    "![](../img/inception_resnet_v1_3.png)\n",
    "\n",
    "## 2. Inception resnet v2\n",
    "\n",
    "### a) Stem\n",
    "\n",
    "![](../img/inception_resnet_v2_1.png)\n",
    "\n",
    "### b) Inception-resnet-A\n",
    "\n",
    "![](../img/inception_resnet_v2_2.png)\n",
    "\n",
    "### c) Reduction-A\n",
    "\n",
    "![](../img/inception_resnet_v2_6.png)\n",
    "\n",
    "### d) Inception-resnet-B\n",
    "\n",
    "![](../img/inception_resnet_v2_3.png)\n",
    "\n",
    "### e) Reduction-B\n",
    "\n",
    "![](../img/inception_resnet_v2_5.png)\n",
    "\n",
    "### f) Inception-resnet-C\n",
    "\n",
    "![](../img/inception_resnet_v2_4.png)\n",
    "\n"
   ]
  },
  {
   "cell_type": "markdown",
   "metadata": {},
   "source": [
    "![](../img/table_1.png)"
   ]
  },
  {
   "cell_type": "markdown",
   "metadata": {},
   "source": [
    "## 3. Implement inception-resnet-v2 pretrained"
   ]
  },
  {
   "cell_type": "code",
   "execution_count": null,
   "metadata": {},
   "outputs": [],
   "source": [
    "import torch\n",
    "import torch.nn as nn\n",
    "import torch.utils.model_zoo as model_zoo\n",
    "import os\n",
    "import sys"
   ]
  },
  {
   "cell_type": "code",
   "execution_count": null,
   "metadata": {},
   "outputs": [],
   "source": [
    "__all__ = ['InceptionResNetV2', 'inceptionresnetv2']\n",
    "\n",
    "pretrained_settings = {\n",
    "    'inceptionresnetv2': {\n",
    "        'imagenet': {\n",
    "            'url': 'http://data.lip6.fr/cadene/pretrainedmodels/inceptionresnetv2-520b38e4.pth',\n",
    "            'input_space': 'RGB',\n",
    "            'input_size': [3, 299, 299],\n",
    "            'input_range': [0, 1],\n",
    "            'mean': [0.5, 0.5, 0.5],\n",
    "            'std': [0.5, 0.5, 0.5],\n",
    "            'num_classes': 1000\n",
    "        },\n",
    "        'imagenet+background': {\n",
    "            'url': 'http://data.lip6.fr/cadene/pretrainedmodels/inceptionresnetv2-520b38e4.pth',\n",
    "            'input_space': 'RGB',\n",
    "            'input_size': [3, 299, 299],\n",
    "            'input_range': [0, 1],\n",
    "            'mean': [0.5, 0.5, 0.5],\n",
    "            'std': [0.5, 0.5, 0.5],\n",
    "            'num_classes': 1001\n",
    "        }\n",
    "    }\n",
    "}\n",
    "\n",
    "\n",
    "class BasicConv2d(nn.Module):\n",
    "    \n",
    "    def __init__(self, in_planes, out_planes, kernel_size, stride, padding=0):\n",
    "        super(BasicConv2d, self).__init__()\n",
    "        self.conv = nn.Conv2d(in_planes, out_planes,\n",
    "                              kernel_size=kernel_size,stride=stride,\n",
    "                              padding=padding, bias=False)\n",
    "        self.bn = nn.BatchNorm2d(out_planes,\n",
    "                                 eps=0.001,\n",
    "                                 momentum=0.1,\n",
    "                                 affine=True)\n",
    "        self.relu = nn.ReLU(inplace=False)\n",
    "        \n",
    "    def forward(self, x):\n",
    "        x = self.conv(x)\n",
    "        x = self.bn(x)\n",
    "        x = self.relu(x)\n",
    "        return x\n",
    "    \n",
    "\n",
    "class Mixed_5b(nn.Module):\n",
    "    \n",
    "    \n",
    "\n"
   ]
  }
 ],
 "metadata": {
  "kernelspec": {
   "display_name": "Python 3.9.7 ('base')",
   "language": "python",
   "name": "python3"
  },
  "language_info": {
   "name": "python",
   "version": "3.9.7"
  },
  "orig_nbformat": 4,
  "vscode": {
   "interpreter": {
    "hash": "a99539085cd3bdd5c32c96cfbe8da0377cdfd87c78a129b6678f1e2495c8398d"
   }
  }
 },
 "nbformat": 4,
 "nbformat_minor": 2
}
