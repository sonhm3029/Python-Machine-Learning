{
  "cells": [
    {
      "cell_type": "markdown",
      "metadata": {
        "id": "TqQJfugKLiwm"
      },
      "source": [
        "# VGG-16\n",
        "\n",
        "![](../img/vgg16_1.png)\n",
        "\n",
        "\n",
        "![](../img/vgg16_2.png)\n",
        "\n",
        "Phân tích:\n",
        "\n",
        "- Convolutional layer: kích thước 3*3, padding=1, stride=1. Tại sao không ghi stride, padding mà vẫn biết? Vì mặc định sẽ là stride=1 và padding để cho output cùng width và height với input.\n",
        "- Pool/2 : max pooling layer với size 2*2\n",
        "- 3*3 conv, 64: thì 64 là số kernel áp dụng trong layer đấy, hay depth của output của layer đấy.\n",
        "- Càng các convolutional layer sau thì kích thước width, height càng giảm nhưng depth càng tăng.\n",
        "- Sau khá nhiều convolutional layer và pooling layer thì dữ liệu được flatten và cho vào fully connected layer.\n"
      ]
    },
    {
      "cell_type": "code",
      "execution_count": 1,
      "metadata": {
        "colab": {
          "base_uri": "https://localhost:8080/"
        },
        "id": "lgHBjqfeMRm4",
        "outputId": "aa6f1196-1ec3-4f55-ff05-5ccdfc5f564f"
      },
      "outputs": [
        {
          "output_type": "stream",
          "name": "stdout",
          "text": [
            "Mounted at /content/drive\n"
          ]
        }
      ],
      "source": [
        "from google.colab import drive\n",
        "drive.mount('/content/drive')"
      ]
    },
    {
      "cell_type": "markdown",
      "metadata": {
        "id": "3xzyUxcSLiwu"
      },
      "source": [
        "# Thực hiện VGG-16 cho bài taons Detect Brain Tumor"
      ]
    },
    {
      "cell_type": "code",
      "execution_count": 2,
      "metadata": {
        "id": "4q-mnKCILiww"
      },
      "outputs": [],
      "source": [
        "import torch\n",
        "import torchvision\n",
        "from torch.optim import lr_scheduler\n",
        "import torch.nn as nn \n",
        "from torchvision import transforms, datasets\n",
        "from torch.utils.data import DataLoader, Dataset\n",
        "from torchvision.transforms import InterpolationMode\n",
        "import torchvision.transforms.functional as TF\n",
        "import numpy as np\n",
        "import cv2\n",
        "import os\n",
        "import time\n",
        "import copy\n",
        "import imutils\n",
        "from PIL import Image\n",
        "import shutil\n",
        "os.environ[\"KMP_DUPLICATE_LIB_OK\"] = \"TRUE\"\n",
        "import matplotlib.pyplot as plt\n",
        "import tensorboard\n",
        "from torch.utils.tensorboard import SummaryWriter\n",
        "\n",
        "writer = SummaryWriter('runs/brain_tumor')"
      ]
    },
    {
      "cell_type": "markdown",
      "metadata": {
        "id": "UglcYbAmLiwy"
      },
      "source": [
        "## Abstract\n",
        "\n",
        "A brain tumor is a distorted tissue wherein cells replicate rapidly and indefinitely, with\n",
        "no control over tumor growth. Deep learning has been argued to have the potential to overcome\n",
        "the challenges associated with detecting and intervening in brain tumors. It is well established\n",
        "that the segmentation method can be used to remove abnormal tumor regions from the brain, as\n",
        "this is one of the advanced technological classification and detection tools. In the case of brain\n",
        "tumors, early disease detection can be achieved effectively using reliable advanced A.I. and Neural\n",
        "Network classification algorithms. This study aimed to critically analyze the proposed literature\n",
        "solutions, use the Visual Geometry Group (VGG 16) for discovering brain tumors, implement a\n",
        "convolutional neural network (CNN) model framework, and set parameters to train the model for\n",
        "this challenge. VGG is used as one of the highest-performing CNN models because of its simplicity.\n",
        "Furthermore, the study developed an effective approach to detect brain tumors using MRI to aid\n",
        "in making quick, efficient, and precise decisions. Faster CNN used the VGG 16 architecture as a\n",
        "primary network to generate convolutional feature maps, then classified these to yield tumor region\n",
        "suggestions. The prediction accuracy was used to assess performance. Our suggested methodology\n",
        "was evaluated on a dataset for brain tumor diagnosis using MR images comprising 253 MRI brain\n",
        "images, with 155 showing tumors. Our approach could identify brain tumors in MR images. In the\n",
        "testing data, the algorithm outperformed the current conventional approaches for detecting brain\n",
        "tumors (Precision = 96%, 98.15%, 98.41% and F1-score = 91.78%, 92.6% and 91.29% respectively) and\n",
        "achieved an excellent accuracy of CNN 96%, VGG 16 98.5% and Ensemble Model 98.14%. The study\n",
        "also presents future recommendations regarding the proposed research work.\n",
        "\n",
        "## VGG-16\n",
        "\n",
        "![](../img/vgg_16.png)"
      ]
    },
    {
      "cell_type": "markdown",
      "metadata": {
        "id": "ojClPjVDLiwz"
      },
      "source": [
        "## Setup device"
      ]
    },
    {
      "cell_type": "code",
      "execution_count": 3,
      "metadata": {
        "id": "Zmbb7E5wLiw1"
      },
      "outputs": [],
      "source": [
        "device = torch.device('cuda' if torch.cuda.is_available() else 'cpu')"
      ]
    },
    {
      "cell_type": "markdown",
      "metadata": {
        "id": "ZTdM16HRLiw1"
      },
      "source": [
        "## Data import and Preprocessing"
      ]
    },
    {
      "cell_type": "code",
      "execution_count": null,
      "metadata": {
        "colab": {
          "base_uri": "https://localhost:8080/"
        },
        "id": "-OoWEYFZLiw2",
        "outputId": "fee39389-a33b-4b35-a0ab-1665965b786f"
      },
      "outputs": [
        {
          "name": "stdout",
          "output_type": "stream",
          "text": [
            "NEW files created!\n",
            "Successfully migrated data\n"
          ]
        }
      ],
      "source": [
        "# listFolder = [\"TRAIN/YES\", \"TRAIN/NO\", \"TEST/YES\", \"TEST/NO\", \"VAL/YES\", \"VAL/NO\"]\n",
        "# for folder in listFolder:\n",
        "#     DIR = f\"./drive/MyDrive/ml_isofh/data/brain_tumor_dataset/{folder}\"\n",
        "#     if not os.path.exists(DIR):\n",
        "#         os.mkdir(DIR)\n",
        "        \n",
        "# # clean old data\n",
        "# for folder in listFolder:\n",
        "#     DIR = f\"./drive/MyDrive/ml_isofh/data/brain_tumor_dataset/{folder}\"\n",
        "#     for file in os.listdir(DIR):\n",
        "#         os.remove(f\"{DIR}/{file}\")\n",
        "\n",
        "# print(\"NEW files created!\")\n",
        "\n",
        "\n",
        "# # Preparing folder data and train, test, val set\n",
        "# IMG_PATH = './drive/MyDrive/ml_isofh/data/brain_tumor_dataset/'\n",
        "\n",
        "# for CLASS in os.listdir(IMG_PATH):\n",
        "#     if not CLASS.startswith(\".\") and CLASS !='TEST' and CLASS !='TRAIN' and CLASS !='VAL':\n",
        "#         IMG_NUM = len(os.listdir(IMG_PATH + CLASS))\n",
        "#         for (n, FILE_NAME) in enumerate(os.listdir(IMG_PATH + CLASS)):\n",
        "#             img = IMG_PATH + CLASS + '/' + FILE_NAME\n",
        "#             # split data 30 % for test\n",
        "#             if n< 0.2*IMG_NUM:\n",
        "#                 shutil.copy(img, IMG_PATH +\"TEST/\" + CLASS.upper() + '/' + FILE_NAME)\n",
        "#             # split data 60% for training\n",
        "#             elif n< IMG_NUM*0.92:\n",
        "#                 shutil.copy(img, IMG_PATH +\"TRAIN/\"+ CLASS.upper() + '/' + FILE_NAME)\n",
        "#             # the rest is for validation\n",
        "#             else:\n",
        "#                 shutil.copy(img, IMG_PATH +\"VAL/\" + CLASS.upper() + '/' + FILE_NAME)\n",
        "\n",
        "# print(\"Successfully migrated data\")"
      ]
    },
    {
      "cell_type": "markdown",
      "metadata": {
        "id": "AitKO4YMLiw4"
      },
      "source": [
        "## Hyper parameters"
      ]
    },
    {
      "cell_type": "code",
      "execution_count": 100,
      "metadata": {
        "id": "ih3PlyMuLiw5"
      },
      "outputs": [],
      "source": [
        "num_epochs = 100\n",
        "batch_size = 4\n",
        "learning_rate = 1e-3"
      ]
    },
    {
      "cell_type": "markdown",
      "metadata": {
        "id": "8B83jiDHLiw5"
      },
      "source": [
        "## Load data"
      ]
    },
    {
      "cell_type": "code",
      "execution_count": 101,
      "metadata": {
        "colab": {
          "base_uri": "https://localhost:8080/"
        },
        "id": "qw8Lj7udLiw6",
        "outputId": "d2ebd4b9-6e06-4b73-f700-6e3176769f2e"
      },
      "outputs": [
        {
          "output_type": "execute_result",
          "data": {
            "text/plain": [
              "(array([0.23685642, 0.23674977, 0.23642515]),\n",
              " array([0.22949252, 0.22923947, 0.22891869]))"
            ]
          },
          "metadata": {},
          "execution_count": 101
        }
      ],
      "source": [
        "TRAIN_DIR = './drive/MyDrive/ml_isofh/data/brain_tumor_dataset/TRAIN'\n",
        "TEST_DIR = './drive/MyDrive/ml_isofh/data/brain_tumor_dataset/TEST'\n",
        "VAL_DIR = './drive/MyDrive/ml_isofh/data/brain_tumor_dataset/VAL'\n",
        "IMG_SIZE = (224, 224)\n",
        "\n",
        "# Take Mean and std\n",
        "samples_set = datasets.ImageFolder(TRAIN_DIR, transform=transforms.Resize((224, 224)))\n",
        "\n",
        "def readToNumpy(imagesSet):\n",
        "    listImgs = []\n",
        "    for img_path in imagesSet:\n",
        "        img = cv2.imread(img_path[0])\n",
        "        listImgs.append(cv2.resize(img, (224, 224), interpolation = cv2.INTER_AREA))\n",
        "    return np.array(listImgs)\n",
        "\n",
        "listImgs = readToNumpy(samples_set.imgs)\n",
        "\n",
        "MEAN = (listImgs/255.0).mean((0,1,2))\n",
        "STD = (listImgs /255.0).std((0,1,2))\n",
        "\n",
        "MEAN, STD"
      ]
    },
    {
      "cell_type": "code",
      "execution_count": 102,
      "metadata": {
        "id": "HVgjhVt1Liw7"
      },
      "outputs": [],
      "source": [
        "# This line of code is to auto completion of code using key \"Tab\". Just make coding faster ^^! \n",
        "# I read from this post \"https://www.kaggle.com/getting-started/51622\"\n",
        "%config Completer.use_jedi = False"
      ]
    },
    {
      "cell_type": "markdown",
      "metadata": {
        "id": "1hHfGLjWLiw7"
      },
      "source": [
        "## Custom Dataset"
      ]
    },
    {
      "cell_type": "code",
      "execution_count": 103,
      "metadata": {
        "id": "PwEukI2-Liw7"
      },
      "outputs": [],
      "source": [
        "class BrainTumor(Dataset):\n",
        "    def __init__(self, root, transforms=None):\n",
        "        imageData = datasets.ImageFolder(root)\n",
        "        self.n_samples = len(imageData.imgs)  \n",
        "        self.data = np.array([cv2.imread(img_path[0]) for img_path in imageData.imgs])\n",
        "        self.targets = np.array(imageData.targets)\n",
        "        self.classes = imageData.classes\n",
        "        self.transforms = transforms\n",
        "    def __len__(self):\n",
        "        return self.n_samples\n",
        "    def __getitem__(self, index):\n",
        "        x = self.data[index]\n",
        "        # print(self.data[index].shape, self.targets[index].shape)\n",
        "        if self.transforms:\n",
        "            x = self.transforms(x)\n",
        "            # change = self.transforms(self.data[index])\n",
        "            # sample = change, self.targets[index]\n",
        "        return x,  self.targets[index]"
      ]
    },
    {
      "cell_type": "code",
      "execution_count": 104,
      "metadata": {
        "id": "T7N9Z4IlLiw8"
      },
      "outputs": [],
      "source": [
        "def plot_samples(X, y, labels_dict, n=50):\n",
        "    \"\"\"\n",
        "    Creates a gridplot for desired number of images (n) from the specified set\n",
        "    \"\"\"\n",
        "    for index in range(len(labels_dict)):\n",
        "        imgs = X[np.argwhere(y == index)][:n]\n",
        "        j = 10\n",
        "        i = int(n/j)\n",
        "\n",
        "        plt.figure(figsize=(15,6))\n",
        "        c = 1\n",
        "        for img in imgs:\n",
        "            plt.subplot(i,j,c)\n",
        "            plt.imshow(img[0])\n",
        "\n",
        "            plt.xticks([])\n",
        "            plt.yticks([])\n",
        "            c += 1\n",
        "        plt.suptitle('Tumor: {}'.format(labels_dict[index]))\n",
        "        plt.show()"
      ]
    },
    {
      "cell_type": "markdown",
      "metadata": {
        "id": "AVT46I65Liw8"
      },
      "source": [
        "## Preprocessing data"
      ]
    },
    {
      "cell_type": "code",
      "execution_count": 107,
      "metadata": {
        "colab": {
          "base_uri": "https://localhost:8080/"
        },
        "id": "NFyRw407Liw9",
        "outputId": "b10933ef-bda6-4eb8-e083-5517014f3ee6"
      },
      "outputs": [
        {
          "output_type": "stream",
          "name": "stderr",
          "text": [
            "/usr/local/lib/python3.7/dist-packages/ipykernel_launcher.py:5: VisibleDeprecationWarning: Creating an ndarray from ragged nested sequences (which is a list-or-tuple of lists-or-tuples-or ndarrays with different lengths or shapes) is deprecated. If you meant to do this, you must specify 'dtype=object' when creating the ndarray.\n",
            "  \"\"\"\n"
          ]
        },
        {
          "output_type": "stream",
          "name": "stdout",
          "text": [
            "train set :(183,)\n",
            "test set: (51,)\n",
            "val set: (19,)\n"
          ]
        }
      ],
      "source": [
        "\n",
        "class ImageEnhanced(object):\n",
        "    \"\"\"_summary_\n",
        "    transform to enhanced image quality for prediction \n",
        "    \"\"\"\n",
        "    def __init__(self):\n",
        "        pass\n",
        "    def __call__(self, img ,add_pixels_value = 0):\n",
        "        \n",
        "        gray = cv2.cvtColor(img, cv2.COLOR_RGB2GRAY)\n",
        "        gray = cv2.GaussianBlur(gray, (5, 5), 0)\n",
        "        # threshold the image, then perform a series of erosions +\n",
        "        # dilations to remove any small regions of noise\n",
        "        thresh = cv2.threshold(gray, 60, 255, cv2.THRESH_BINARY)[1]\n",
        "        thresh = cv2.erode(thresh, None, iterations=2)\n",
        "        thresh = cv2.dilate(thresh, None, iterations=2)\n",
        "        # find contours in thresholded image, then grab the largest one\n",
        "        cnts = cv2.findContours(thresh.copy(), cv2.RETR_EXTERNAL, cv2.CHAIN_APPROX_SIMPLE)\n",
        "        cnts = imutils.grab_contours(cnts)\n",
        "        c = max(cnts, key=cv2.contourArea)\n",
        "        # find the extreme points\n",
        "        extLeft = tuple(c[c[:, :, 0].argmin()][0])\n",
        "        extRight = tuple(c[c[:, :, 0].argmax()][0])\n",
        "        extTop = tuple(c[c[:, :, 1].argmin()][0])\n",
        "        extBot = tuple(c[c[:, :, 1].argmax()][0])\n",
        "        ADD_PIXELS = add_pixels_value\n",
        "        new_img = img[extTop[1]-ADD_PIXELS:extBot[1]+ADD_PIXELS, extLeft[0]-ADD_PIXELS:extRight[0]+ADD_PIXELS].copy()\n",
        "        return Image.fromarray(new_img)\n",
        "            \n",
        "# class Flip(object):\n",
        "#     def __init__(self)    \n",
        "# Data trasform\n",
        "\n",
        "# Crop only\n",
        "transformsImg = transforms.Compose([\n",
        "    ImageEnhanced(),\n",
        "    transforms.ToTensor(),\n",
        "    transforms.Resize((224, 224), interpolation=InterpolationMode.BICUBIC),\n",
        "    transforms.RandomHorizontalFlip(),\n",
        "    transforms.RandomVerticalFlip(),\n",
        "    transforms.RandomResizedCrop((224,224),scale=(0.8,1.0),ratio=(0.9,1.1)),\n",
        "    transforms.Normalize(MEAN, STD)\n",
        "])\n",
        "\n",
        "test_transform = transforms.Compose([\n",
        "    ImageEnhanced(),\n",
        "    transforms.ToTensor(),\n",
        "    transforms.Resize((224, 224), interpolation=InterpolationMode.BICUBIC),\n",
        "    transforms.Normalize(MEAN, STD)\n",
        "])\n",
        "train_transform = transforms.Compose([\n",
        "    ImageEnhanced(),\n",
        "    transforms.ToTensor(),\n",
        "    transforms.Resize((224, 224), interpolation=InterpolationMode.BICUBIC),\n",
        "    transforms.RandomHorizontalFlip(),\n",
        "    transforms.RandomVerticalFlip(),\n",
        "    # transforms.ColorJitter(brightness=[0.1, 1.5]),\n",
        "    # transforms.RandomAffine(degrees=40, translate=None, shear=0.1, resample=False, fillcolor=0),\n",
        "    # transforms.ColorJitter(brightness=[0.1, 1.5]),\n",
        "    # transforms.RandomAffine(),\n",
        "    transforms.RandomResizedCrop((224,224),scale=(0.8,1.0),ratio=(0.9,1.1)),\n",
        "    transforms.Normalize(MEAN, STD)\n",
        "])\n",
        "\n",
        "# load data\n",
        "train_dataset = BrainTumor(root=TRAIN_DIR, transforms=train_transform)\n",
        "test_dataset = BrainTumor(TEST_DIR, transforms=test_transform)\n",
        "val_dataset = BrainTumor(VAL_DIR, transforms=test_transform)\n",
        "\n",
        "# data shape\n",
        "print(f\"train set :{train_dataset.data.shape}\")\n",
        "print(f\"test set: {test_dataset.data.shape}\")\n",
        "print(f\"val set: {val_dataset.data.shape}\")\n",
        "# # data loader\n",
        "train_loader = DataLoader(train_dataset, shuffle=True, batch_size=batch_size, drop_last=True)\n",
        "test_loader = DataLoader(test_dataset, shuffle=True, batch_size=batch_size, drop_last=False)\n",
        "val_loader = DataLoader(val_dataset, shuffle=True, batch_size=batch_size, drop_last=False)"
      ]
    },
    {
      "cell_type": "markdown",
      "metadata": {
        "id": "if_HkhVDLiw9"
      },
      "source": [
        "## Image visualization"
      ]
    },
    {
      "cell_type": "code",
      "execution_count": 108,
      "metadata": {
        "colab": {
          "base_uri": "https://localhost:8080/",
          "height": 154
        },
        "id": "7FEadKynLiw-",
        "outputId": "2d9751e3-8447-4096-c8b2-49591556b111"
      },
      "outputs": [
        {
          "output_type": "display_data",
          "data": {
            "text/plain": [
              "<Figure size 432x288 with 1 Axes>"
            ],
            "image/png": "[encoded data removed]"
          },
          "metadata": {
            "needs_background": "light"
          }
        },
        {
          "output_type": "stream",
          "name": "stdout",
          "text": [
            "Yes          No           Yes          Yes         \n"
          ]
        }
      ],
      "source": [
        "classes = ('No', 'Yes')\n",
        "NUM_IMGS = batch_size\n",
        "\n",
        "show_samples = iter(train_loader)\n",
        "images,labels = show_samples.next()\n",
        "\n",
        "imgs = torchvision.utils.make_grid(images, normalize=True, pad_value=0.5)\n",
        "\n",
        "# Convert images to a readable numpy for plt\n",
        "imgs = imgs.numpy()\n",
        "\n",
        "# Transform imgs to an array of images\n",
        "imgs = imgs.transpose((1,2,0))\n",
        "\n",
        "# Show images\n",
        "plt.imshow(imgs)\n",
        "plt.show()\n",
        "\n",
        "print(' '.join(f'{classes[labels[j]]:12s}' for j in range(NUM_IMGS)))"
      ]
    },
    {
      "cell_type": "markdown",
      "metadata": {
        "id": "AppJYBM7Liw-"
      },
      "source": [
        "## Pre-trained model"
      ]
    },
    {
      "cell_type": "code",
      "execution_count": 109,
      "metadata": {
        "id": "qqeT3psuLiw_",
        "colab": {
          "base_uri": "https://localhost:8080/"
        },
        "outputId": "752bb36a-abe7-4d14-8b14-4a3d6b662461"
      },
      "outputs": [
        {
          "output_type": "stream",
          "name": "stderr",
          "text": [
            "/usr/local/lib/python3.7/dist-packages/torchvision/models/_utils.py:209: UserWarning: The parameter 'pretrained' is deprecated since 0.13 and will be removed in 0.15, please use 'weights' instead.\n",
            "  f\"The parameter '{pretrained_param}' is deprecated since 0.13 and will be removed in 0.15, \"\n",
            "/usr/local/lib/python3.7/dist-packages/torchvision/models/_utils.py:223: UserWarning: Arguments other than a weight enum or `None` for 'weights' are deprecated since 0.13 and will be removed in 0.15. The current behavior is equivalent to passing `weights=VGG16_Weights.IMAGENET1K_V1`. You can also use `weights=VGG16_Weights.DEFAULT` to get the most up-to-date weights.\n",
            "  warnings.warn(msg)\n"
          ]
        },
        {
          "output_type": "stream",
          "name": "stdout",
          "text": [
            "Sequential(\n",
            "  (0): Linear(in_features=25088, out_features=4096, bias=True)\n",
            "  (1): ReLU(inplace=True)\n",
            "  (2): Dropout(p=0.5, inplace=False)\n",
            "  (3): Linear(in_features=4096, out_features=4096, bias=True)\n",
            "  (4): ReLU(inplace=True)\n",
            "  (5): Dropout(p=0.5, inplace=False)\n",
            "  (6): Linear(in_features=4096, out_features=2, bias=True)\n",
            ")\n"
          ]
        }
      ],
      "source": [
        "\n",
        "# Custom\n",
        "\n",
        "class VGG16(nn.Module):\n",
        "    def __init__(self):\n",
        "        super().__init__()\n",
        "        self.layer1 = nn.Sequential(\n",
        "            self.Conv(3, 64),\n",
        "            nn.BatchNorm2d(64),\n",
        "            nn.ReLU()\n",
        "        )\n",
        "        self.layer2 = nn.Sequential(\n",
        "            self.Conv(64, 64),\n",
        "            nn.BatchNorm2d(64),\n",
        "            nn.ReLU(),\n",
        "            nn.MaxPool2d((2,2))\n",
        "        )\n",
        "        self.layer3 = nn.Sequential(\n",
        "            self.Conv(64, 128),\n",
        "            nn.BatchNorm2d(128),\n",
        "            nn.ReLU())\n",
        "        self.layer4 = nn.Sequential(\n",
        "            self.Conv(128, 128),\n",
        "            nn.BatchNorm2d(128),\n",
        "            nn.ReLU(),\n",
        "            nn.MaxPool2d(2,2))\n",
        "        self.layer5 = nn.Sequential(\n",
        "            self.Conv(128, 256),\n",
        "            nn.BatchNorm2d(256),\n",
        "            nn.ReLU())\n",
        "        self.layer6 = nn.Sequential(\n",
        "            self.Conv(256, 256),\n",
        "            nn.BatchNorm2d(256),\n",
        "            nn.ReLU())\n",
        "        self.layer7 = nn.Sequential(\n",
        "            self.Conv(256, 256),\n",
        "            nn.BatchNorm2d(256),\n",
        "            nn.ReLU(),\n",
        "            nn.MaxPool2d(kernel_size = 2, stride = 2))\n",
        "        self.layer8 = nn.Sequential(\n",
        "            self.Conv(256, 512),\n",
        "            nn.BatchNorm2d(512),\n",
        "            nn.ReLU())\n",
        "        self.layer9 = nn.Sequential(\n",
        "            self.Conv(512, 512),\n",
        "            nn.BatchNorm2d(512),\n",
        "            nn.ReLU())\n",
        "        self.layer10 = nn.Sequential(\n",
        "            self.Conv(512, 512),\n",
        "            nn.BatchNorm2d(512),\n",
        "            nn.ReLU(),\n",
        "            nn.MaxPool2d(kernel_size = 2, stride = 2))\n",
        "        self.layer11 = nn.Sequential(\n",
        "            self.Conv(512, 512),\n",
        "            nn.BatchNorm2d(512),\n",
        "            nn.ReLU())\n",
        "        self.layer12 = nn.Sequential(\n",
        "            self.Conv(512, 512),\n",
        "            nn.BatchNorm2d(512),\n",
        "            nn.ReLU())\n",
        "        self.layer13 = nn.Sequential(\n",
        "            self.Conv(512, 512),\n",
        "            nn.BatchNorm2d(512),\n",
        "            nn.ReLU(),\n",
        "            nn.MaxPool2d(kernel_size = 2, stride = 2))\n",
        "        self.avgpool = nn.AdaptiveAvgPool2d(output_size=(7,7))\n",
        "        self.fc = nn.Sequential(\n",
        "            nn.Linear(7*7*512, 4096),\n",
        "            nn.ReLU())\n",
        "        self.fc1 = nn.Sequential(\n",
        "            nn.Dropout(0.5),\n",
        "            nn.Linear(4096, 4096),\n",
        "            nn.ReLU())\n",
        "        self.fc2= nn.Sequential(\n",
        "            nn.Dropout(0.5),\n",
        "            nn.Linear(4096, 2),\n",
        "            nn.Sigmoid())\n",
        "    def Conv(self, in_size, out_size):\n",
        "        return nn.Conv2d(in_size, out_size, kernel_size=(3, 3), stride=1, padding=1)\n",
        "    def forward(self, x):\n",
        "        out = self.layer1(x)\n",
        "        out = self.layer2(out)\n",
        "        out = self.layer3(out)\n",
        "        out = self.layer4(out)\n",
        "        out = self.layer5(out)\n",
        "        out = self.layer6(out)\n",
        "        out = self.layer7(out)\n",
        "        out = self.layer8(out)\n",
        "        out = self.layer9(out)\n",
        "        out = self.layer10(out)\n",
        "        out = self.layer11(out)\n",
        "        out = self.layer12(out)\n",
        "        out = self.layer13(out)\n",
        "        out = self.avgpool(out)\n",
        "        out = out.reshape(out.size(0), -1)\n",
        "        out = self.fc(out)\n",
        "        out = self.fc1(out)\n",
        "        out = self.fc2(out)\n",
        "\n",
        "# Using availabel VGG16\n",
        "model_ft = torchvision.models.vgg16(pretrained=True).to(device)\n",
        "# freeze convolution weights\n",
        "for param in model_ft.features.parameters():\n",
        "    param.requires_grad = False\n",
        "model_ft.classifier[6].out_features = 2\n",
        "# Add more layer to new model\n",
        "print(model_ft.classifier)\n",
        "# model_ft.classifier.append(\n",
        "#     nn.Conv2d(1000)\n",
        "# )\n",
        "\n",
        "criterion = nn.CrossEntropyLoss()\n",
        "\n",
        "# Observe that all parameters are being optimized\n",
        "optimizer = torch.optim.SGD(model_ft.classifier.parameters(), lr=learning_rate,weight_decay=0.0005, momentum=0.9)\n",
        "\n",
        "# Decay LR by a factor of 0.1 every 7 epochs\n",
        "exp_lr_scheduler = lr_scheduler.MultiStepLR(optimizer, \n",
        "                                           milestones=[20,40,60,80, 100], \n",
        "                                           gamma=0.2)\n",
        "\n"
      ]
    },
    {
      "cell_type": "markdown",
      "metadata": {
        "id": "AWrEkaGgLixA"
      },
      "source": [
        "## Training"
      ]
    },
    {
      "cell_type": "code",
      "execution_count": 110,
      "metadata": {
        "id": "JQlIhSR5LixA"
      },
      "outputs": [],
      "source": [
        "dataloaders = {'TRAIN':train_loader, 'VAL':val_loader}\n",
        "dataset_sizes = {'TRAIN':train_dataset.data.shape[0], 'VAL':test_dataset.data.shape[0]}\n",
        "min_valid_loss = np.inf\n",
        "# validation function\n",
        "def validate(model, test_dataloader):\n",
        "    model.eval()\n",
        "    val_running_loss = 0.0\n",
        "    val_running_correct = 0\n",
        "    n_samples = 0\n",
        "    for idx, (images, labels) in enumerate(test_dataloader):\n",
        "        images, labels = images.to(device), labels.to(device)\n",
        "        output = model(images)\n",
        "        loss = criterion(output, labels)\n",
        "        \n",
        "        val_running_loss += loss.item()\n",
        "        _, preds = torch.max(output, 1)\n",
        "        val_running_correct += (preds == labels).sum().item()\n",
        "        n_samples += labels.size(0)\n",
        "\n",
        "    # if min_valid_loss > val_loss:\n",
        "    #   print(f'Validation Loss Decreased({min_valid_loss:.6f}--->{val_loss:.6f}) \\t Saving The Model')\n",
        "    #   min_valid_loss = val_loss\n",
        "    #   torch.save(model.state_dict(), 'saved_model.pth')\n",
        "    val_loss = val_running_loss/n_samples\n",
        "    val_accuracy = 100. * val_running_correct/n_samples\n",
        "    print(f'Val Loss: {val_loss:.4f}, Val Acc: {val_accuracy:.2f}')\n",
        "\n",
        "    return val_loss, val_accuracy\n",
        "\n",
        "# training function\n",
        "def fit(model, train_dataloader):\n",
        "    model.train()\n",
        "    train_running_loss = 0.0\n",
        "    train_running_correct = 0\n",
        "    n_samples = 0\n",
        "    for i, (images, labels) in enumerate(train_dataloader):\n",
        "        images, labels = images.to(device), labels.to(device)\n",
        "        optimizer.zero_grad()\n",
        "        output = model(images)\n",
        "        loss = criterion(output, labels)\n",
        "        train_running_loss += loss.item()\n",
        "        _, preds = torch.max(output, 1)\n",
        "        train_running_correct += (preds == labels).sum().item()\n",
        "        loss.backward()\n",
        "        optimizer.step()\n",
        "        n_samples += labels.size(0)\n",
        "    train_loss = train_running_loss/n_samples\n",
        "    train_accuracy = 100. * train_running_correct/n_samples\n",
        "    print(f'Train Loss: {train_loss:.4f}, Train Acc: {train_accuracy:.2f}')\n",
        "    \n",
        "    return train_loss, train_accuracy"
      ]
    },
    {
      "cell_type": "code",
      "execution_count": 111,
      "metadata": {
        "colab": {
          "base_uri": "https://localhost:8080/"
        },
        "id": "m3sFwbW8VL1o",
        "outputId": "d6b66f75-59ef-4db0-bee4-feca1d2134ad"
      },
      "outputs": [
        {
          "output_type": "stream",
          "name": "stdout",
          "text": [
            "Epoch 1 / 100\n",
            "Train Loss: 0.5906, Train Acc: 49.44\n",
            "Val Loss: 0.3244, Val Acc: 70.59\n",
            "----------\n",
            "Epoch 2 / 100\n",
            "Train Loss: 0.3254, Train Acc: 62.78\n",
            "Val Loss: 0.0844, Val Acc: 84.31\n",
            "----------\n",
            "Epoch 3 / 100\n",
            "Train Loss: 0.2413, Train Acc: 72.78\n",
            "Val Loss: 0.0906, Val Acc: 86.27\n",
            "----------\n",
            "Epoch 4 / 100\n",
            "Train Loss: 0.2026, Train Acc: 77.22\n",
            "Val Loss: 0.0948, Val Acc: 86.27\n",
            "----------\n",
            "Epoch 5 / 100\n",
            "Train Loss: 0.2334, Train Acc: 72.78\n",
            "Val Loss: 0.0697, Val Acc: 88.24\n",
            "----------\n",
            "Epoch 6 / 100\n",
            "Train Loss: 0.1545, Train Acc: 80.56\n",
            "Val Loss: 0.1529, Val Acc: 76.47\n",
            "----------\n",
            "Epoch 7 / 100\n",
            "Train Loss: 0.1170, Train Acc: 84.44\n",
            "Val Loss: 0.0696, Val Acc: 90.20\n",
            "----------\n",
            "Epoch 8 / 100\n",
            "Train Loss: 0.1143, Train Acc: 86.67\n",
            "Val Loss: 0.0664, Val Acc: 86.27\n",
            "----------\n",
            "Epoch 9 / 100\n",
            "Train Loss: 0.0742, Train Acc: 87.78\n",
            "Val Loss: 0.0680, Val Acc: 92.16\n",
            "----------\n",
            "Epoch 10 / 100\n",
            "Train Loss: 0.1475, Train Acc: 81.11\n",
            "Val Loss: 0.1617, Val Acc: 82.35\n",
            "----------\n",
            "Epoch 11 / 100\n",
            "Train Loss: 0.1049, Train Acc: 87.22\n",
            "Val Loss: 0.1442, Val Acc: 88.24\n",
            "----------\n",
            "Epoch 12 / 100\n",
            "Train Loss: 0.0877, Train Acc: 86.67\n",
            "Val Loss: 0.0671, Val Acc: 90.20\n",
            "----------\n",
            "Epoch 13 / 100\n",
            "Train Loss: 0.0826, Train Acc: 91.11\n",
            "Val Loss: 0.0811, Val Acc: 90.20\n",
            "----------\n",
            "Epoch 14 / 100\n",
            "Train Loss: 0.0559, Train Acc: 91.67\n",
            "Val Loss: 0.0853, Val Acc: 88.24\n",
            "----------\n",
            "Epoch 15 / 100\n",
            "Train Loss: 0.0922, Train Acc: 86.11\n",
            "Val Loss: 0.0768, Val Acc: 90.20\n",
            "----------\n",
            "Epoch 16 / 100\n",
            "Train Loss: 0.0665, Train Acc: 88.33\n",
            "Val Loss: 0.0887, Val Acc: 88.24\n",
            "----------\n",
            "Epoch 17 / 100\n",
            "Train Loss: 0.0545, Train Acc: 90.56\n",
            "Val Loss: 0.0922, Val Acc: 88.24\n",
            "----------\n",
            "Epoch 18 / 100\n",
            "Train Loss: 0.0740, Train Acc: 89.44\n",
            "Val Loss: 0.0834, Val Acc: 88.24\n",
            "----------\n",
            "Epoch 19 / 100\n",
            "Train Loss: 0.0694, Train Acc: 90.00\n",
            "Val Loss: 0.0874, Val Acc: 90.20\n",
            "----------\n",
            "Epoch 20 / 100\n",
            "Train Loss: 0.0443, Train Acc: 93.33\n",
            "Val Loss: 0.1696, Val Acc: 90.20\n",
            "----------\n",
            "Epoch 21 / 100\n",
            "Train Loss: 0.0665, Train Acc: 90.56\n",
            "Val Loss: 0.1039, Val Acc: 88.24\n",
            "----------\n",
            "Epoch 22 / 100\n",
            "Train Loss: 0.1238, Train Acc: 87.22\n",
            "Val Loss: 0.0982, Val Acc: 86.27\n",
            "----------\n",
            "Epoch 23 / 100\n",
            "Train Loss: 0.0563, Train Acc: 93.89\n",
            "Val Loss: 0.0851, Val Acc: 84.31\n",
            "----------\n",
            "Epoch 24 / 100\n",
            "Train Loss: 0.0372, Train Acc: 93.89\n",
            "Val Loss: 0.1497, Val Acc: 88.24\n",
            "----------\n",
            "Epoch 25 / 100\n",
            "Train Loss: 0.0420, Train Acc: 94.44\n",
            "Val Loss: 0.0906, Val Acc: 88.24\n",
            "----------\n",
            "Epoch 26 / 100\n",
            "Train Loss: 0.0506, Train Acc: 95.56\n",
            "Val Loss: 0.0639, Val Acc: 90.20\n",
            "----------\n",
            "Epoch 27 / 100\n",
            "Train Loss: 0.0580, Train Acc: 89.44\n",
            "Val Loss: 0.0742, Val Acc: 86.27\n",
            "----------\n",
            "Epoch 28 / 100\n",
            "Train Loss: 0.0239, Train Acc: 96.11\n",
            "Val Loss: 0.1577, Val Acc: 86.27\n",
            "----------\n",
            "Epoch 29 / 100\n",
            "Train Loss: 0.0370, Train Acc: 96.11\n",
            "Val Loss: 0.0677, Val Acc: 90.20\n",
            "----------\n",
            "Epoch 30 / 100\n",
            "Train Loss: 0.0167, Train Acc: 97.78\n",
            "Val Loss: 0.2142, Val Acc: 82.35\n",
            "----------\n",
            "Epoch 31 / 100\n",
            "Train Loss: 0.0551, Train Acc: 93.89\n",
            "Val Loss: 0.1302, Val Acc: 90.20\n",
            "----------\n",
            "Epoch 32 / 100\n",
            "Train Loss: 0.0838, Train Acc: 87.22\n",
            "Val Loss: 0.0844, Val Acc: 90.20\n",
            "----------\n",
            "Epoch 33 / 100\n",
            "Train Loss: 0.0597, Train Acc: 91.67\n",
            "Val Loss: 0.1467, Val Acc: 92.16\n",
            "----------\n",
            "Epoch 34 / 100\n",
            "Train Loss: 0.0678, Train Acc: 91.11\n",
            "Val Loss: 0.0997, Val Acc: 90.20\n",
            "----------\n",
            "Epoch 35 / 100\n",
            "Train Loss: 0.0373, Train Acc: 94.44\n",
            "Val Loss: 0.0712, Val Acc: 90.20\n",
            "----------\n",
            "Epoch 36 / 100\n",
            "Train Loss: 0.0200, Train Acc: 97.22\n",
            "Val Loss: 0.1976, Val Acc: 86.27\n",
            "----------\n",
            "Epoch 37 / 100\n",
            "Train Loss: 0.0216, Train Acc: 97.22\n",
            "Val Loss: 0.1132, Val Acc: 86.27\n",
            "----------\n",
            "Epoch 38 / 100\n",
            "Train Loss: 0.0201, Train Acc: 97.22\n",
            "Val Loss: 0.1006, Val Acc: 92.16\n",
            "----------\n",
            "Epoch 39 / 100\n",
            "Train Loss: 0.0133, Train Acc: 98.33\n",
            "Val Loss: 0.1106, Val Acc: 92.16\n",
            "----------\n",
            "Epoch 40 / 100\n",
            "Train Loss: 0.0027, Train Acc: 100.00\n",
            "Val Loss: 0.1063, Val Acc: 92.16\n",
            "----------\n",
            "Epoch 41 / 100\n",
            "Train Loss: 0.0246, Train Acc: 96.11\n",
            "Val Loss: 0.1749, Val Acc: 86.27\n",
            "----------\n",
            "Epoch 42 / 100\n",
            "Train Loss: 0.0472, Train Acc: 93.33\n",
            "Val Loss: 0.2003, Val Acc: 88.24\n",
            "----------\n",
            "Epoch 43 / 100\n",
            "Train Loss: 0.0407, Train Acc: 92.78\n",
            "Val Loss: 0.0987, Val Acc: 90.20\n",
            "----------\n",
            "Epoch 44 / 100\n",
            "Train Loss: 0.0278, Train Acc: 97.78\n",
            "Val Loss: 0.1519, Val Acc: 88.24\n",
            "----------\n",
            "Epoch 45 / 100\n",
            "Train Loss: 0.0233, Train Acc: 97.22\n",
            "Val Loss: 0.2157, Val Acc: 86.27\n",
            "----------\n",
            "Epoch 46 / 100\n",
            "Train Loss: 0.0037, Train Acc: 99.44\n",
            "Val Loss: 0.1154, Val Acc: 92.16\n",
            "----------\n",
            "Epoch 47 / 100\n",
            "Train Loss: 0.0079, Train Acc: 98.89\n",
            "Val Loss: 0.1519, Val Acc: 90.20\n",
            "----------\n",
            "Epoch 48 / 100\n",
            "Train Loss: 0.0359, Train Acc: 96.67\n",
            "Val Loss: 0.0870, Val Acc: 92.16\n",
            "----------\n",
            "Epoch 49 / 100\n",
            "Train Loss: 0.0174, Train Acc: 97.78\n",
            "Val Loss: 0.0988, Val Acc: 86.27\n",
            "----------\n",
            "Epoch 50 / 100\n",
            "Train Loss: 0.0029, Train Acc: 100.00\n",
            "Val Loss: 0.0790, Val Acc: 86.27\n",
            "----------\n",
            "Epoch 51 / 100\n",
            "Train Loss: 0.0303, Train Acc: 93.89\n",
            "Val Loss: 0.0884, Val Acc: 92.16\n",
            "----------\n",
            "Epoch 52 / 100\n",
            "Train Loss: 0.0280, Train Acc: 97.22\n",
            "Val Loss: 0.0966, Val Acc: 90.20\n",
            "----------\n",
            "Epoch 53 / 100\n",
            "Train Loss: 0.0743, Train Acc: 93.89\n",
            "Val Loss: 0.0682, Val Acc: 96.08\n",
            "----------\n",
            "Epoch 54 / 100\n",
            "Train Loss: 0.0061, Train Acc: 98.89\n",
            "Val Loss: 0.0753, Val Acc: 90.20\n",
            "----------\n",
            "Epoch 55 / 100\n",
            "Train Loss: 0.0213, Train Acc: 98.33\n",
            "Val Loss: 0.0713, Val Acc: 90.20\n",
            "----------\n",
            "Epoch 56 / 100\n",
            "Train Loss: 0.0222, Train Acc: 98.33\n",
            "Val Loss: 0.0708, Val Acc: 92.16\n",
            "----------\n",
            "Epoch 57 / 100\n",
            "Train Loss: 0.0129, Train Acc: 98.89\n",
            "Val Loss: 0.1542, Val Acc: 86.27\n",
            "----------\n",
            "Epoch 58 / 100\n",
            "Train Loss: 0.0112, Train Acc: 98.89\n",
            "Val Loss: 0.1037, Val Acc: 86.27\n",
            "----------\n",
            "Epoch 59 / 100\n",
            "Train Loss: 0.0035, Train Acc: 100.00\n",
            "Val Loss: 0.1823, Val Acc: 86.27\n",
            "----------\n",
            "Epoch 60 / 100\n",
            "Train Loss: 0.0488, Train Acc: 94.44\n",
            "Val Loss: 0.0522, Val Acc: 94.12\n",
            "----------\n",
            "Epoch 61 / 100\n",
            "Train Loss: 0.0176, Train Acc: 96.67\n",
            "Val Loss: 0.1854, Val Acc: 84.31\n",
            "----------\n",
            "Epoch 62 / 100\n",
            "Train Loss: 0.0481, Train Acc: 95.56\n",
            "Val Loss: 0.0650, Val Acc: 92.16\n",
            "----------\n",
            "Epoch 63 / 100\n",
            "Train Loss: 0.0242, Train Acc: 97.22\n",
            "Val Loss: 0.0745, Val Acc: 90.20\n",
            "----------\n",
            "Epoch 64 / 100\n",
            "Train Loss: 0.0276, Train Acc: 96.11\n",
            "Val Loss: 0.1054, Val Acc: 90.20\n",
            "----------\n",
            "Epoch 65 / 100\n",
            "Train Loss: 0.0177, Train Acc: 97.22\n",
            "Val Loss: 0.0836, Val Acc: 92.16\n",
            "----------\n",
            "Epoch 66 / 100\n",
            "Train Loss: 0.0147, Train Acc: 98.33\n",
            "Val Loss: 0.1397, Val Acc: 92.16\n",
            "----------\n",
            "Epoch 67 / 100\n",
            "Train Loss: 0.0318, Train Acc: 96.67\n",
            "Val Loss: 0.1429, Val Acc: 90.20\n",
            "----------\n",
            "Epoch 68 / 100\n",
            "Train Loss: 0.0057, Train Acc: 98.89\n",
            "Val Loss: 0.1094, Val Acc: 88.24\n",
            "----------\n",
            "Epoch 69 / 100\n",
            "Train Loss: 0.0138, Train Acc: 98.89\n",
            "Val Loss: 0.0931, Val Acc: 92.16\n",
            "----------\n",
            "Epoch 70 / 100\n",
            "Train Loss: 0.0028, Train Acc: 100.00\n",
            "Val Loss: 0.1231, Val Acc: 88.24\n",
            "----------\n",
            "Epoch 71 / 100\n",
            "Train Loss: 0.0137, Train Acc: 96.67\n",
            "Val Loss: 0.1069, Val Acc: 90.20\n",
            "----------\n",
            "Epoch 72 / 100\n",
            "Train Loss: 0.0200, Train Acc: 98.33\n",
            "Val Loss: 0.0944, Val Acc: 90.20\n",
            "----------\n",
            "Epoch 73 / 100\n",
            "Train Loss: 0.0069, Train Acc: 98.89\n",
            "Val Loss: 0.0783, Val Acc: 92.16\n",
            "----------\n",
            "Epoch 74 / 100\n",
            "Train Loss: 0.0061, Train Acc: 98.33\n",
            "Val Loss: 0.0914, Val Acc: 88.24\n",
            "----------\n",
            "Epoch 75 / 100\n",
            "Train Loss: 0.0403, Train Acc: 96.11\n",
            "Val Loss: 0.0979, Val Acc: 88.24\n",
            "----------\n",
            "Epoch 76 / 100\n",
            "Train Loss: 0.0133, Train Acc: 98.33\n",
            "Val Loss: 0.0981, Val Acc: 92.16\n",
            "----------\n",
            "Epoch 77 / 100\n",
            "Train Loss: 0.0047, Train Acc: 98.89\n",
            "Val Loss: 0.1180, Val Acc: 92.16\n",
            "----------\n",
            "Epoch 78 / 100\n",
            "Train Loss: 0.1020, Train Acc: 92.78\n",
            "Val Loss: 0.5177, Val Acc: 78.43\n",
            "----------\n",
            "Epoch 79 / 100\n",
            "Train Loss: 0.0928, Train Acc: 92.22\n",
            "Val Loss: 0.0892, Val Acc: 90.20\n",
            "----------\n",
            "Epoch 80 / 100\n",
            "Train Loss: 0.0204, Train Acc: 97.78\n",
            "Val Loss: 0.1108, Val Acc: 88.24\n",
            "----------\n",
            "Epoch 81 / 100\n",
            "Train Loss: 0.0464, Train Acc: 95.00\n",
            "Val Loss: 0.1836, Val Acc: 84.31\n",
            "----------\n",
            "Epoch 82 / 100\n",
            "Train Loss: 0.0297, Train Acc: 96.67\n",
            "Val Loss: 0.0714, Val Acc: 92.16\n",
            "----------\n",
            "Epoch 83 / 100\n",
            "Train Loss: 0.0047, Train Acc: 98.89\n",
            "Val Loss: 0.0910, Val Acc: 86.27\n",
            "----------\n",
            "Epoch 84 / 100\n",
            "Train Loss: 0.0067, Train Acc: 98.89\n",
            "Val Loss: 0.0854, Val Acc: 92.16\n",
            "----------\n",
            "Epoch 85 / 100\n",
            "Train Loss: 0.0022, Train Acc: 100.00\n",
            "Val Loss: 0.1353, Val Acc: 90.20\n",
            "----------\n",
            "Epoch 86 / 100\n",
            "Train Loss: 0.0110, Train Acc: 98.33\n",
            "Val Loss: 0.1368, Val Acc: 94.12\n",
            "----------\n",
            "Epoch 87 / 100\n",
            "Train Loss: 0.0130, Train Acc: 98.89\n",
            "Val Loss: 0.1183, Val Acc: 90.20\n",
            "----------\n",
            "Epoch 88 / 100\n",
            "Train Loss: 0.0105, Train Acc: 98.33\n",
            "Val Loss: 0.1376, Val Acc: 92.16\n",
            "----------\n",
            "Epoch 89 / 100\n",
            "Train Loss: 0.0057, Train Acc: 98.33\n",
            "Val Loss: 0.1532, Val Acc: 92.16\n",
            "----------\n",
            "Epoch 90 / 100\n",
            "Train Loss: 0.0057, Train Acc: 99.44\n",
            "Val Loss: 0.1076, Val Acc: 92.16\n",
            "----------\n",
            "Epoch 91 / 100\n",
            "Train Loss: 0.0016, Train Acc: 99.44\n",
            "Val Loss: 0.1026, Val Acc: 92.16\n",
            "----------\n",
            "Epoch 92 / 100\n",
            "Train Loss: 0.0046, Train Acc: 99.44\n",
            "Val Loss: 0.1887, Val Acc: 88.24\n",
            "----------\n",
            "Epoch 93 / 100\n",
            "Train Loss: 0.0106, Train Acc: 97.78\n",
            "Val Loss: 0.1267, Val Acc: 90.20\n",
            "----------\n",
            "Epoch 94 / 100\n",
            "Train Loss: 0.0303, Train Acc: 96.11\n",
            "Val Loss: 0.1000, Val Acc: 92.16\n",
            "----------\n",
            "Epoch 95 / 100\n",
            "Train Loss: 0.0061, Train Acc: 99.44\n",
            "Val Loss: 0.1176, Val Acc: 90.20\n",
            "----------\n",
            "Epoch 96 / 100\n",
            "Train Loss: 0.0031, Train Acc: 99.44\n",
            "Val Loss: 0.1099, Val Acc: 90.20\n",
            "----------\n",
            "Epoch 97 / 100\n",
            "Train Loss: 0.0075, Train Acc: 98.33\n",
            "Val Loss: 0.1298, Val Acc: 90.20\n",
            "----------\n",
            "Epoch 98 / 100\n",
            "Train Loss: 0.0045, Train Acc: 99.44\n",
            "Val Loss: 0.1084, Val Acc: 90.20\n",
            "----------\n",
            "Epoch 99 / 100\n",
            "Train Loss: 0.0038, Train Acc: 99.44\n",
            "Val Loss: 0.1004, Val Acc: 90.20\n",
            "----------\n",
            "Epoch 100 / 100\n",
            "Train Loss: 0.0065, Train Acc: 97.78\n",
            "Val Loss: 0.1084, Val Acc: 92.16\n",
            "----------\n",
            "5.465723355611165 minutes\n"
          ]
        }
      ],
      "source": [
        "train_loss , train_accuracy = [], []\n",
        "val_loss , val_accuracy = [], []\n",
        "start = time.time()\n",
        "for epoch in range(num_epochs):\n",
        "    print(f\"Epoch {epoch + 1} / {num_epochs}\")\n",
        "    train_epoch_loss, train_epoch_accuracy = fit(model_ft, train_loader)\n",
        "    val_epoch_loss, val_epoch_accuracy = validate(model_ft, test_loader)\n",
        "    train_loss.append(train_epoch_loss)\n",
        "    train_accuracy.append(train_epoch_accuracy)\n",
        "    val_loss.append(val_epoch_loss)\n",
        "    val_accuracy.append(val_epoch_accuracy)\n",
        "    print(\"-\"*10)\n",
        "end = time.time()\n",
        "print((end-start)/60, 'minutes')"
      ]
    },
    {
      "cell_type": "code",
      "execution_count": 112,
      "metadata": {
        "colab": {
          "base_uri": "https://localhost:8080/"
        },
        "id": "eQC1cQ6tV2nX",
        "outputId": "0a143c5f-4543-4f13-e8f3-61840bb76474"
      },
      "outputs": [
        {
          "output_type": "stream",
          "name": "stdout",
          "text": [
            "Accuracy 92.15686274509804 %\n"
          ]
        }
      ],
      "source": [
        "# model_ft.load_state_dict(torch.load('./saved_model.pth'))\n",
        "model_ft.eval()\n",
        "with torch.no_grad():\n",
        "  n_correct = 0\n",
        "  n_samples = 0\n",
        "  for (images, labels) in test_loader:\n",
        "    images = images.to(device)\n",
        "    labels = labels.to(device)\n",
        "\n",
        "    outputs = model_ft(images)\n",
        "    _, pred = torch.max(outputs, 1)\n",
        "\n",
        "    n_correct += (pred == labels).sum().item()\n",
        "    n_samples += labels.size(0)\n",
        "\n",
        "  print(f\"Accuracy {n_correct / n_samples * 100} %\")\n",
        "\n"
      ]
    },
    {
      "cell_type": "code",
      "execution_count": 113,
      "metadata": {
        "colab": {
          "base_uri": "https://localhost:8080/",
          "height": 428
        },
        "id": "lkn5c_GJjUhU",
        "outputId": "916b32b2-8d57-4670-bae9-8670ce767110"
      },
      "outputs": [
        {
          "output_type": "display_data",
          "data": {
            "text/plain": [
              "<Figure size 720x504 with 1 Axes>"
            ],
            "image/png": "[encoded data removed]"
          },
          "metadata": {
            "needs_background": "light"
          }
        }
      ],
      "source": [
        "plt.figure(figsize=(10, 7))\n",
        "plt.plot(train_accuracy, color='green', label='train accuracy')\n",
        "plt.plot(val_accuracy, color='blue', label='validataion accuracy')\n",
        "plt.legend()\n",
        "plt.savefig('accuracy.png')\n",
        "plt.show()"
      ]
    },
    {
      "cell_type": "code",
      "execution_count": 114,
      "metadata": {
        "colab": {
          "base_uri": "https://localhost:8080/",
          "height": 428
        },
        "id": "mPOjEL7WjX48",
        "outputId": "44ad4a37-93c3-45da-dc08-e8f6b9fa5a9d"
      },
      "outputs": [
        {
          "output_type": "display_data",
          "data": {
            "text/plain": [
              "<Figure size 720x504 with 1 Axes>"
            ],
            "image/png": "[encoded data removed]"
          },
          "metadata": {
            "needs_background": "light"
          }
        }
      ],
      "source": [
        "plt.figure(figsize=(10, 7))\n",
        "plt.plot(train_loss, color='orange', label='train loss')\n",
        "plt.plot(val_loss, color='red', label='validataion loss')\n",
        "plt.legend()\n",
        "plt.savefig('loss.png')\n",
        "plt.show()"
      ]
    }
  ],
  "metadata": {
    "accelerator": "GPU",
    "colab": {
      "collapsed_sections": [],
      "name": "vgg_16.ipynb",
      "provenance": []
    },
    "gpuClass": "standard",
    "kernelspec": {
      "display_name": "Python 3.9.7 ('base')",
      "language": "python",
      "name": "python3"
    },
    "language_info": {
      "codemirror_mode": {
        "name": "ipython",
        "version": 3
      },
      "file_extension": ".py",
      "mimetype": "text/x-python",
      "name": "python",
      "nbconvert_exporter": "python",
      "pygments_lexer": "ipython3",
      "version": "3.9.7"
    },
    "orig_nbformat": 4,
    "vscode": {
      "interpreter": {
        "hash": "a99539085cd3bdd5c32c96cfbe8da0377cdfd87c78a129b6678f1e2495c8398d"
      }
    }
  },
  "nbformat": 4,
  "nbformat_minor": 0
}