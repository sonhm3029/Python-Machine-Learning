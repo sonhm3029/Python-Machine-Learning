{
 "cells": [
  {
   "cell_type": "markdown",
   "metadata": {},
   "source": [
    "# VGG-16\n",
    "\n",
    "![](../img/vgg16_1.png)\n",
    "\n",
    "\n",
    "![](../img/vgg16_2.png)\n",
    "\n",
    "Phân tích:\n",
    "\n",
    "- Convolutional layer: kích thước 3*3, padding=1, stride=1. Tại sao không ghi stride, padding mà vẫn biết? Vì mặc định sẽ là stride=1 và padding để cho output cùng width và height với input.\n",
    "- Pool/2 : max pooling layer với size 2*2\n",
    "- 3*3 conv, 64: thì 64 là số kernel áp dụng trong layer đấy, hay depth của output của layer đấy.\n",
    "- Càng các convolutional layer sau thì kích thước width, height càng giảm nhưng depth càng tăng.\n",
    "- Sau khá nhiều convolutional layer và pooling layer thì dữ liệu được flatten và cho vào fully connected layer.\n"
   ]
  },
  {
   "cell_type": "markdown",
   "metadata": {},
   "source": [
    "# Thực hiện VGG-16 cho bài taons Detect Brain Tumor"
   ]
  },
  {
   "cell_type": "code",
   "execution_count": 627,
   "metadata": {},
   "outputs": [],
   "source": [
    "import torch\n",
    "import torchvision\n",
    "import torch.nn as nn \n",
    "from torchvision import transforms, datasets\n",
    "from torch.utils.data import DataLoader, Dataset\n",
    "from torchvision.transforms import InterpolationMode\n",
    "import torchvision.transforms.functional as TF\n",
    "import numpy as np\n",
    "import cv2\n",
    "import os\n",
    "import imutils\n",
    "from PIL import Image\n",
    "import shutil\n",
    "os.environ[\"KMP_DUPLICATE_LIB_OK\"] = \"TRUE\"\n",
    "import matplotlib.pyplot as plt\n",
    "import tensorboard\n",
    "from torch.utils.tensorboard import SummaryWriter\n",
    "\n",
    "writer = SummaryWriter('runs/brain_tumor')"
   ]
  },
  {
   "cell_type": "markdown",
   "metadata": {},
   "source": [
    "## Abstract\n",
    "\n",
    "A brain tumor is a distorted tissue wherein cells replicate rapidly and indefinitely, with\n",
    "no control over tumor growth. Deep learning has been argued to have the potential to overcome\n",
    "the challenges associated with detecting and intervening in brain tumors. It is well established\n",
    "that the segmentation method can be used to remove abnormal tumor regions from the brain, as\n",
    "this is one of the advanced technological classification and detection tools. In the case of brain\n",
    "tumors, early disease detection can be achieved effectively using reliable advanced A.I. and Neural\n",
    "Network classification algorithms. This study aimed to critically analyze the proposed literature\n",
    "solutions, use the Visual Geometry Group (VGG 16) for discovering brain tumors, implement a\n",
    "convolutional neural network (CNN) model framework, and set parameters to train the model for\n",
    "this challenge. VGG is used as one of the highest-performing CNN models because of its simplicity.\n",
    "Furthermore, the study developed an effective approach to detect brain tumors using MRI to aid\n",
    "in making quick, efficient, and precise decisions. Faster CNN used the VGG 16 architecture as a\n",
    "primary network to generate convolutional feature maps, then classified these to yield tumor region\n",
    "suggestions. The prediction accuracy was used to assess performance. Our suggested methodology\n",
    "was evaluated on a dataset for brain tumor diagnosis using MR images comprising 253 MRI brain\n",
    "images, with 155 showing tumors. Our approach could identify brain tumors in MR images. In the\n",
    "testing data, the algorithm outperformed the current conventional approaches for detecting brain\n",
    "tumors (Precision = 96%, 98.15%, 98.41% and F1-score = 91.78%, 92.6% and 91.29% respectively) and\n",
    "achieved an excellent accuracy of CNN 96%, VGG 16 98.5% and Ensemble Model 98.14%. The study\n",
    "also presents future recommendations regarding the proposed research work.\n",
    "\n",
    "## VGG-16\n",
    "\n",
    "![](../img/vgg_16.png)"
   ]
  },
  {
   "cell_type": "markdown",
   "metadata": {},
   "source": [
    "## Setup device"
   ]
  },
  {
   "cell_type": "code",
   "execution_count": 628,
   "metadata": {},
   "outputs": [],
   "source": [
    "device = torch.device('cuda' if torch.cuda.is_available() else 'cpu')"
   ]
  },
  {
   "cell_type": "markdown",
   "metadata": {},
   "source": [
    "## Data import and Preprocessing"
   ]
  },
  {
   "cell_type": "code",
   "execution_count": 629,
   "metadata": {},
   "outputs": [
    {
     "name": "stdout",
     "output_type": "stream",
     "text": [
      "NEW files created!\n",
      "Successfully migrated data\n"
     ]
    }
   ],
   "source": [
    "listFolder = [\"TRAIN/YES\", \"TRAIN/NO\", \"TEST/YES\", \"TEST/NO\", \"VAL/YES\", \"VAL/NO\"]\n",
    "for folder in listFolder:\n",
    "    DIR = f\"./data/brain_tumor_dataset/{folder}\"\n",
    "    if not os.path.exists(DIR):\n",
    "        os.mkdir(DIR)\n",
    "        \n",
    "# clean old data\n",
    "for folder in listFolder:\n",
    "    DIR = f\"./data/brain_tumor_dataset/{folder}\"\n",
    "    for file in os.listdir(DIR):\n",
    "        os.remove(f\"{DIR}/{file}\")\n",
    "\n",
    "print(\"NEW files created!\")\n",
    "\n",
    "\n",
    "# Preparing folder data and train, test, val set\n",
    "IMG_PATH = 'data/brain_tumor_dataset/'\n",
    "\n",
    "for CLASS in os.listdir(IMG_PATH):\n",
    "    if not CLASS.startswith(\".\") and CLASS !='TEST' and CLASS !='TRAIN' and CLASS !='VAL':\n",
    "        IMG_NUM = len(os.listdir(IMG_PATH + CLASS))\n",
    "        for (n, FILE_NAME) in enumerate(os.listdir(IMG_PATH + CLASS)):\n",
    "            img = IMG_PATH + CLASS + '/' + FILE_NAME\n",
    "            # split data 30 % for test\n",
    "            if n< 0.3*IMG_NUM:\n",
    "                shutil.copy(img, IMG_PATH +\"TEST/\" + CLASS.upper() + '/' + FILE_NAME)\n",
    "            # split data 60% for training\n",
    "            elif n< IMG_NUM*0.9:\n",
    "                shutil.copy(img, IMG_PATH +\"TRAIN/\"+ CLASS.upper() + '/' + FILE_NAME)\n",
    "            # the rest is for validation\n",
    "            else:\n",
    "                shutil.copy(img, IMG_PATH +\"VAL/\" + CLASS.upper() + '/' + FILE_NAME)\n",
    "\n",
    "print(\"Successfully migrated data\")"
   ]
  },
  {
   "cell_type": "markdown",
   "metadata": {},
   "source": [
    "## Hyper parameters"
   ]
  },
  {
   "cell_type": "code",
   "execution_count": 630,
   "metadata": {},
   "outputs": [],
   "source": [
    "num_epochs = 10\n",
    "batch_size = 4\n",
    "learning_rate = 1e-3"
   ]
  },
  {
   "cell_type": "markdown",
   "metadata": {},
   "source": [
    "## Load data"
   ]
  },
  {
   "cell_type": "code",
   "execution_count": 631,
   "metadata": {},
   "outputs": [
    {
     "data": {
      "text/plain": [
       "(array([0.22848128, 0.22868439, 0.22845893]),\n",
       " array([0.2244089 , 0.22435379, 0.22396011]))"
      ]
     },
     "execution_count": 631,
     "metadata": {},
     "output_type": "execute_result"
    }
   ],
   "source": [
    "TRAIN_DIR = './data/brain_tumor_dataset/TRAIN'\n",
    "TEST_DIR = './data/brain_tumor_dataset/TEST'\n",
    "VAL_DIR = './data/brain_tumor_dataset/VAL'\n",
    "IMG_SIZE = (224, 224)\n",
    "\n",
    "# Take Mean and std\n",
    "samples_set = datasets.ImageFolder(TRAIN_DIR, transform=transforms.Resize((224, 224)))\n",
    "\n",
    "def readToNumpy(imagesSet):\n",
    "    listImgs = []\n",
    "    for img_path in imagesSet:\n",
    "        img = cv2.imread(img_path[0])\n",
    "        listImgs.append(cv2.resize(img, (224, 224), interpolation = cv2.INTER_AREA))\n",
    "    return np.array(listImgs)\n",
    "\n",
    "listImgs = readToNumpy(samples_set.imgs)\n",
    "\n",
    "MEAN = (listImgs/255.0).mean((0,1,2))\n",
    "STD = (listImgs /255.0).std((0,1,2))\n",
    "\n",
    "MEAN, STD"
   ]
  },
  {
   "cell_type": "code",
   "execution_count": 632,
   "metadata": {},
   "outputs": [],
   "source": [
    "# This line of code is to auto completion of code using key \"Tab\". Just make coding faster ^^! \n",
    "# I read from this post \"https://www.kaggle.com/getting-started/51622\"\n",
    "%config Completer.use_jedi = False"
   ]
  },
  {
   "cell_type": "markdown",
   "metadata": {},
   "source": [
    "## Custom Dataset"
   ]
  },
  {
   "cell_type": "code",
   "execution_count": 633,
   "metadata": {},
   "outputs": [],
   "source": [
    "class BrainTumor(Dataset):\n",
    "    def __init__(self, root, transforms=None):\n",
    "        imageData = datasets.ImageFolder(root)\n",
    "        self.n_samples = len(imageData.imgs)  \n",
    "        self.data = np.array([cv2.imread(img_path[0]) for img_path in imageData.imgs])\n",
    "        self.targets = np.array(imageData.targets)\n",
    "        self.classes = imageData.classes\n",
    "        self.transforms = transforms\n",
    "    def __len__(self):\n",
    "        return self.n_samples\n",
    "    def __getitem__(self, index):\n",
    "        x = self.data[index]\n",
    "        # print(self.data[index].shape, self.targets[index].shape)\n",
    "        if self.transforms:\n",
    "            x = self.transforms(x)\n",
    "            # change = self.transforms(self.data[index])\n",
    "            # sample = change, self.targets[index]\n",
    "        return x,  self.targets[index]"
   ]
  },
  {
   "cell_type": "code",
   "execution_count": 634,
   "metadata": {},
   "outputs": [],
   "source": [
    "def plot_samples(X, y, labels_dict, n=50):\n",
    "    \"\"\"\n",
    "    Creates a gridplot for desired number of images (n) from the specified set\n",
    "    \"\"\"\n",
    "    for index in range(len(labels_dict)):\n",
    "        imgs = X[np.argwhere(y == index)][:n]\n",
    "        j = 10\n",
    "        i = int(n/j)\n",
    "\n",
    "        plt.figure(figsize=(15,6))\n",
    "        c = 1\n",
    "        for img in imgs:\n",
    "            plt.subplot(i,j,c)\n",
    "            plt.imshow(img[0])\n",
    "\n",
    "            plt.xticks([])\n",
    "            plt.yticks([])\n",
    "            c += 1\n",
    "        plt.suptitle('Tumor: {}'.format(labels_dict[index]))\n",
    "        plt.show()"
   ]
  },
  {
   "cell_type": "markdown",
   "metadata": {},
   "source": [
    "## Preprocessing data"
   ]
  },
  {
   "cell_type": "code",
   "execution_count": 635,
   "metadata": {},
   "outputs": [
    {
     "name": "stderr",
     "output_type": "stream",
     "text": [
      "C:\\Users\\pC\\AppData\\Local\\Temp/ipykernel_3212/1529050940.py:5: VisibleDeprecationWarning: Creating an ndarray from ragged nested sequences (which is a list-or-tuple of lists-or-tuples-or ndarrays with different lengths or shapes) is deprecated. If you meant to do this, you must specify 'dtype=object' when creating the ndarray.\n",
      "  self.data = np.array([cv2.imread(img_path[0]) for img_path in imageData.imgs])\n"
     ]
    }
   ],
   "source": [
    "from cProfile import label\n",
    "\n",
    "\n",
    "class ImageEnhanced(object):\n",
    "    \"\"\"_summary_\n",
    "    transform to enhanced image quality for prediction \n",
    "    \"\"\"\n",
    "    def __init__(self):\n",
    "        pass\n",
    "    def __call__(self, img ,add_pixels_value = 0):\n",
    "        \n",
    "        gray = cv2.cvtColor(img, cv2.COLOR_RGB2GRAY)\n",
    "        gray = cv2.GaussianBlur(gray, (5, 5), 0)\n",
    "        # threshold the image, then perform a series of erosions +\n",
    "        # dilations to remove any small regions of noise\n",
    "        thresh = cv2.threshold(gray, 45, 255, cv2.THRESH_BINARY)[1]\n",
    "        thresh = cv2.erode(thresh, None, iterations=2)\n",
    "        thresh = cv2.dilate(thresh, None, iterations=2)\n",
    "        # find contours in thresholded image, then grab the largest one\n",
    "        cnts = cv2.findContours(thresh.copy(), cv2.RETR_EXTERNAL, cv2.CHAIN_APPROX_SIMPLE)\n",
    "        cnts = imutils.grab_contours(cnts)\n",
    "        c = max(cnts, key=cv2.contourArea)\n",
    "        # find the extreme points\n",
    "        extLeft = tuple(c[c[:, :, 0].argmin()][0])\n",
    "        extRight = tuple(c[c[:, :, 0].argmax()][0])\n",
    "        extTop = tuple(c[c[:, :, 1].argmin()][0])\n",
    "        extBot = tuple(c[c[:, :, 1].argmax()][0])\n",
    "        ADD_PIXELS = add_pixels_value\n",
    "        new_img = img[extTop[1]-ADD_PIXELS:extBot[1]+ADD_PIXELS, extLeft[0]-ADD_PIXELS:extRight[0]+ADD_PIXELS].copy()\n",
    "        return Image.fromarray(new_img)\n",
    "            \n",
    "    \n",
    "# Data trasform\n",
    "\n",
    "# Crop only\n",
    "transformsImg = transforms.Compose([\n",
    "    ImageEnhanced(),\n",
    "    transforms.ToTensor(),\n",
    "    transforms.Resize((224, 224), interpolation=InterpolationMode.BICUBIC),\n",
    "    transforms.RandomHorizontalFlip(),\n",
    "    transforms.RandomVerticalFlip(),\n",
    "    transforms.RandomResizedCrop((224,224),scale=(0.8,1.0),ratio=(0.9,1.1)),\n",
    "    transforms.Normalize(MEAN, STD)\n",
    "])\n",
    "\n",
    "test_transform = transforms.Compose([\n",
    "    ImageEnhanced(),\n",
    "    transforms.ToTensor(),\n",
    "    transforms.Resize((224, 224), interpolation=InterpolationMode.BICUBIC),\n",
    "    transforms.Normalize(MEAN, STD)\n",
    "])\n",
    "train_transform = transforms.Compose([\n",
    "    ImageEnhanced(),\n",
    "    transforms.ToTensor(),\n",
    "    transforms.Resize((224, 224), interpolation=InterpolationMode.BICUBIC),\n",
    "    transforms.RandomHorizontalFlip(),\n",
    "    transforms.RandomVerticalFlip(),\n",
    "    transforms.RandomResizedCrop((224,224),scale=(0.8,1.0),ratio=(0.9,1.1)),\n",
    "    transforms.Normalize(MEAN, STD)\n",
    "])\n",
    "\n",
    "# load data\n",
    "train_dataset = BrainTumor(root=TRAIN_DIR, transforms=train_transform)\n",
    "test_dataset = BrainTumor(TEST_DIR, transforms=test_transform)\n",
    "val_dataset = BrainTumor(VAL_DIR, transforms=test_transform)\n",
    "# # data loader\n",
    "train_loader = DataLoader(train_dataset, shuffle=True, batch_size=batch_size, drop_last=True)\n",
    "test_loader = DataLoader(test_dataset, shuffle=True, batch_size=batch_size, drop_last=False)\n",
    "val_loader = DataLoader(val_dataset, shuffle=True, batch_size=batch_size, drop_last=False)"
   ]
  },
  {
   "cell_type": "markdown",
   "metadata": {},
   "source": [
    "## Image visualization"
   ]
  },
  {
   "cell_type": "code",
   "execution_count": 636,
   "metadata": {},
   "outputs": [
    {
     "data": {
      "image/png": "[encoded data removed]",
      "text/plain": [
       "<Figure size 432x288 with 1 Axes>"
      ]
     },
     "metadata": {
      "needs_background": "light"
     },
     "output_type": "display_data"
    },
    {
     "name": "stdout",
     "output_type": "stream",
     "text": [
      "Yes          Yes          No           No          \n"
     ]
    }
   ],
   "source": [
    "classes = ('No', 'Yes')\n",
    "NUM_IMGS = batch_size\n",
    "\n",
    "show_samples = iter(train_loader)\n",
    "images,labels = show_samples.next()\n",
    "\n",
    "imgs = torchvision.utils.make_grid(images, normalize=True, pad_value=0.5)\n",
    "\n",
    "# Convert images to a readable numpy for plt\n",
    "imgs = imgs.numpy()\n",
    "\n",
    "# Transform imgs to an array of images\n",
    "imgs = imgs.transpose((1,2,0))\n",
    "\n",
    "# Show images\n",
    "plt.imshow(imgs)\n",
    "plt.show()\n",
    "\n",
    "print(' '.join(f'{classes[labels[j]]:12s}' for j in range(NUM_IMGS)))"
   ]
  }
 ],
 "metadata": {
  "kernelspec": {
   "display_name": "Python 3.9.7 ('base')",
   "language": "python",
   "name": "python3"
  },
  "language_info": {
   "codemirror_mode": {
    "name": "ipython",
    "version": 3
   },
   "file_extension": ".py",
   "mimetype": "text/x-python",
   "name": "python",
   "nbconvert_exporter": "python",
   "pygments_lexer": "ipython3",
   "version": "3.9.7"
  },
  "orig_nbformat": 4,
  "vscode": {
   "interpreter": {
    "hash": "a99539085cd3bdd5c32c96cfbe8da0377cdfd87c78a129b6678f1e2495c8398d"
   }
  }
 },
 "nbformat": 4,
 "nbformat_minor": 2
}
