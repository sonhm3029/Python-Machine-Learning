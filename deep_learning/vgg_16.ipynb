{
 "cells": [
  {
   "cell_type": "markdown",
   "metadata": {},
   "source": [
    "# VGG-16\n",
    "\n",
    "![](../img/vgg16_1.png)\n",
    "\n",
    "\n",
    "![](../img/vgg16_2.png)\n",
    "\n",
    "Phân tích:\n",
    "\n",
    "- Convolutional layer: kích thước 3*3, padding=1, stride=1. Tại sao không ghi stride, padding mà vẫn biết? Vì mặc định sẽ là stride=1 và padding để cho output cùng width và height với input.\n",
    "- Pool/2 : max pooling layer với size 2*2\n",
    "- 3*3 conv, 64: thì 64 là số kernel áp dụng trong layer đấy, hay depth của output của layer đấy.\n",
    "- Càng các convolutional layer sau thì kích thước width, height càng giảm nhưng depth càng tăng.\n",
    "- Sau khá nhiều convolutional layer và pooling layer thì dữ liệu được flatten và cho vào fully connected layer.\n"
   ]
  }
 ],
 "metadata": {
  "kernelspec": {
   "display_name": "Python 3.9.6 64-bit",
   "language": "python",
   "name": "python3"
  },
  "language_info": {
   "name": "python",
   "version": "3.9.6"
  },
  "orig_nbformat": 4,
  "vscode": {
   "interpreter": {
    "hash": "c2fce2166ecf35e10e9706810c05663b0d742ad8d6d30f48ef9e954a1f466467"
   }
  }
 },
 "nbformat": 4,
 "nbformat_minor": 2
}
